{
 "cells": [
  {
   "cell_type": "code",
   "execution_count": 100,
   "metadata": {},
   "outputs": [],
   "source": [
    "import pandas as pd\n",
    "import numpy as np\n",
    "from datetime import timedelta\n",
    "import seaborn as sns\n",
    "import matplotlib.pyplot as plt\n",
    "import plotly.express as px\n",
    "%matplotlib inline"
   ]
  },
  {
   "cell_type": "markdown",
   "metadata": {},
   "source": [
    "# Описание данных\n",
    "\n",
    "## olist_customers_dataset.csv — таблица с уникальными идентификаторами пользователей\n",
    "\n",
    "customer_id — позаказный идентификатор пользователя\n",
    "\n",
    "customer_unique_id —  уникальный идентификатор пользователя  (аналог номера паспорта)\n",
    "\n",
    "customer_zip_code_prefix —  почтовый индекс пользователя\n",
    "\n",
    "customer_city —  город доставки пользователя\n",
    "\n",
    "customer_state —  штат доставки пользователя\n",
    "\n",
    "## olist_orders_dataset.csv —  таблица заказов\n",
    "\n",
    "order_id —  уникальный идентификатор заказа (номер чека)\n",
    "\n",
    "customer_id —  позаказный идентификатор пользователя\n",
    "\n",
    "order_status —  статус заказа\n",
    "\n",
    "order_purchase_timestamp —  время создания заказа\n",
    "\n",
    "order_approved_at —  время подтверждения оплаты заказа\n",
    "\n",
    "order_delivered_carrier_date —  время передачи заказа в логистическую службу\n",
    "\n",
    "order_delivered_customer_date —  время доставки заказа\n",
    "\n",
    "order_estimated_delivery_date —  обещанная дата доставки\n",
    "\n",
    "## olist_order_items_dataset.csv —  товарные позиции, входящие в заказы\n",
    "\n",
    "order_id —  уникальный идентификатор заказа (номер чека)\n",
    "\n",
    "order_item_id —  идентификатор товара внутри одного заказа\n",
    "\n",
    "product_id —  ид товара (аналог штрихкода)\n",
    "\n",
    "seller_id — ид производителя товара\n",
    "\n",
    "shipping_limit_date —  максимальная дата доставки продавцом для передачи заказа партнеру по логистике\n",
    "\n",
    "price —  цена за единицу товара\n",
    "\n",
    "freight_value —  вес товара"
   ]
  },
  {
   "cell_type": "code",
   "execution_count": 101,
   "metadata": {},
   "outputs": [],
   "source": [
    "# Считываем данные\n",
    "customers = pd.read_csv('/mnt/HC_Volume_18315164/home-jupyter/jupyter-k-nekrasova/Project/olist_customers_dataset.csv')\n",
    "orders = pd.read_csv('/mnt/HC_Volume_18315164/home-jupyter/jupyter-k-nekrasova/Project/olist_orders_dataset.csv', \n",
    "parse_dates = ['order_purchase_timestamp', 'order_approved_at','order_delivered_carrier_date', 'order_delivered_customer_date', 'order_estimated_delivery_date'])\n",
    "order_items = pd.read_csv('/mnt/HC_Volume_18315164/home-jupyter/jupyter-k-nekrasova/Project/olist_order_items_dataset.csv', parse_dates = ['shipping_limit_date'])"
   ]
  },
  {
   "cell_type": "markdown",
   "metadata": {},
   "source": [
    "## 1. Сколько у нас пользователей, которые совершили покупку только один раз? "
   ]
  },
  {
   "cell_type": "markdown",
   "metadata": {},
   "source": [
    "Для решения задачи проведи предварительное исследование данных и сформулируй, что должно считаться покупкой. Обосновать свой выбор ты можешь с помощью фактов оплат, статусов заказов и других имеющихся данных"
   ]
  },
  {
   "cell_type": "markdown",
   "metadata": {},
   "source": [
    "## Уникальные статусы заказов в таблице olist_orders_dataset:\n",
    "\n",
    "created —  создан\n",
    "\n",
    "approved —  подтверждён\n",
    "\n",
    "invoiced —  выставлен счёт\n",
    "\n",
    "processing —  в процессе сборки заказа\n",
    "\n",
    "shipped —  отгружен со склада\n",
    "\n",
    "delivered —  доставлен пользователю\n",
    "\n",
    "unavailable —  недоступен\n",
    "\n",
    "canceled —  отменён"
   ]
  },
  {
   "cell_type": "markdown",
   "metadata": {},
   "source": [
    "Для начала определимся, что можно считать покупкой.\n",
    "По моему мнению только заказы со статусом *delivered* можно считать покупкой, так как товар уже принят клиентом. Исходя из данных об отмененных заказах (canceled), заказ может быть отменен после передачи заказа в логистическую службу или даже после доставки заказа. Соответесвтенно денежные средсвта будут возвращены клиенту, магазин не заработает, эти заказы уже не считаются за покупку. Cтатус shipped мы не рассматриваем по этой же причине. Заказы со статусом unavailble скорее всего представляют собой заказы, которые после проведения оплаты были отменены и в данный момент они в промежуточном статусе - деньги еще не вернули, но и доставлять товар уже не будут. Поэтому их можно отнести к статусу canceled."
   ]
  },
  {
   "cell_type": "code",
   "execution_count": 102,
   "metadata": {},
   "outputs": [
    {
     "data": {
      "text/plain": [
       "delivered      96478\n",
       "shipped         1107\n",
       "canceled         625\n",
       "unavailable      609\n",
       "invoiced         314\n",
       "processing       301\n",
       "created            5\n",
       "approved           2\n",
       "Name: order_status, dtype: int64"
      ]
     },
     "execution_count": 102,
     "metadata": {},
     "output_type": "execute_result"
    }
   ],
   "source": [
    "# Посмотрим, какие статусы заказов есть в таблице\n",
    "orders.order_status.value_counts()"
   ]
  },
  {
   "cell_type": "code",
   "execution_count": 103,
   "metadata": {},
   "outputs": [
    {
     "data": {
      "text/html": [
       "<div>\n",
       "<style scoped>\n",
       "    .dataframe tbody tr th:only-of-type {\n",
       "        vertical-align: middle;\n",
       "    }\n",
       "\n",
       "    .dataframe tbody tr th {\n",
       "        vertical-align: top;\n",
       "    }\n",
       "\n",
       "    .dataframe thead th {\n",
       "        text-align: right;\n",
       "    }\n",
       "</style>\n",
       "<table border=\"1\" class=\"dataframe\">\n",
       "  <thead>\n",
       "    <tr style=\"text-align: right;\">\n",
       "      <th></th>\n",
       "      <th>order_id</th>\n",
       "      <th>customer_id</th>\n",
       "      <th>order_status</th>\n",
       "      <th>order_purchase_timestamp</th>\n",
       "      <th>order_approved_at</th>\n",
       "      <th>order_delivered_carrier_date</th>\n",
       "      <th>order_delivered_customer_date</th>\n",
       "      <th>order_estimated_delivery_date</th>\n",
       "    </tr>\n",
       "  </thead>\n",
       "  <tbody>\n",
       "    <tr>\n",
       "      <th>613</th>\n",
       "      <td>714fb133a6730ab81fa1d3c1b2007291</td>\n",
       "      <td>e3fe72696c4713d64d3c10afe71e75ed</td>\n",
       "      <td>canceled</td>\n",
       "      <td>2018-01-26 21:34:08</td>\n",
       "      <td>2018-01-26 21:58:39</td>\n",
       "      <td>2018-01-29 22:33:25</td>\n",
       "      <td>NaT</td>\n",
       "      <td>2018-02-22</td>\n",
       "    </tr>\n",
       "    <tr>\n",
       "      <th>1058</th>\n",
       "      <td>3a129877493c8189c59c60eb71d97c29</td>\n",
       "      <td>0913cdce793684e52bbfac69d87e91fd</td>\n",
       "      <td>canceled</td>\n",
       "      <td>2018-01-25 13:34:24</td>\n",
       "      <td>2018-01-25 13:50:20</td>\n",
       "      <td>2018-01-26 21:42:18</td>\n",
       "      <td>NaT</td>\n",
       "      <td>2018-02-23</td>\n",
       "    </tr>\n",
       "    <tr>\n",
       "      <th>2921</th>\n",
       "      <td>1950d777989f6a877539f53795b4c3c3</td>\n",
       "      <td>1bccb206de9f0f25adc6871a1bcf77b2</td>\n",
       "      <td>canceled</td>\n",
       "      <td>2018-02-19 19:48:52</td>\n",
       "      <td>2018-02-19 20:56:05</td>\n",
       "      <td>2018-02-20 19:57:13</td>\n",
       "      <td>2018-03-21 22:03:51</td>\n",
       "      <td>2018-03-09</td>\n",
       "    </tr>\n",
       "    <tr>\n",
       "      <th>5127</th>\n",
       "      <td>8a9cce19aa49e055f2babb81d5a71c40</td>\n",
       "      <td>f2676ef361959c938b35ecd32321adce</td>\n",
       "      <td>canceled</td>\n",
       "      <td>2018-02-01 10:04:20</td>\n",
       "      <td>2018-02-03 02:52:42</td>\n",
       "      <td>2018-02-05 20:41:28</td>\n",
       "      <td>NaT</td>\n",
       "      <td>2018-02-23</td>\n",
       "    </tr>\n",
       "    <tr>\n",
       "      <th>5449</th>\n",
       "      <td>c1049eef89915c6beb3604bf3d6588d7</td>\n",
       "      <td>ed16865bcadcea1a00a928bf418a74bf</td>\n",
       "      <td>canceled</td>\n",
       "      <td>2018-02-05 23:08:11</td>\n",
       "      <td>2018-02-05 23:29:26</td>\n",
       "      <td>2018-02-09 22:13:01</td>\n",
       "      <td>NaT</td>\n",
       "      <td>2018-03-07</td>\n",
       "    </tr>\n",
       "    <tr>\n",
       "      <th>...</th>\n",
       "      <td>...</td>\n",
       "      <td>...</td>\n",
       "      <td>...</td>\n",
       "      <td>...</td>\n",
       "      <td>...</td>\n",
       "      <td>...</td>\n",
       "      <td>...</td>\n",
       "      <td>...</td>\n",
       "    </tr>\n",
       "    <tr>\n",
       "      <th>94175</th>\n",
       "      <td>c9f06c1229ec7cd4ec9aed55d434b499</td>\n",
       "      <td>fa89053140d09081b3a3a4608a74c083</td>\n",
       "      <td>canceled</td>\n",
       "      <td>2018-02-05 20:26:29</td>\n",
       "      <td>2018-02-05 20:49:48</td>\n",
       "      <td>2018-02-06 19:49:32</td>\n",
       "      <td>NaT</td>\n",
       "      <td>2018-03-01</td>\n",
       "    </tr>\n",
       "    <tr>\n",
       "      <th>94399</th>\n",
       "      <td>2c45c33d2f9cb8ff8b1c86cc28c11c30</td>\n",
       "      <td>de4caa97afa80c8eeac2ff4c8da5b72e</td>\n",
       "      <td>canceled</td>\n",
       "      <td>2016-10-09 15:39:56</td>\n",
       "      <td>2016-10-10 10:40:49</td>\n",
       "      <td>2016-10-14 10:40:50</td>\n",
       "      <td>2016-11-09 14:53:50</td>\n",
       "      <td>2016-12-08</td>\n",
       "    </tr>\n",
       "    <tr>\n",
       "      <th>96300</th>\n",
       "      <td>1def7af24cb7182497acfd953f6dd88b</td>\n",
       "      <td>b35c38c2cd6a72b58cb104154d9782e4</td>\n",
       "      <td>canceled</td>\n",
       "      <td>2017-12-21 09:22:36</td>\n",
       "      <td>2017-12-23 02:12:37</td>\n",
       "      <td>2018-01-30 19:28:55</td>\n",
       "      <td>NaT</td>\n",
       "      <td>2018-02-20</td>\n",
       "    </tr>\n",
       "    <tr>\n",
       "      <th>97207</th>\n",
       "      <td>716bcd6dfe99970baf4aed2083136ed8</td>\n",
       "      <td>42715bff8f22b8dc62e5055b1e9fef7e</td>\n",
       "      <td>canceled</td>\n",
       "      <td>2018-02-03 13:37:35</td>\n",
       "      <td>2018-02-03 13:50:26</td>\n",
       "      <td>2018-02-05 19:59:59</td>\n",
       "      <td>NaT</td>\n",
       "      <td>2018-03-01</td>\n",
       "    </tr>\n",
       "    <tr>\n",
       "      <th>98397</th>\n",
       "      <td>affcfd3067c168967157abe801a3c4ec</td>\n",
       "      <td>5f40f0d1ada169f5b00ec600e563826a</td>\n",
       "      <td>canceled</td>\n",
       "      <td>2018-02-17 22:18:30</td>\n",
       "      <td>2018-02-17 22:35:29</td>\n",
       "      <td>2018-02-19 20:08:21</td>\n",
       "      <td>NaT</td>\n",
       "      <td>2018-03-06</td>\n",
       "    </tr>\n",
       "  </tbody>\n",
       "</table>\n",
       "<p>75 rows × 8 columns</p>\n",
       "</div>"
      ],
      "text/plain": [
       "                               order_id                       customer_id  \\\n",
       "613    714fb133a6730ab81fa1d3c1b2007291  e3fe72696c4713d64d3c10afe71e75ed   \n",
       "1058   3a129877493c8189c59c60eb71d97c29  0913cdce793684e52bbfac69d87e91fd   \n",
       "2921   1950d777989f6a877539f53795b4c3c3  1bccb206de9f0f25adc6871a1bcf77b2   \n",
       "5127   8a9cce19aa49e055f2babb81d5a71c40  f2676ef361959c938b35ecd32321adce   \n",
       "5449   c1049eef89915c6beb3604bf3d6588d7  ed16865bcadcea1a00a928bf418a74bf   \n",
       "...                                 ...                               ...   \n",
       "94175  c9f06c1229ec7cd4ec9aed55d434b499  fa89053140d09081b3a3a4608a74c083   \n",
       "94399  2c45c33d2f9cb8ff8b1c86cc28c11c30  de4caa97afa80c8eeac2ff4c8da5b72e   \n",
       "96300  1def7af24cb7182497acfd953f6dd88b  b35c38c2cd6a72b58cb104154d9782e4   \n",
       "97207  716bcd6dfe99970baf4aed2083136ed8  42715bff8f22b8dc62e5055b1e9fef7e   \n",
       "98397  affcfd3067c168967157abe801a3c4ec  5f40f0d1ada169f5b00ec600e563826a   \n",
       "\n",
       "      order_status order_purchase_timestamp   order_approved_at  \\\n",
       "613       canceled      2018-01-26 21:34:08 2018-01-26 21:58:39   \n",
       "1058      canceled      2018-01-25 13:34:24 2018-01-25 13:50:20   \n",
       "2921      canceled      2018-02-19 19:48:52 2018-02-19 20:56:05   \n",
       "5127      canceled      2018-02-01 10:04:20 2018-02-03 02:52:42   \n",
       "5449      canceled      2018-02-05 23:08:11 2018-02-05 23:29:26   \n",
       "...            ...                      ...                 ...   \n",
       "94175     canceled      2018-02-05 20:26:29 2018-02-05 20:49:48   \n",
       "94399     canceled      2016-10-09 15:39:56 2016-10-10 10:40:49   \n",
       "96300     canceled      2017-12-21 09:22:36 2017-12-23 02:12:37   \n",
       "97207     canceled      2018-02-03 13:37:35 2018-02-03 13:50:26   \n",
       "98397     canceled      2018-02-17 22:18:30 2018-02-17 22:35:29   \n",
       "\n",
       "      order_delivered_carrier_date order_delivered_customer_date  \\\n",
       "613            2018-01-29 22:33:25                           NaT   \n",
       "1058           2018-01-26 21:42:18                           NaT   \n",
       "2921           2018-02-20 19:57:13           2018-03-21 22:03:51   \n",
       "5127           2018-02-05 20:41:28                           NaT   \n",
       "5449           2018-02-09 22:13:01                           NaT   \n",
       "...                            ...                           ...   \n",
       "94175          2018-02-06 19:49:32                           NaT   \n",
       "94399          2016-10-14 10:40:50           2016-11-09 14:53:50   \n",
       "96300          2018-01-30 19:28:55                           NaT   \n",
       "97207          2018-02-05 19:59:59                           NaT   \n",
       "98397          2018-02-19 20:08:21                           NaT   \n",
       "\n",
       "      order_estimated_delivery_date  \n",
       "613                      2018-02-22  \n",
       "1058                     2018-02-23  \n",
       "2921                     2018-03-09  \n",
       "5127                     2018-02-23  \n",
       "5449                     2018-03-07  \n",
       "...                             ...  \n",
       "94175                    2018-03-01  \n",
       "94399                    2016-12-08  \n",
       "96300                    2018-02-20  \n",
       "97207                    2018-03-01  \n",
       "98397                    2018-03-06  \n",
       "\n",
       "[75 rows x 8 columns]"
      ]
     },
     "execution_count": 103,
     "metadata": {},
     "output_type": "execute_result"
    }
   ],
   "source": [
    "# Заказы переданные в службу доставки, но со статусом canceled (отменен)\n",
    "orders.query(\"order_status == 'canceled' and order_delivered_carrier_date!='NaT'\")"
   ]
  },
  {
   "cell_type": "code",
   "execution_count": 104,
   "metadata": {},
   "outputs": [
    {
     "data": {
      "text/html": [
       "<div>\n",
       "<style scoped>\n",
       "    .dataframe tbody tr th:only-of-type {\n",
       "        vertical-align: middle;\n",
       "    }\n",
       "\n",
       "    .dataframe tbody tr th {\n",
       "        vertical-align: top;\n",
       "    }\n",
       "\n",
       "    .dataframe thead th {\n",
       "        text-align: right;\n",
       "    }\n",
       "</style>\n",
       "<table border=\"1\" class=\"dataframe\">\n",
       "  <thead>\n",
       "    <tr style=\"text-align: right;\">\n",
       "      <th></th>\n",
       "      <th>order_id</th>\n",
       "      <th>customer_id</th>\n",
       "      <th>order_status</th>\n",
       "      <th>order_purchase_timestamp</th>\n",
       "      <th>order_approved_at</th>\n",
       "      <th>order_delivered_carrier_date</th>\n",
       "      <th>order_delivered_customer_date</th>\n",
       "      <th>order_estimated_delivery_date</th>\n",
       "    </tr>\n",
       "  </thead>\n",
       "  <tbody>\n",
       "    <tr>\n",
       "      <th>2921</th>\n",
       "      <td>1950d777989f6a877539f53795b4c3c3</td>\n",
       "      <td>1bccb206de9f0f25adc6871a1bcf77b2</td>\n",
       "      <td>canceled</td>\n",
       "      <td>2018-02-19 19:48:52</td>\n",
       "      <td>2018-02-19 20:56:05</td>\n",
       "      <td>2018-02-20 19:57:13</td>\n",
       "      <td>2018-03-21 22:03:51</td>\n",
       "      <td>2018-03-09</td>\n",
       "    </tr>\n",
       "    <tr>\n",
       "      <th>8791</th>\n",
       "      <td>dabf2b0e35b423f94618bf965fcb7514</td>\n",
       "      <td>5cdec0bb8cbdf53ffc8fdc212cd247c6</td>\n",
       "      <td>canceled</td>\n",
       "      <td>2016-10-09 00:56:52</td>\n",
       "      <td>2016-10-09 13:36:58</td>\n",
       "      <td>2016-10-13 13:36:59</td>\n",
       "      <td>2016-10-16 14:36:59</td>\n",
       "      <td>2016-11-30</td>\n",
       "    </tr>\n",
       "    <tr>\n",
       "      <th>58266</th>\n",
       "      <td>770d331c84e5b214bd9dc70a10b829d0</td>\n",
       "      <td>6c57e6119369185e575b36712766b0ef</td>\n",
       "      <td>canceled</td>\n",
       "      <td>2016-10-07 14:52:30</td>\n",
       "      <td>2016-10-07 15:07:10</td>\n",
       "      <td>2016-10-11 15:07:11</td>\n",
       "      <td>2016-10-14 15:07:11</td>\n",
       "      <td>2016-11-29</td>\n",
       "    </tr>\n",
       "    <tr>\n",
       "      <th>59332</th>\n",
       "      <td>8beb59392e21af5eb9547ae1a9938d06</td>\n",
       "      <td>bf609b5741f71697f65ce3852c5d2623</td>\n",
       "      <td>canceled</td>\n",
       "      <td>2016-10-08 20:17:50</td>\n",
       "      <td>2016-10-09 14:34:30</td>\n",
       "      <td>2016-10-14 22:45:26</td>\n",
       "      <td>2016-10-19 18:47:43</td>\n",
       "      <td>2016-11-30</td>\n",
       "    </tr>\n",
       "    <tr>\n",
       "      <th>92636</th>\n",
       "      <td>65d1e226dfaeb8cdc42f665422522d14</td>\n",
       "      <td>70fc57eeae292675927697fe03ad3ff5</td>\n",
       "      <td>canceled</td>\n",
       "      <td>2016-10-03 21:01:41</td>\n",
       "      <td>2016-10-04 10:18:57</td>\n",
       "      <td>2016-10-25 12:14:28</td>\n",
       "      <td>2016-11-08 10:58:34</td>\n",
       "      <td>2016-11-25</td>\n",
       "    </tr>\n",
       "    <tr>\n",
       "      <th>94399</th>\n",
       "      <td>2c45c33d2f9cb8ff8b1c86cc28c11c30</td>\n",
       "      <td>de4caa97afa80c8eeac2ff4c8da5b72e</td>\n",
       "      <td>canceled</td>\n",
       "      <td>2016-10-09 15:39:56</td>\n",
       "      <td>2016-10-10 10:40:49</td>\n",
       "      <td>2016-10-14 10:40:50</td>\n",
       "      <td>2016-11-09 14:53:50</td>\n",
       "      <td>2016-12-08</td>\n",
       "    </tr>\n",
       "  </tbody>\n",
       "</table>\n",
       "</div>"
      ],
      "text/plain": [
       "                               order_id                       customer_id  \\\n",
       "2921   1950d777989f6a877539f53795b4c3c3  1bccb206de9f0f25adc6871a1bcf77b2   \n",
       "8791   dabf2b0e35b423f94618bf965fcb7514  5cdec0bb8cbdf53ffc8fdc212cd247c6   \n",
       "58266  770d331c84e5b214bd9dc70a10b829d0  6c57e6119369185e575b36712766b0ef   \n",
       "59332  8beb59392e21af5eb9547ae1a9938d06  bf609b5741f71697f65ce3852c5d2623   \n",
       "92636  65d1e226dfaeb8cdc42f665422522d14  70fc57eeae292675927697fe03ad3ff5   \n",
       "94399  2c45c33d2f9cb8ff8b1c86cc28c11c30  de4caa97afa80c8eeac2ff4c8da5b72e   \n",
       "\n",
       "      order_status order_purchase_timestamp   order_approved_at  \\\n",
       "2921      canceled      2018-02-19 19:48:52 2018-02-19 20:56:05   \n",
       "8791      canceled      2016-10-09 00:56:52 2016-10-09 13:36:58   \n",
       "58266     canceled      2016-10-07 14:52:30 2016-10-07 15:07:10   \n",
       "59332     canceled      2016-10-08 20:17:50 2016-10-09 14:34:30   \n",
       "92636     canceled      2016-10-03 21:01:41 2016-10-04 10:18:57   \n",
       "94399     canceled      2016-10-09 15:39:56 2016-10-10 10:40:49   \n",
       "\n",
       "      order_delivered_carrier_date order_delivered_customer_date  \\\n",
       "2921           2018-02-20 19:57:13           2018-03-21 22:03:51   \n",
       "8791           2016-10-13 13:36:59           2016-10-16 14:36:59   \n",
       "58266          2016-10-11 15:07:11           2016-10-14 15:07:11   \n",
       "59332          2016-10-14 22:45:26           2016-10-19 18:47:43   \n",
       "92636          2016-10-25 12:14:28           2016-11-08 10:58:34   \n",
       "94399          2016-10-14 10:40:50           2016-11-09 14:53:50   \n",
       "\n",
       "      order_estimated_delivery_date  \n",
       "2921                     2018-03-09  \n",
       "8791                     2016-11-30  \n",
       "58266                    2016-11-29  \n",
       "59332                    2016-11-30  \n",
       "92636                    2016-11-25  \n",
       "94399                    2016-12-08  "
      ]
     },
     "execution_count": 104,
     "metadata": {},
     "output_type": "execute_result"
    }
   ],
   "source": [
    "# Заказы с проставленной датой доставки, но статусом canceled (отменен)\n",
    "orders.query(\"order_status == 'canceled' and order_delivered_customer_date!='NaT'\")"
   ]
  },
  {
   "cell_type": "code",
   "execution_count": 105,
   "metadata": {},
   "outputs": [
    {
     "data": {
      "text/html": [
       "<div>\n",
       "<style scoped>\n",
       "    .dataframe tbody tr th:only-of-type {\n",
       "        vertical-align: middle;\n",
       "    }\n",
       "\n",
       "    .dataframe tbody tr th {\n",
       "        vertical-align: top;\n",
       "    }\n",
       "\n",
       "    .dataframe thead th {\n",
       "        text-align: right;\n",
       "    }\n",
       "</style>\n",
       "<table border=\"1\" class=\"dataframe\">\n",
       "  <thead>\n",
       "    <tr style=\"text-align: right;\">\n",
       "      <th></th>\n",
       "      <th>order_id</th>\n",
       "      <th>customer_id</th>\n",
       "      <th>order_status</th>\n",
       "      <th>order_purchase_timestamp</th>\n",
       "      <th>order_approved_at</th>\n",
       "      <th>order_delivered_carrier_date</th>\n",
       "      <th>order_delivered_customer_date</th>\n",
       "      <th>order_estimated_delivery_date</th>\n",
       "    </tr>\n",
       "  </thead>\n",
       "  <tbody>\n",
       "    <tr>\n",
       "      <th>266</th>\n",
       "      <td>8e24261a7e58791d10cb1bf9da94df5c</td>\n",
       "      <td>64a254d30eed42cd0e6c36dddb88adf0</td>\n",
       "      <td>unavailable</td>\n",
       "      <td>2017-11-16 15:09:28</td>\n",
       "      <td>2017-11-16 15:26:57</td>\n",
       "      <td>NaT</td>\n",
       "      <td>NaT</td>\n",
       "      <td>2017-12-05</td>\n",
       "    </tr>\n",
       "    <tr>\n",
       "      <th>586</th>\n",
       "      <td>c272bcd21c287498b4883c7512019702</td>\n",
       "      <td>9582c5bbecc65eb568e2c1d839b5cba1</td>\n",
       "      <td>unavailable</td>\n",
       "      <td>2018-01-31 11:31:37</td>\n",
       "      <td>2018-01-31 14:23:50</td>\n",
       "      <td>NaT</td>\n",
       "      <td>NaT</td>\n",
       "      <td>2018-02-16</td>\n",
       "    </tr>\n",
       "    <tr>\n",
       "      <th>687</th>\n",
       "      <td>37553832a3a89c9b2db59701c357ca67</td>\n",
       "      <td>7607cd563696c27ede287e515812d528</td>\n",
       "      <td>unavailable</td>\n",
       "      <td>2017-08-14 17:38:02</td>\n",
       "      <td>2017-08-17 00:15:18</td>\n",
       "      <td>NaT</td>\n",
       "      <td>NaT</td>\n",
       "      <td>2017-09-05</td>\n",
       "    </tr>\n",
       "    <tr>\n",
       "      <th>737</th>\n",
       "      <td>d57e15fb07fd180f06ab3926b39edcd2</td>\n",
       "      <td>470b93b3f1cde85550fc74cd3a476c78</td>\n",
       "      <td>unavailable</td>\n",
       "      <td>2018-01-08 19:39:03</td>\n",
       "      <td>2018-01-09 07:26:08</td>\n",
       "      <td>NaT</td>\n",
       "      <td>NaT</td>\n",
       "      <td>2018-02-06</td>\n",
       "    </tr>\n",
       "    <tr>\n",
       "      <th>1160</th>\n",
       "      <td>2f634e2cebf8c0283e7ef0989f77d217</td>\n",
       "      <td>7353b0fb8e8d9675e3a704c60ca44ebe</td>\n",
       "      <td>unavailable</td>\n",
       "      <td>2017-09-27 20:55:33</td>\n",
       "      <td>2017-09-28 01:32:50</td>\n",
       "      <td>NaT</td>\n",
       "      <td>NaT</td>\n",
       "      <td>2017-10-27</td>\n",
       "    </tr>\n",
       "    <tr>\n",
       "      <th>...</th>\n",
       "      <td>...</td>\n",
       "      <td>...</td>\n",
       "      <td>...</td>\n",
       "      <td>...</td>\n",
       "      <td>...</td>\n",
       "      <td>...</td>\n",
       "      <td>...</td>\n",
       "      <td>...</td>\n",
       "    </tr>\n",
       "    <tr>\n",
       "      <th>99147</th>\n",
       "      <td>6cf5c427fb11bc5fe8abefa86aa7ba0b</td>\n",
       "      <td>91ac14a1e50bc022eeecf0c2ba37006a</td>\n",
       "      <td>unavailable</td>\n",
       "      <td>2017-10-17 10:53:48</td>\n",
       "      <td>2017-10-19 03:12:43</td>\n",
       "      <td>NaT</td>\n",
       "      <td>NaT</td>\n",
       "      <td>2017-10-27</td>\n",
       "    </tr>\n",
       "    <tr>\n",
       "      <th>99233</th>\n",
       "      <td>1c7c8ab324927f5b6e52338bd110bef4</td>\n",
       "      <td>95b1767df51d6fa09402267d8de314df</td>\n",
       "      <td>unavailable</td>\n",
       "      <td>2017-12-23 18:48:09</td>\n",
       "      <td>2017-12-23 18:54:22</td>\n",
       "      <td>NaT</td>\n",
       "      <td>NaT</td>\n",
       "      <td>2018-01-19</td>\n",
       "    </tr>\n",
       "    <tr>\n",
       "      <th>99252</th>\n",
       "      <td>aaab15da689073f8f9aa978a390a69d1</td>\n",
       "      <td>df20748206e4b865b2f14a5eabbfcf34</td>\n",
       "      <td>unavailable</td>\n",
       "      <td>2018-01-16 14:27:59</td>\n",
       "      <td>2018-01-17 03:37:34</td>\n",
       "      <td>NaT</td>\n",
       "      <td>NaT</td>\n",
       "      <td>2018-02-06</td>\n",
       "    </tr>\n",
       "    <tr>\n",
       "      <th>99348</th>\n",
       "      <td>a69ba794cc7deb415c3e15a0a3877e69</td>\n",
       "      <td>726f0894b5becdf952ea537d5266e543</td>\n",
       "      <td>unavailable</td>\n",
       "      <td>2017-08-23 16:28:04</td>\n",
       "      <td>2017-08-28 15:44:47</td>\n",
       "      <td>NaT</td>\n",
       "      <td>NaT</td>\n",
       "      <td>2017-09-15</td>\n",
       "    </tr>\n",
       "    <tr>\n",
       "      <th>99415</th>\n",
       "      <td>5fabc81b6322c8443648e1b21a6fef21</td>\n",
       "      <td>32c9df889d41b0ee8309a5efb6855dcb</td>\n",
       "      <td>unavailable</td>\n",
       "      <td>2017-10-10 10:50:03</td>\n",
       "      <td>2017-10-14 18:35:57</td>\n",
       "      <td>NaT</td>\n",
       "      <td>NaT</td>\n",
       "      <td>2017-10-23</td>\n",
       "    </tr>\n",
       "  </tbody>\n",
       "</table>\n",
       "<p>609 rows × 8 columns</p>\n",
       "</div>"
      ],
      "text/plain": [
       "                               order_id                       customer_id  \\\n",
       "266    8e24261a7e58791d10cb1bf9da94df5c  64a254d30eed42cd0e6c36dddb88adf0   \n",
       "586    c272bcd21c287498b4883c7512019702  9582c5bbecc65eb568e2c1d839b5cba1   \n",
       "687    37553832a3a89c9b2db59701c357ca67  7607cd563696c27ede287e515812d528   \n",
       "737    d57e15fb07fd180f06ab3926b39edcd2  470b93b3f1cde85550fc74cd3a476c78   \n",
       "1160   2f634e2cebf8c0283e7ef0989f77d217  7353b0fb8e8d9675e3a704c60ca44ebe   \n",
       "...                                 ...                               ...   \n",
       "99147  6cf5c427fb11bc5fe8abefa86aa7ba0b  91ac14a1e50bc022eeecf0c2ba37006a   \n",
       "99233  1c7c8ab324927f5b6e52338bd110bef4  95b1767df51d6fa09402267d8de314df   \n",
       "99252  aaab15da689073f8f9aa978a390a69d1  df20748206e4b865b2f14a5eabbfcf34   \n",
       "99348  a69ba794cc7deb415c3e15a0a3877e69  726f0894b5becdf952ea537d5266e543   \n",
       "99415  5fabc81b6322c8443648e1b21a6fef21  32c9df889d41b0ee8309a5efb6855dcb   \n",
       "\n",
       "      order_status order_purchase_timestamp   order_approved_at  \\\n",
       "266    unavailable      2017-11-16 15:09:28 2017-11-16 15:26:57   \n",
       "586    unavailable      2018-01-31 11:31:37 2018-01-31 14:23:50   \n",
       "687    unavailable      2017-08-14 17:38:02 2017-08-17 00:15:18   \n",
       "737    unavailable      2018-01-08 19:39:03 2018-01-09 07:26:08   \n",
       "1160   unavailable      2017-09-27 20:55:33 2017-09-28 01:32:50   \n",
       "...            ...                      ...                 ...   \n",
       "99147  unavailable      2017-10-17 10:53:48 2017-10-19 03:12:43   \n",
       "99233  unavailable      2017-12-23 18:48:09 2017-12-23 18:54:22   \n",
       "99252  unavailable      2018-01-16 14:27:59 2018-01-17 03:37:34   \n",
       "99348  unavailable      2017-08-23 16:28:04 2017-08-28 15:44:47   \n",
       "99415  unavailable      2017-10-10 10:50:03 2017-10-14 18:35:57   \n",
       "\n",
       "      order_delivered_carrier_date order_delivered_customer_date  \\\n",
       "266                            NaT                           NaT   \n",
       "586                            NaT                           NaT   \n",
       "687                            NaT                           NaT   \n",
       "737                            NaT                           NaT   \n",
       "1160                           NaT                           NaT   \n",
       "...                            ...                           ...   \n",
       "99147                          NaT                           NaT   \n",
       "99233                          NaT                           NaT   \n",
       "99252                          NaT                           NaT   \n",
       "99348                          NaT                           NaT   \n",
       "99415                          NaT                           NaT   \n",
       "\n",
       "      order_estimated_delivery_date  \n",
       "266                      2017-12-05  \n",
       "586                      2018-02-16  \n",
       "687                      2017-09-05  \n",
       "737                      2018-02-06  \n",
       "1160                     2017-10-27  \n",
       "...                             ...  \n",
       "99147                    2017-10-27  \n",
       "99233                    2018-01-19  \n",
       "99252                    2018-02-06  \n",
       "99348                    2017-09-15  \n",
       "99415                    2017-10-23  \n",
       "\n",
       "[609 rows x 8 columns]"
      ]
     },
     "execution_count": 105,
     "metadata": {},
     "output_type": "execute_result"
    }
   ],
   "source": [
    "# Заказы со статусом unavailable (недоступен)\n",
    "orders.query('order_status == \"unavailable\"')"
   ]
  },
  {
   "cell_type": "code",
   "execution_count": 106,
   "metadata": {},
   "outputs": [
    {
     "data": {
      "text/plain": [
       "order_id                           0\n",
       "customer_id                        0\n",
       "order_status                       0\n",
       "order_purchase_timestamp           0\n",
       "order_approved_at                  0\n",
       "order_delivered_carrier_date     609\n",
       "order_delivered_customer_date    609\n",
       "order_estimated_delivery_date      0\n",
       "dtype: int64"
      ]
     },
     "execution_count": 106,
     "metadata": {},
     "output_type": "execute_result"
    }
   ],
   "source": [
    "orders.query('order_status == \"unavailable\"').isna().sum()"
   ]
  },
  {
   "cell_type": "code",
   "execution_count": 107,
   "metadata": {},
   "outputs": [],
   "source": [
    "# Создадаим датафрейм только с доставленными заказами\n",
    "delivered_orders = orders.query(\"order_status=='delivered'\")"
   ]
  },
  {
   "cell_type": "code",
   "execution_count": 108,
   "metadata": {},
   "outputs": [],
   "source": [
    "# Объединение датафрейма customers и delivered_orders по колонке customer_id\n",
    "df = customers.merge(delivered_orders, on='customer_id').reset_index(drop=True) "
   ]
  },
  {
   "cell_type": "code",
   "execution_count": 109,
   "metadata": {},
   "outputs": [],
   "source": [
    "# Фильтрация и группировка данных\n",
    "df_one_purchase = df.groupby('customer_unique_id', as_index=False).agg({'order_id': 'count'}).query('order_id==1')"
   ]
  },
  {
   "cell_type": "code",
   "execution_count": 110,
   "metadata": {},
   "outputs": [
    {
     "name": "stdout",
     "output_type": "stream",
     "text": [
      "Количество пользователей, совершивших покупку один раз = 90557\n"
     ]
    }
   ],
   "source": [
    "print(f'Количество пользователей, совершивших покупку один раз = {df_one_purchase.customer_unique_id.nunique()}')"
   ]
  },
  {
   "cell_type": "markdown",
   "metadata": {},
   "source": [
    "## 2. Сколько заказов в месяц в среднем не доставляется по разным причинам (вывести детализацию по причинам)?"
   ]
  },
  {
   "cell_type": "markdown",
   "metadata": {},
   "source": [
    "Какой заказ можно считать не доставленным? Заказы со статусом delivered сразу исключаем.\n",
    "В наших данных есть пустые значения в колонке order_delivered_customer_date и заказы со статусом отличным от delivered."
   ]
  },
  {
   "cell_type": "code",
   "execution_count": 111,
   "metadata": {},
   "outputs": [],
   "source": [
    "# Создадим датафрейм без заказов со статусом delivered\n",
    "not_delivered = orders.query(\"order_status!='delivered'\")"
   ]
  },
  {
   "cell_type": "code",
   "execution_count": 112,
   "metadata": {},
   "outputs": [
    {
     "data": {
      "text/plain": [
       "shipped        1107\n",
       "canceled        619\n",
       "unavailable     609\n",
       "invoiced        314\n",
       "processing      301\n",
       "created           5\n",
       "approved          2\n",
       "Name: order_status, dtype: int64"
      ]
     },
     "execution_count": 112,
     "metadata": {},
     "output_type": "execute_result"
    }
   ],
   "source": [
    "# Посмотрим на заказы без даты доставки\n",
    "not_delivered.query(\"order_delivered_customer_date.isnull()\").order_status.value_counts()"
   ]
  },
  {
   "cell_type": "markdown",
   "metadata": {},
   "source": [
    "Заказы со статусами approved, created, processing, invoiced и shipped не будем рассматривать, так как они еще могут быть доставлены."
   ]
  },
  {
   "cell_type": "code",
   "execution_count": 113,
   "metadata": {},
   "outputs": [
    {
     "name": "stderr",
     "output_type": "stream",
     "text": [
      "/opt/tljh/user/lib/python3.7/site-packages/ipykernel_launcher.py:2: SettingWithCopyWarning:\n",
      "\n",
      "\n",
      "A value is trying to be set on a copy of a slice from a DataFrame.\n",
      "Try using .loc[row_indexer,col_indexer] = value instead\n",
      "\n",
      "See the caveats in the documentation: https://pandas.pydata.org/pandas-docs/stable/user_guide/indexing.html#returning-a-view-versus-a-copy\n",
      "\n"
     ]
    }
   ],
   "source": [
    "# Создадим новую колонку в датафрейме формата год-месяц обещанной даты доставки \n",
    "not_delivered['month'] = not_delivered.order_estimated_delivery_date.dt.to_period('M')"
   ]
  },
  {
   "cell_type": "code",
   "execution_count": 114,
   "metadata": {},
   "outputs": [
    {
     "data": {
      "text/html": [
       "<div>\n",
       "<style scoped>\n",
       "    .dataframe tbody tr th:only-of-type {\n",
       "        vertical-align: middle;\n",
       "    }\n",
       "\n",
       "    .dataframe tbody tr th {\n",
       "        vertical-align: top;\n",
       "    }\n",
       "\n",
       "    .dataframe thead th {\n",
       "        text-align: right;\n",
       "    }\n",
       "</style>\n",
       "<table border=\"1\" class=\"dataframe\">\n",
       "  <thead>\n",
       "    <tr style=\"text-align: right;\">\n",
       "      <th></th>\n",
       "      <th>order_status</th>\n",
       "      <th>average_per_month</th>\n",
       "    </tr>\n",
       "  </thead>\n",
       "  <tbody>\n",
       "    <tr>\n",
       "      <th>0</th>\n",
       "      <td>canceled</td>\n",
       "      <td>23.8</td>\n",
       "    </tr>\n",
       "    <tr>\n",
       "      <th>1</th>\n",
       "      <td>unavailable</td>\n",
       "      <td>29.0</td>\n",
       "    </tr>\n",
       "  </tbody>\n",
       "</table>\n",
       "</div>"
      ],
      "text/plain": [
       "  order_status  average_per_month\n",
       "0     canceled               23.8\n",
       "1  unavailable               29.0"
      ]
     },
     "execution_count": 114,
     "metadata": {},
     "output_type": "execute_result"
    }
   ],
   "source": [
    "# Посчитаем среднее число не доставленных заказов в месяц с разбивкой по статусам canceled и unavailable\n",
    "not_delivered.query(\"order_delivered_customer_date.isnull() and order_status in ['canceled', 'unavailable']\")\\\n",
    ".groupby(['month', 'order_status'], as_index=False).agg({'order_id': 'count'})\\\n",
    ".groupby('order_status', as_index=False).agg({'order_id': 'mean'}).rename(columns={'order_id': 'average_per_month'}).round(1)"
   ]
  },
  {
   "cell_type": "markdown",
   "metadata": {},
   "source": [
    "В итоге таких заказов в месяц в среднем 24 отмененных и 29 недоступных."
   ]
  },
  {
   "cell_type": "markdown",
   "metadata": {},
   "source": [
    "## 3. По каждому товару определить, в какой день недели товар чаще всего покупается."
   ]
  },
  {
   "cell_type": "markdown",
   "metadata": {},
   "source": [
    "Для решения задачи необходимо объединить два датафрейма - orders и order_items. Берем только заказы со статусом delivered, так как только их мы считаем за покупки."
   ]
  },
  {
   "cell_type": "code",
   "execution_count": 115,
   "metadata": {},
   "outputs": [],
   "source": [
    "# Объединяем таблицы\n",
    "# Пропуски не нужны, поэтому объединяем по совпадающим строкам\n",
    "items = orders.merge(order_items, on = 'order_id')"
   ]
  },
  {
   "cell_type": "code",
   "execution_count": 116,
   "metadata": {},
   "outputs": [],
   "source": [
    "items = items.query(\"order_status == 'delivered'\")"
   ]
  },
  {
   "cell_type": "code",
   "execution_count": 117,
   "metadata": {},
   "outputs": [],
   "source": [
    "# Добавим столбец с названием дня недели, когда был сделан заказ\n",
    "items['purchase_weekday'] = items['order_purchase_timestamp'].dt.day_name()"
   ]
  },
  {
   "cell_type": "code",
   "execution_count": 118,
   "metadata": {
    "scrolled": true
   },
   "outputs": [
    {
     "data": {
      "text/html": [
       "<div>\n",
       "<style scoped>\n",
       "    .dataframe tbody tr th:only-of-type {\n",
       "        vertical-align: middle;\n",
       "    }\n",
       "\n",
       "    .dataframe tbody tr th {\n",
       "        vertical-align: top;\n",
       "    }\n",
       "\n",
       "    .dataframe thead th {\n",
       "        text-align: right;\n",
       "    }\n",
       "</style>\n",
       "<table border=\"1\" class=\"dataframe\">\n",
       "  <thead>\n",
       "    <tr style=\"text-align: right;\">\n",
       "      <th></th>\n",
       "      <th>order_id</th>\n",
       "      <th>customer_id</th>\n",
       "      <th>order_status</th>\n",
       "      <th>order_purchase_timestamp</th>\n",
       "      <th>order_approved_at</th>\n",
       "      <th>order_delivered_carrier_date</th>\n",
       "      <th>order_delivered_customer_date</th>\n",
       "      <th>order_estimated_delivery_date</th>\n",
       "      <th>order_item_id</th>\n",
       "      <th>product_id</th>\n",
       "      <th>seller_id</th>\n",
       "      <th>shipping_limit_date</th>\n",
       "      <th>price</th>\n",
       "      <th>freight_value</th>\n",
       "      <th>purchase_weekday</th>\n",
       "    </tr>\n",
       "  </thead>\n",
       "  <tbody>\n",
       "    <tr>\n",
       "      <th>0</th>\n",
       "      <td>e481f51cbdc54678b7cc49136f2d6af7</td>\n",
       "      <td>9ef432eb6251297304e76186b10a928d</td>\n",
       "      <td>delivered</td>\n",
       "      <td>2017-10-02 10:56:33</td>\n",
       "      <td>2017-10-02 11:07:15</td>\n",
       "      <td>2017-10-04 19:55:00</td>\n",
       "      <td>2017-10-10 21:25:13</td>\n",
       "      <td>2017-10-18</td>\n",
       "      <td>1</td>\n",
       "      <td>87285b34884572647811a353c7ac498a</td>\n",
       "      <td>3504c0cb71d7fa48d967e0e4c94d59d9</td>\n",
       "      <td>2017-10-06 11:07:15</td>\n",
       "      <td>29.99</td>\n",
       "      <td>8.72</td>\n",
       "      <td>Monday</td>\n",
       "    </tr>\n",
       "    <tr>\n",
       "      <th>1</th>\n",
       "      <td>53cdb2fc8bc7dce0b6741e2150273451</td>\n",
       "      <td>b0830fb4747a6c6d20dea0b8c802d7ef</td>\n",
       "      <td>delivered</td>\n",
       "      <td>2018-07-24 20:41:37</td>\n",
       "      <td>2018-07-26 03:24:27</td>\n",
       "      <td>2018-07-26 14:31:00</td>\n",
       "      <td>2018-08-07 15:27:45</td>\n",
       "      <td>2018-08-13</td>\n",
       "      <td>1</td>\n",
       "      <td>595fac2a385ac33a80bd5114aec74eb8</td>\n",
       "      <td>289cdb325fb7e7f891c38608bf9e0962</td>\n",
       "      <td>2018-07-30 03:24:27</td>\n",
       "      <td>118.70</td>\n",
       "      <td>22.76</td>\n",
       "      <td>Tuesday</td>\n",
       "    </tr>\n",
       "    <tr>\n",
       "      <th>2</th>\n",
       "      <td>47770eb9100c2d0c44946d9cf07ec65d</td>\n",
       "      <td>41ce2a54c0b03bf3443c3d931a367089</td>\n",
       "      <td>delivered</td>\n",
       "      <td>2018-08-08 08:38:49</td>\n",
       "      <td>2018-08-08 08:55:23</td>\n",
       "      <td>2018-08-08 13:50:00</td>\n",
       "      <td>2018-08-17 18:06:29</td>\n",
       "      <td>2018-09-04</td>\n",
       "      <td>1</td>\n",
       "      <td>aa4383b373c6aca5d8797843e5594415</td>\n",
       "      <td>4869f7a5dfa277a7dca6462dcf3b52b2</td>\n",
       "      <td>2018-08-13 08:55:23</td>\n",
       "      <td>159.90</td>\n",
       "      <td>19.22</td>\n",
       "      <td>Wednesday</td>\n",
       "    </tr>\n",
       "    <tr>\n",
       "      <th>3</th>\n",
       "      <td>949d5b44dbf5de918fe9c16f97b45f8a</td>\n",
       "      <td>f88197465ea7920adcdbec7375364d82</td>\n",
       "      <td>delivered</td>\n",
       "      <td>2017-11-18 19:28:06</td>\n",
       "      <td>2017-11-18 19:45:59</td>\n",
       "      <td>2017-11-22 13:39:59</td>\n",
       "      <td>2017-12-02 00:28:42</td>\n",
       "      <td>2017-12-15</td>\n",
       "      <td>1</td>\n",
       "      <td>d0b61bfb1de832b15ba9d266ca96e5b0</td>\n",
       "      <td>66922902710d126a0e7d26b0e3805106</td>\n",
       "      <td>2017-11-23 19:45:59</td>\n",
       "      <td>45.00</td>\n",
       "      <td>27.20</td>\n",
       "      <td>Saturday</td>\n",
       "    </tr>\n",
       "    <tr>\n",
       "      <th>4</th>\n",
       "      <td>ad21c59c0840e6cb83a9ceb5573f8159</td>\n",
       "      <td>8ab97904e6daea8866dbdbc4fb7aad2c</td>\n",
       "      <td>delivered</td>\n",
       "      <td>2018-02-13 21:18:39</td>\n",
       "      <td>2018-02-13 22:20:29</td>\n",
       "      <td>2018-02-14 19:46:34</td>\n",
       "      <td>2018-02-16 18:17:02</td>\n",
       "      <td>2018-02-26</td>\n",
       "      <td>1</td>\n",
       "      <td>65266b2da20d04dbe00c5c2d3bb7859e</td>\n",
       "      <td>2c9e548be18521d1c43cde1c582c6de8</td>\n",
       "      <td>2018-02-19 20:31:37</td>\n",
       "      <td>19.90</td>\n",
       "      <td>8.72</td>\n",
       "      <td>Tuesday</td>\n",
       "    </tr>\n",
       "  </tbody>\n",
       "</table>\n",
       "</div>"
      ],
      "text/plain": [
       "                           order_id                       customer_id  \\\n",
       "0  e481f51cbdc54678b7cc49136f2d6af7  9ef432eb6251297304e76186b10a928d   \n",
       "1  53cdb2fc8bc7dce0b6741e2150273451  b0830fb4747a6c6d20dea0b8c802d7ef   \n",
       "2  47770eb9100c2d0c44946d9cf07ec65d  41ce2a54c0b03bf3443c3d931a367089   \n",
       "3  949d5b44dbf5de918fe9c16f97b45f8a  f88197465ea7920adcdbec7375364d82   \n",
       "4  ad21c59c0840e6cb83a9ceb5573f8159  8ab97904e6daea8866dbdbc4fb7aad2c   \n",
       "\n",
       "  order_status order_purchase_timestamp   order_approved_at  \\\n",
       "0    delivered      2017-10-02 10:56:33 2017-10-02 11:07:15   \n",
       "1    delivered      2018-07-24 20:41:37 2018-07-26 03:24:27   \n",
       "2    delivered      2018-08-08 08:38:49 2018-08-08 08:55:23   \n",
       "3    delivered      2017-11-18 19:28:06 2017-11-18 19:45:59   \n",
       "4    delivered      2018-02-13 21:18:39 2018-02-13 22:20:29   \n",
       "\n",
       "  order_delivered_carrier_date order_delivered_customer_date  \\\n",
       "0          2017-10-04 19:55:00           2017-10-10 21:25:13   \n",
       "1          2018-07-26 14:31:00           2018-08-07 15:27:45   \n",
       "2          2018-08-08 13:50:00           2018-08-17 18:06:29   \n",
       "3          2017-11-22 13:39:59           2017-12-02 00:28:42   \n",
       "4          2018-02-14 19:46:34           2018-02-16 18:17:02   \n",
       "\n",
       "  order_estimated_delivery_date  order_item_id  \\\n",
       "0                    2017-10-18              1   \n",
       "1                    2018-08-13              1   \n",
       "2                    2018-09-04              1   \n",
       "3                    2017-12-15              1   \n",
       "4                    2018-02-26              1   \n",
       "\n",
       "                         product_id                         seller_id  \\\n",
       "0  87285b34884572647811a353c7ac498a  3504c0cb71d7fa48d967e0e4c94d59d9   \n",
       "1  595fac2a385ac33a80bd5114aec74eb8  289cdb325fb7e7f891c38608bf9e0962   \n",
       "2  aa4383b373c6aca5d8797843e5594415  4869f7a5dfa277a7dca6462dcf3b52b2   \n",
       "3  d0b61bfb1de832b15ba9d266ca96e5b0  66922902710d126a0e7d26b0e3805106   \n",
       "4  65266b2da20d04dbe00c5c2d3bb7859e  2c9e548be18521d1c43cde1c582c6de8   \n",
       "\n",
       "  shipping_limit_date   price  freight_value purchase_weekday  \n",
       "0 2017-10-06 11:07:15   29.99           8.72           Monday  \n",
       "1 2018-07-30 03:24:27  118.70          22.76          Tuesday  \n",
       "2 2018-08-13 08:55:23  159.90          19.22        Wednesday  \n",
       "3 2017-11-23 19:45:59   45.00          27.20         Saturday  \n",
       "4 2018-02-19 20:31:37   19.90           8.72          Tuesday  "
      ]
     },
     "execution_count": 118,
     "metadata": {},
     "output_type": "execute_result"
    }
   ],
   "source": [
    "items.head()"
   ]
  },
  {
   "cell_type": "code",
   "execution_count": 119,
   "metadata": {},
   "outputs": [
    {
     "data": {
      "text/html": [
       "<div>\n",
       "<style scoped>\n",
       "    .dataframe tbody tr th:only-of-type {\n",
       "        vertical-align: middle;\n",
       "    }\n",
       "\n",
       "    .dataframe tbody tr th {\n",
       "        vertical-align: top;\n",
       "    }\n",
       "\n",
       "    .dataframe thead th {\n",
       "        text-align: right;\n",
       "    }\n",
       "</style>\n",
       "<table border=\"1\" class=\"dataframe\">\n",
       "  <thead>\n",
       "    <tr style=\"text-align: right;\">\n",
       "      <th></th>\n",
       "      <th>product_id</th>\n",
       "      <th>purchase_weekday</th>\n",
       "      <th>sales</th>\n",
       "    </tr>\n",
       "  </thead>\n",
       "  <tbody>\n",
       "    <tr>\n",
       "      <th>15597</th>\n",
       "      <td>422879e10f46682990de24d770e7f83d</td>\n",
       "      <td>Wednesday</td>\n",
       "      <td>93</td>\n",
       "    </tr>\n",
       "    <tr>\n",
       "      <th>35751</th>\n",
       "      <td>99a4788cb24856965c36a24e339b6058</td>\n",
       "      <td>Monday</td>\n",
       "      <td>91</td>\n",
       "    </tr>\n",
       "    <tr>\n",
       "      <th>40183</th>\n",
       "      <td>aca2eb7d00ea1a7b8ebd4e68314663af</td>\n",
       "      <td>Thursday</td>\n",
       "      <td>89</td>\n",
       "    </tr>\n",
       "    <tr>\n",
       "      <th>19711</th>\n",
       "      <td>53b36df67ebb7c41585e8d54d6772e08</td>\n",
       "      <td>Tuesday</td>\n",
       "      <td>76</td>\n",
       "    </tr>\n",
       "    <tr>\n",
       "      <th>13271</th>\n",
       "      <td>389d119b48cf3043d311335e499d9c6b</td>\n",
       "      <td>Thursday</td>\n",
       "      <td>67</td>\n",
       "    </tr>\n",
       "    <tr>\n",
       "      <th>...</th>\n",
       "      <td>...</td>\n",
       "      <td>...</td>\n",
       "      <td>...</td>\n",
       "    </tr>\n",
       "    <tr>\n",
       "      <th>23483</th>\n",
       "      <td>64123627d4116a2bc8284f1bc0a257f3</td>\n",
       "      <td>Saturday</td>\n",
       "      <td>1</td>\n",
       "    </tr>\n",
       "    <tr>\n",
       "      <th>23491</th>\n",
       "      <td>6413f8d0daa3a38887a14917589e7da5</td>\n",
       "      <td>Wednesday</td>\n",
       "      <td>1</td>\n",
       "    </tr>\n",
       "    <tr>\n",
       "      <th>23493</th>\n",
       "      <td>641444946fe3a839d726c32804cd1aff</td>\n",
       "      <td>Tuesday</td>\n",
       "      <td>1</td>\n",
       "    </tr>\n",
       "    <tr>\n",
       "      <th>23494</th>\n",
       "      <td>6416e0ecd625ef4adf18658a9aca2e10</td>\n",
       "      <td>Thursday</td>\n",
       "      <td>1</td>\n",
       "    </tr>\n",
       "    <tr>\n",
       "      <th>59952</th>\n",
       "      <td>fffe9eeff12fcbd74a2f2b007dde0c58</td>\n",
       "      <td>Wednesday</td>\n",
       "      <td>1</td>\n",
       "    </tr>\n",
       "  </tbody>\n",
       "</table>\n",
       "<p>32216 rows × 3 columns</p>\n",
       "</div>"
      ],
      "text/plain": [
       "                             product_id purchase_weekday  sales\n",
       "15597  422879e10f46682990de24d770e7f83d        Wednesday     93\n",
       "35751  99a4788cb24856965c36a24e339b6058           Monday     91\n",
       "40183  aca2eb7d00ea1a7b8ebd4e68314663af         Thursday     89\n",
       "19711  53b36df67ebb7c41585e8d54d6772e08          Tuesday     76\n",
       "13271  389d119b48cf3043d311335e499d9c6b         Thursday     67\n",
       "...                                 ...              ...    ...\n",
       "23483  64123627d4116a2bc8284f1bc0a257f3         Saturday      1\n",
       "23491  6413f8d0daa3a38887a14917589e7da5        Wednesday      1\n",
       "23493  641444946fe3a839d726c32804cd1aff          Tuesday      1\n",
       "23494  6416e0ecd625ef4adf18658a9aca2e10         Thursday      1\n",
       "59952  fffe9eeff12fcbd74a2f2b007dde0c58        Wednesday      1\n",
       "\n",
       "[32216 rows x 3 columns]"
      ]
     },
     "execution_count": 119,
     "metadata": {},
     "output_type": "execute_result"
    }
   ],
   "source": [
    "# Cгруппируем заказы по product_id и дню недели,\n",
    "# посчитаем число заказов в каждой группе и отсортируем по убыванию числа заказов\n",
    "\n",
    "# Так как нам нужны дни, в которых заказ покупается чаще всего, то оставляем только первое упоминание каждого product_id\n",
    "# переименуем колонки согласно их изменениям\n",
    "items.groupby(['product_id', 'purchase_weekday'], as_index=False)\\\n",
    ".agg({'order_item_id': 'count'})\\\n",
    ".sort_values('order_item_id', ascending=False).drop_duplicates(subset='product_id', keep = 'first')\\\n",
    ".rename(columns={'order_item_id': 'sales'})"
   ]
  },
  {
   "cell_type": "markdown",
   "metadata": {},
   "source": [
    "## 4. Сколько у каждого из пользователей в среднем покупок в неделю (по месяцам)? Не стоит забывать, что внутри месяца может быть не целое количество недель. Например, в ноябре 2021 года 4,28 недели. И внутри метрики это нужно учесть."
   ]
  },
  {
   "cell_type": "markdown",
   "metadata": {},
   "source": [
    "Для выполнения задания будем использовать датафреймы delivered_orders (из 1-го задания) и customers"
   ]
  },
  {
   "cell_type": "code",
   "execution_count": 120,
   "metadata": {},
   "outputs": [],
   "source": [
    "# Объединяем таблицы \n",
    "customers_buys = delivered_orders.merge(customers, on = 'customer_id')"
   ]
  },
  {
   "cell_type": "code",
   "execution_count": 121,
   "metadata": {},
   "outputs": [
    {
     "data": {
      "text/html": [
       "<div>\n",
       "<style scoped>\n",
       "    .dataframe tbody tr th:only-of-type {\n",
       "        vertical-align: middle;\n",
       "    }\n",
       "\n",
       "    .dataframe tbody tr th {\n",
       "        vertical-align: top;\n",
       "    }\n",
       "\n",
       "    .dataframe thead th {\n",
       "        text-align: right;\n",
       "    }\n",
       "</style>\n",
       "<table border=\"1\" class=\"dataframe\">\n",
       "  <thead>\n",
       "    <tr style=\"text-align: right;\">\n",
       "      <th></th>\n",
       "      <th>order_id</th>\n",
       "      <th>customer_id</th>\n",
       "      <th>order_status</th>\n",
       "      <th>order_purchase_timestamp</th>\n",
       "      <th>order_approved_at</th>\n",
       "      <th>order_delivered_carrier_date</th>\n",
       "      <th>order_delivered_customer_date</th>\n",
       "      <th>order_estimated_delivery_date</th>\n",
       "      <th>customer_unique_id</th>\n",
       "      <th>customer_zip_code_prefix</th>\n",
       "      <th>customer_city</th>\n",
       "      <th>customer_state</th>\n",
       "      <th>month</th>\n",
       "    </tr>\n",
       "  </thead>\n",
       "  <tbody>\n",
       "    <tr>\n",
       "      <th>0</th>\n",
       "      <td>e481f51cbdc54678b7cc49136f2d6af7</td>\n",
       "      <td>9ef432eb6251297304e76186b10a928d</td>\n",
       "      <td>delivered</td>\n",
       "      <td>2017-10-02 10:56:33</td>\n",
       "      <td>2017-10-02 11:07:15</td>\n",
       "      <td>2017-10-04 19:55:00</td>\n",
       "      <td>2017-10-10 21:25:13</td>\n",
       "      <td>2017-10-18</td>\n",
       "      <td>7c396fd4830fd04220f754e42b4e5bff</td>\n",
       "      <td>3149</td>\n",
       "      <td>sao paulo</td>\n",
       "      <td>SP</td>\n",
       "      <td>2017-10</td>\n",
       "    </tr>\n",
       "    <tr>\n",
       "      <th>1</th>\n",
       "      <td>53cdb2fc8bc7dce0b6741e2150273451</td>\n",
       "      <td>b0830fb4747a6c6d20dea0b8c802d7ef</td>\n",
       "      <td>delivered</td>\n",
       "      <td>2018-07-24 20:41:37</td>\n",
       "      <td>2018-07-26 03:24:27</td>\n",
       "      <td>2018-07-26 14:31:00</td>\n",
       "      <td>2018-08-07 15:27:45</td>\n",
       "      <td>2018-08-13</td>\n",
       "      <td>af07308b275d755c9edb36a90c618231</td>\n",
       "      <td>47813</td>\n",
       "      <td>barreiras</td>\n",
       "      <td>BA</td>\n",
       "      <td>2018-08</td>\n",
       "    </tr>\n",
       "    <tr>\n",
       "      <th>2</th>\n",
       "      <td>47770eb9100c2d0c44946d9cf07ec65d</td>\n",
       "      <td>41ce2a54c0b03bf3443c3d931a367089</td>\n",
       "      <td>delivered</td>\n",
       "      <td>2018-08-08 08:38:49</td>\n",
       "      <td>2018-08-08 08:55:23</td>\n",
       "      <td>2018-08-08 13:50:00</td>\n",
       "      <td>2018-08-17 18:06:29</td>\n",
       "      <td>2018-09-04</td>\n",
       "      <td>3a653a41f6f9fc3d2a113cf8398680e8</td>\n",
       "      <td>75265</td>\n",
       "      <td>vianopolis</td>\n",
       "      <td>GO</td>\n",
       "      <td>2018-08</td>\n",
       "    </tr>\n",
       "    <tr>\n",
       "      <th>3</th>\n",
       "      <td>949d5b44dbf5de918fe9c16f97b45f8a</td>\n",
       "      <td>f88197465ea7920adcdbec7375364d82</td>\n",
       "      <td>delivered</td>\n",
       "      <td>2017-11-18 19:28:06</td>\n",
       "      <td>2017-11-18 19:45:59</td>\n",
       "      <td>2017-11-22 13:39:59</td>\n",
       "      <td>2017-12-02 00:28:42</td>\n",
       "      <td>2017-12-15</td>\n",
       "      <td>7c142cf63193a1473d2e66489a9ae977</td>\n",
       "      <td>59296</td>\n",
       "      <td>sao goncalo do amarante</td>\n",
       "      <td>RN</td>\n",
       "      <td>2017-12</td>\n",
       "    </tr>\n",
       "    <tr>\n",
       "      <th>4</th>\n",
       "      <td>ad21c59c0840e6cb83a9ceb5573f8159</td>\n",
       "      <td>8ab97904e6daea8866dbdbc4fb7aad2c</td>\n",
       "      <td>delivered</td>\n",
       "      <td>2018-02-13 21:18:39</td>\n",
       "      <td>2018-02-13 22:20:29</td>\n",
       "      <td>2018-02-14 19:46:34</td>\n",
       "      <td>2018-02-16 18:17:02</td>\n",
       "      <td>2018-02-26</td>\n",
       "      <td>72632f0f9dd73dfee390c9b22eb56dd6</td>\n",
       "      <td>9195</td>\n",
       "      <td>santo andre</td>\n",
       "      <td>SP</td>\n",
       "      <td>2018-02</td>\n",
       "    </tr>\n",
       "  </tbody>\n",
       "</table>\n",
       "</div>"
      ],
      "text/plain": [
       "                           order_id                       customer_id  \\\n",
       "0  e481f51cbdc54678b7cc49136f2d6af7  9ef432eb6251297304e76186b10a928d   \n",
       "1  53cdb2fc8bc7dce0b6741e2150273451  b0830fb4747a6c6d20dea0b8c802d7ef   \n",
       "2  47770eb9100c2d0c44946d9cf07ec65d  41ce2a54c0b03bf3443c3d931a367089   \n",
       "3  949d5b44dbf5de918fe9c16f97b45f8a  f88197465ea7920adcdbec7375364d82   \n",
       "4  ad21c59c0840e6cb83a9ceb5573f8159  8ab97904e6daea8866dbdbc4fb7aad2c   \n",
       "\n",
       "  order_status order_purchase_timestamp   order_approved_at  \\\n",
       "0    delivered      2017-10-02 10:56:33 2017-10-02 11:07:15   \n",
       "1    delivered      2018-07-24 20:41:37 2018-07-26 03:24:27   \n",
       "2    delivered      2018-08-08 08:38:49 2018-08-08 08:55:23   \n",
       "3    delivered      2017-11-18 19:28:06 2017-11-18 19:45:59   \n",
       "4    delivered      2018-02-13 21:18:39 2018-02-13 22:20:29   \n",
       "\n",
       "  order_delivered_carrier_date order_delivered_customer_date  \\\n",
       "0          2017-10-04 19:55:00           2017-10-10 21:25:13   \n",
       "1          2018-07-26 14:31:00           2018-08-07 15:27:45   \n",
       "2          2018-08-08 13:50:00           2018-08-17 18:06:29   \n",
       "3          2017-11-22 13:39:59           2017-12-02 00:28:42   \n",
       "4          2018-02-14 19:46:34           2018-02-16 18:17:02   \n",
       "\n",
       "  order_estimated_delivery_date                customer_unique_id  \\\n",
       "0                    2017-10-18  7c396fd4830fd04220f754e42b4e5bff   \n",
       "1                    2018-08-13  af07308b275d755c9edb36a90c618231   \n",
       "2                    2018-09-04  3a653a41f6f9fc3d2a113cf8398680e8   \n",
       "3                    2017-12-15  7c142cf63193a1473d2e66489a9ae977   \n",
       "4                    2018-02-26  72632f0f9dd73dfee390c9b22eb56dd6   \n",
       "\n",
       "   customer_zip_code_prefix            customer_city customer_state    month  \n",
       "0                      3149                sao paulo             SP  2017-10  \n",
       "1                     47813                barreiras             BA  2018-08  \n",
       "2                     75265               vianopolis             GO  2018-08  \n",
       "3                     59296  sao goncalo do amarante             RN  2017-12  \n",
       "4                      9195              santo andre             SP  2018-02  "
      ]
     },
     "execution_count": 121,
     "metadata": {},
     "output_type": "execute_result"
    }
   ],
   "source": [
    "# Создаем колонку с месяцем покупки\n",
    "customers_buys['month'] = customers_buys.order_delivered_customer_date.dt.to_period('M')\n",
    "customers_buys.head()"
   ]
  },
  {
   "cell_type": "code",
   "execution_count": 122,
   "metadata": {},
   "outputs": [],
   "source": [
    "# Группировка по пользователям и месяцу, считая количество покупок\n",
    "customers_buys_by_month = customers_buys\\\n",
    ".groupby(['customer_unique_id', 'month'], as_index=False).agg({'order_id': 'count'})\\\n",
    ".rename(columns={'order_id': 'orders'})"
   ]
  },
  {
   "cell_type": "code",
   "execution_count": 123,
   "metadata": {},
   "outputs": [
    {
     "data": {
      "text/html": [
       "<div>\n",
       "<style scoped>\n",
       "    .dataframe tbody tr th:only-of-type {\n",
       "        vertical-align: middle;\n",
       "    }\n",
       "\n",
       "    .dataframe tbody tr th {\n",
       "        vertical-align: top;\n",
       "    }\n",
       "\n",
       "    .dataframe thead th {\n",
       "        text-align: right;\n",
       "    }\n",
       "</style>\n",
       "<table border=\"1\" class=\"dataframe\">\n",
       "  <thead>\n",
       "    <tr style=\"text-align: right;\">\n",
       "      <th></th>\n",
       "      <th>customer_unique_id</th>\n",
       "      <th>month</th>\n",
       "      <th>orders</th>\n",
       "      <th>weeks_count</th>\n",
       "    </tr>\n",
       "  </thead>\n",
       "  <tbody>\n",
       "    <tr>\n",
       "      <th>0</th>\n",
       "      <td>0000366f3b9a7992bf8c76cfdf3221e2</td>\n",
       "      <td>2018-05</td>\n",
       "      <td>1</td>\n",
       "      <td>4.428571</td>\n",
       "    </tr>\n",
       "    <tr>\n",
       "      <th>1</th>\n",
       "      <td>0000b849f77a49e4a4ce2b2a4ca5be3f</td>\n",
       "      <td>2018-05</td>\n",
       "      <td>1</td>\n",
       "      <td>4.428571</td>\n",
       "    </tr>\n",
       "    <tr>\n",
       "      <th>2</th>\n",
       "      <td>0000f46a3911fa3c0805444483337064</td>\n",
       "      <td>2017-04</td>\n",
       "      <td>1</td>\n",
       "      <td>4.285714</td>\n",
       "    </tr>\n",
       "    <tr>\n",
       "      <th>3</th>\n",
       "      <td>0000f6ccb0745a6a4b88665a16c9f078</td>\n",
       "      <td>2017-11</td>\n",
       "      <td>1</td>\n",
       "      <td>4.285714</td>\n",
       "    </tr>\n",
       "    <tr>\n",
       "      <th>4</th>\n",
       "      <td>0004aac84e0df4da2b147fca70cf8255</td>\n",
       "      <td>2017-11</td>\n",
       "      <td>1</td>\n",
       "      <td>4.285714</td>\n",
       "    </tr>\n",
       "  </tbody>\n",
       "</table>\n",
       "</div>"
      ],
      "text/plain": [
       "                 customer_unique_id    month  orders  weeks_count\n",
       "0  0000366f3b9a7992bf8c76cfdf3221e2  2018-05       1     4.428571\n",
       "1  0000b849f77a49e4a4ce2b2a4ca5be3f  2018-05       1     4.428571\n",
       "2  0000f46a3911fa3c0805444483337064  2017-04       1     4.285714\n",
       "3  0000f6ccb0745a6a4b88665a16c9f078  2017-11       1     4.285714\n",
       "4  0004aac84e0df4da2b147fca70cf8255  2017-11       1     4.285714"
      ]
     },
     "execution_count": 123,
     "metadata": {},
     "output_type": "execute_result"
    }
   ],
   "source": [
    "# Создаем колонку с количестовм недель в месяце\n",
    "customers_buys_by_month['weeks_count'] = customers_buys_by_month.month.dt.days_in_month / 7\n",
    "customers_buys_by_month.head()"
   ]
  },
  {
   "cell_type": "code",
   "execution_count": 124,
   "metadata": {},
   "outputs": [
    {
     "data": {
      "text/html": [
       "<div>\n",
       "<style scoped>\n",
       "    .dataframe tbody tr th:only-of-type {\n",
       "        vertical-align: middle;\n",
       "    }\n",
       "\n",
       "    .dataframe tbody tr th {\n",
       "        vertical-align: top;\n",
       "    }\n",
       "\n",
       "    .dataframe thead th {\n",
       "        text-align: right;\n",
       "    }\n",
       "</style>\n",
       "<table border=\"1\" class=\"dataframe\">\n",
       "  <thead>\n",
       "    <tr style=\"text-align: right;\">\n",
       "      <th></th>\n",
       "      <th>customer_unique_id</th>\n",
       "      <th>month</th>\n",
       "      <th>orders</th>\n",
       "      <th>weeks_count</th>\n",
       "      <th>orders_by_week</th>\n",
       "    </tr>\n",
       "  </thead>\n",
       "  <tbody>\n",
       "    <tr>\n",
       "      <th>0</th>\n",
       "      <td>0000366f3b9a7992bf8c76cfdf3221e2</td>\n",
       "      <td>2018-05</td>\n",
       "      <td>1</td>\n",
       "      <td>4.428571</td>\n",
       "      <td>0.225806</td>\n",
       "    </tr>\n",
       "    <tr>\n",
       "      <th>1</th>\n",
       "      <td>0000b849f77a49e4a4ce2b2a4ca5be3f</td>\n",
       "      <td>2018-05</td>\n",
       "      <td>1</td>\n",
       "      <td>4.428571</td>\n",
       "      <td>0.225806</td>\n",
       "    </tr>\n",
       "    <tr>\n",
       "      <th>2</th>\n",
       "      <td>0000f46a3911fa3c0805444483337064</td>\n",
       "      <td>2017-04</td>\n",
       "      <td>1</td>\n",
       "      <td>4.285714</td>\n",
       "      <td>0.233333</td>\n",
       "    </tr>\n",
       "    <tr>\n",
       "      <th>3</th>\n",
       "      <td>0000f6ccb0745a6a4b88665a16c9f078</td>\n",
       "      <td>2017-11</td>\n",
       "      <td>1</td>\n",
       "      <td>4.285714</td>\n",
       "      <td>0.233333</td>\n",
       "    </tr>\n",
       "    <tr>\n",
       "      <th>4</th>\n",
       "      <td>0004aac84e0df4da2b147fca70cf8255</td>\n",
       "      <td>2017-11</td>\n",
       "      <td>1</td>\n",
       "      <td>4.285714</td>\n",
       "      <td>0.233333</td>\n",
       "    </tr>\n",
       "  </tbody>\n",
       "</table>\n",
       "</div>"
      ],
      "text/plain": [
       "                 customer_unique_id    month  orders  weeks_count  \\\n",
       "0  0000366f3b9a7992bf8c76cfdf3221e2  2018-05       1     4.428571   \n",
       "1  0000b849f77a49e4a4ce2b2a4ca5be3f  2018-05       1     4.428571   \n",
       "2  0000f46a3911fa3c0805444483337064  2017-04       1     4.285714   \n",
       "3  0000f6ccb0745a6a4b88665a16c9f078  2017-11       1     4.285714   \n",
       "4  0004aac84e0df4da2b147fca70cf8255  2017-11       1     4.285714   \n",
       "\n",
       "   orders_by_week  \n",
       "0        0.225806  \n",
       "1        0.225806  \n",
       "2        0.233333  \n",
       "3        0.233333  \n",
       "4        0.233333  "
      ]
     },
     "execution_count": 124,
     "metadata": {},
     "output_type": "execute_result"
    }
   ],
   "source": [
    "# Расчет количества покупок в неделю по месяцам\n",
    "customers_buys_by_month['orders_by_week'] = customers_buys_by_month.orders/customers_buys_by_month.weeks_count\n",
    "customers_buys_by_month.head()"
   ]
  },
  {
   "cell_type": "code",
   "execution_count": 125,
   "metadata": {},
   "outputs": [
    {
     "data": {
      "text/html": [
       "<div>\n",
       "<style scoped>\n",
       "    .dataframe tbody tr th:only-of-type {\n",
       "        vertical-align: middle;\n",
       "    }\n",
       "\n",
       "    .dataframe tbody tr th {\n",
       "        vertical-align: top;\n",
       "    }\n",
       "\n",
       "    .dataframe thead th {\n",
       "        text-align: right;\n",
       "    }\n",
       "</style>\n",
       "<table border=\"1\" class=\"dataframe\">\n",
       "  <thead>\n",
       "    <tr style=\"text-align: right;\">\n",
       "      <th></th>\n",
       "      <th>customer_unique_id</th>\n",
       "      <th>orders_by_week</th>\n",
       "    </tr>\n",
       "  </thead>\n",
       "  <tbody>\n",
       "    <tr>\n",
       "      <th>0</th>\n",
       "      <td>0000366f3b9a7992bf8c76cfdf3221e2</td>\n",
       "      <td>0.225806</td>\n",
       "    </tr>\n",
       "    <tr>\n",
       "      <th>1</th>\n",
       "      <td>0000b849f77a49e4a4ce2b2a4ca5be3f</td>\n",
       "      <td>0.225806</td>\n",
       "    </tr>\n",
       "    <tr>\n",
       "      <th>2</th>\n",
       "      <td>0000f46a3911fa3c0805444483337064</td>\n",
       "      <td>0.233333</td>\n",
       "    </tr>\n",
       "    <tr>\n",
       "      <th>3</th>\n",
       "      <td>0000f6ccb0745a6a4b88665a16c9f078</td>\n",
       "      <td>0.233333</td>\n",
       "    </tr>\n",
       "    <tr>\n",
       "      <th>4</th>\n",
       "      <td>0004aac84e0df4da2b147fca70cf8255</td>\n",
       "      <td>0.233333</td>\n",
       "    </tr>\n",
       "  </tbody>\n",
       "</table>\n",
       "</div>"
      ],
      "text/plain": [
       "                 customer_unique_id  orders_by_week\n",
       "0  0000366f3b9a7992bf8c76cfdf3221e2        0.225806\n",
       "1  0000b849f77a49e4a4ce2b2a4ca5be3f        0.225806\n",
       "2  0000f46a3911fa3c0805444483337064        0.233333\n",
       "3  0000f6ccb0745a6a4b88665a16c9f078        0.233333\n",
       "4  0004aac84e0df4da2b147fca70cf8255        0.233333"
      ]
     },
     "execution_count": 125,
     "metadata": {},
     "output_type": "execute_result"
    }
   ],
   "source": [
    "# Сгруппируем по уникальным пользователям и посчитаем среднее количество покупок в неделю по месяцам\n",
    "orders_by_week = customers_buys_by_month.groupby('customer_unique_id', as_index=False).agg({'orders_by_week': 'mean'})\n",
    "orders_by_week.head()"
   ]
  },
  {
   "cell_type": "markdown",
   "metadata": {},
   "source": [
    "## 5. Выполнить когортный анализ пользователей. В период с января по декабрь выявить когорту с самым высоким retention на 3й месяц."
   ]
  },
  {
   "cell_type": "code",
   "execution_count": 126,
   "metadata": {},
   "outputs": [
    {
     "data": {
      "text/html": [
       "<div>\n",
       "<style scoped>\n",
       "    .dataframe tbody tr th:only-of-type {\n",
       "        vertical-align: middle;\n",
       "    }\n",
       "\n",
       "    .dataframe tbody tr th {\n",
       "        vertical-align: top;\n",
       "    }\n",
       "\n",
       "    .dataframe thead th {\n",
       "        text-align: right;\n",
       "    }\n",
       "</style>\n",
       "<table border=\"1\" class=\"dataframe\">\n",
       "  <thead>\n",
       "    <tr style=\"text-align: right;\">\n",
       "      <th></th>\n",
       "      <th>customer_unique_id</th>\n",
       "      <th>order_approved_at</th>\n",
       "    </tr>\n",
       "  </thead>\n",
       "  <tbody>\n",
       "    <tr>\n",
       "      <th>0</th>\n",
       "      <td>7c396fd4830fd04220f754e42b4e5bff</td>\n",
       "      <td>2017-10-02 11:07:15</td>\n",
       "    </tr>\n",
       "    <tr>\n",
       "      <th>1</th>\n",
       "      <td>af07308b275d755c9edb36a90c618231</td>\n",
       "      <td>2018-07-26 03:24:27</td>\n",
       "    </tr>\n",
       "    <tr>\n",
       "      <th>2</th>\n",
       "      <td>3a653a41f6f9fc3d2a113cf8398680e8</td>\n",
       "      <td>2018-08-08 08:55:23</td>\n",
       "    </tr>\n",
       "    <tr>\n",
       "      <th>3</th>\n",
       "      <td>7c142cf63193a1473d2e66489a9ae977</td>\n",
       "      <td>2017-11-18 19:45:59</td>\n",
       "    </tr>\n",
       "    <tr>\n",
       "      <th>4</th>\n",
       "      <td>72632f0f9dd73dfee390c9b22eb56dd6</td>\n",
       "      <td>2018-02-13 22:20:29</td>\n",
       "    </tr>\n",
       "  </tbody>\n",
       "</table>\n",
       "</div>"
      ],
      "text/plain": [
       "                 customer_unique_id   order_approved_at\n",
       "0  7c396fd4830fd04220f754e42b4e5bff 2017-10-02 11:07:15\n",
       "1  af07308b275d755c9edb36a90c618231 2018-07-26 03:24:27\n",
       "2  3a653a41f6f9fc3d2a113cf8398680e8 2018-08-08 08:55:23\n",
       "3  7c142cf63193a1473d2e66489a9ae977 2017-11-18 19:45:59\n",
       "4  72632f0f9dd73dfee390c9b22eb56dd6 2018-02-13 22:20:29"
      ]
     },
     "execution_count": 126,
     "metadata": {},
     "output_type": "execute_result"
    }
   ],
   "source": [
    "# Объеденим два датафрейма delivered_orders и customers\n",
    "customers_delivered_orders = delivered_orders.merge(customers, on = 'customer_id')[['customer_unique_id', 'order_approved_at']]\n",
    "customers_delivered_orders.head()"
   ]
  },
  {
   "cell_type": "code",
   "execution_count": 127,
   "metadata": {},
   "outputs": [],
   "source": [
    "# Уберем пропущенные значения по столбцу с датой подтверждения оплаты (order_approved_at)\n",
    "customers_delivered_orders = customers_delivered_orders.dropna(subset = ['order_approved_at'])"
   ]
  },
  {
   "cell_type": "code",
   "execution_count": 128,
   "metadata": {},
   "outputs": [
    {
     "data": {
      "text/html": [
       "<div>\n",
       "<style scoped>\n",
       "    .dataframe tbody tr th:only-of-type {\n",
       "        vertical-align: middle;\n",
       "    }\n",
       "\n",
       "    .dataframe tbody tr th {\n",
       "        vertical-align: top;\n",
       "    }\n",
       "\n",
       "    .dataframe thead th {\n",
       "        text-align: right;\n",
       "    }\n",
       "</style>\n",
       "<table border=\"1\" class=\"dataframe\">\n",
       "  <thead>\n",
       "    <tr style=\"text-align: right;\">\n",
       "      <th></th>\n",
       "      <th>customer_unique_id</th>\n",
       "      <th>order_approved_at</th>\n",
       "      <th>month</th>\n",
       "    </tr>\n",
       "  </thead>\n",
       "  <tbody>\n",
       "    <tr>\n",
       "      <th>0</th>\n",
       "      <td>7c396fd4830fd04220f754e42b4e5bff</td>\n",
       "      <td>2017-10-02 11:07:15</td>\n",
       "      <td>2017-10</td>\n",
       "    </tr>\n",
       "    <tr>\n",
       "      <th>1</th>\n",
       "      <td>af07308b275d755c9edb36a90c618231</td>\n",
       "      <td>2018-07-26 03:24:27</td>\n",
       "      <td>2018-07</td>\n",
       "    </tr>\n",
       "    <tr>\n",
       "      <th>2</th>\n",
       "      <td>3a653a41f6f9fc3d2a113cf8398680e8</td>\n",
       "      <td>2018-08-08 08:55:23</td>\n",
       "      <td>2018-08</td>\n",
       "    </tr>\n",
       "    <tr>\n",
       "      <th>3</th>\n",
       "      <td>7c142cf63193a1473d2e66489a9ae977</td>\n",
       "      <td>2017-11-18 19:45:59</td>\n",
       "      <td>2017-11</td>\n",
       "    </tr>\n",
       "    <tr>\n",
       "      <th>4</th>\n",
       "      <td>72632f0f9dd73dfee390c9b22eb56dd6</td>\n",
       "      <td>2018-02-13 22:20:29</td>\n",
       "      <td>2018-02</td>\n",
       "    </tr>\n",
       "  </tbody>\n",
       "</table>\n",
       "</div>"
      ],
      "text/plain": [
       "                 customer_unique_id   order_approved_at    month\n",
       "0  7c396fd4830fd04220f754e42b4e5bff 2017-10-02 11:07:15  2017-10\n",
       "1  af07308b275d755c9edb36a90c618231 2018-07-26 03:24:27  2018-07\n",
       "2  3a653a41f6f9fc3d2a113cf8398680e8 2018-08-08 08:55:23  2018-08\n",
       "3  7c142cf63193a1473d2e66489a9ae977 2017-11-18 19:45:59  2017-11\n",
       "4  72632f0f9dd73dfee390c9b22eb56dd6 2018-02-13 22:20:29  2018-02"
      ]
     },
     "execution_count": 128,
     "metadata": {},
     "output_type": "execute_result"
    }
   ],
   "source": [
    "# Создаем колонку с месяцем покупки\n",
    "customers_delivered_orders['month'] = customers_delivered_orders.order_approved_at.dt.to_period('M')\n",
    "customers_delivered_orders.head()"
   ]
  },
  {
   "cell_type": "markdown",
   "metadata": {},
   "source": [
    "Когортный анализ необходимо построить за 1 полный год. Посмотрим, какой временной промежуток занимают данные"
   ]
  },
  {
   "cell_type": "code",
   "execution_count": 129,
   "metadata": {},
   "outputs": [
    {
     "data": {
      "text/plain": [
       "<PeriodArray>\n",
       "['2016-09', '2016-10', '2016-12', '2017-01', '2017-02', '2017-03', '2017-04',\n",
       " '2017-05', '2017-06', '2017-07', '2017-08', '2017-09', '2017-10', '2017-11',\n",
       " '2017-12', '2018-01', '2018-02', '2018-03', '2018-04', '2018-05', '2018-06',\n",
       " '2018-07', '2018-08']\n",
       "Length: 23, dtype: period[M]"
      ]
     },
     "execution_count": 129,
     "metadata": {},
     "output_type": "execute_result"
    }
   ],
   "source": [
    "customers_delivered_orders.month.sort_values().unique()"
   ]
  },
  {
   "cell_type": "markdown",
   "metadata": {},
   "source": [
    "Подходит только 2017 год."
   ]
  },
  {
   "cell_type": "code",
   "execution_count": 130,
   "metadata": {},
   "outputs": [
    {
     "data": {
      "text/html": [
       "<div>\n",
       "<style scoped>\n",
       "    .dataframe tbody tr th:only-of-type {\n",
       "        vertical-align: middle;\n",
       "    }\n",
       "\n",
       "    .dataframe tbody tr th {\n",
       "        vertical-align: top;\n",
       "    }\n",
       "\n",
       "    .dataframe thead th {\n",
       "        text-align: right;\n",
       "    }\n",
       "</style>\n",
       "<table border=\"1\" class=\"dataframe\">\n",
       "  <thead>\n",
       "    <tr style=\"text-align: right;\">\n",
       "      <th></th>\n",
       "      <th>customer_unique_id</th>\n",
       "      <th>first_order</th>\n",
       "    </tr>\n",
       "  </thead>\n",
       "  <tbody>\n",
       "    <tr>\n",
       "      <th>0</th>\n",
       "      <td>0000366f3b9a7992bf8c76cfdf3221e2</td>\n",
       "      <td>2018-05</td>\n",
       "    </tr>\n",
       "    <tr>\n",
       "      <th>1</th>\n",
       "      <td>0000b849f77a49e4a4ce2b2a4ca5be3f</td>\n",
       "      <td>2018-05</td>\n",
       "    </tr>\n",
       "    <tr>\n",
       "      <th>2</th>\n",
       "      <td>0000f46a3911fa3c0805444483337064</td>\n",
       "      <td>2017-03</td>\n",
       "    </tr>\n",
       "    <tr>\n",
       "      <th>3</th>\n",
       "      <td>0000f6ccb0745a6a4b88665a16c9f078</td>\n",
       "      <td>2017-10</td>\n",
       "    </tr>\n",
       "    <tr>\n",
       "      <th>4</th>\n",
       "      <td>0004aac84e0df4da2b147fca70cf8255</td>\n",
       "      <td>2017-11</td>\n",
       "    </tr>\n",
       "  </tbody>\n",
       "</table>\n",
       "</div>"
      ],
      "text/plain": [
       "                 customer_unique_id first_order\n",
       "0  0000366f3b9a7992bf8c76cfdf3221e2     2018-05\n",
       "1  0000b849f77a49e4a4ce2b2a4ca5be3f     2018-05\n",
       "2  0000f46a3911fa3c0805444483337064     2017-03\n",
       "3  0000f6ccb0745a6a4b88665a16c9f078     2017-10\n",
       "4  0004aac84e0df4da2b147fca70cf8255     2017-11"
      ]
     },
     "execution_count": 130,
     "metadata": {},
     "output_type": "execute_result"
    }
   ],
   "source": [
    "# Определим для каждого покупателя дату его первой покупки\n",
    "first_order = customers_delivered_orders.groupby('customer_unique_id', as_index=False)\\\n",
    ".agg({'month': 'min'})\\\n",
    ".rename(columns={'month': 'first_order'})\n",
    "first_order.head()"
   ]
  },
  {
   "cell_type": "code",
   "execution_count": 131,
   "metadata": {},
   "outputs": [
    {
     "data": {
      "text/html": [
       "<div>\n",
       "<style scoped>\n",
       "    .dataframe tbody tr th:only-of-type {\n",
       "        vertical-align: middle;\n",
       "    }\n",
       "\n",
       "    .dataframe tbody tr th {\n",
       "        vertical-align: top;\n",
       "    }\n",
       "\n",
       "    .dataframe thead th {\n",
       "        text-align: right;\n",
       "    }\n",
       "</style>\n",
       "<table border=\"1\" class=\"dataframe\">\n",
       "  <thead>\n",
       "    <tr style=\"text-align: right;\">\n",
       "      <th></th>\n",
       "      <th>customer_unique_id</th>\n",
       "      <th>order_approved_at</th>\n",
       "      <th>month</th>\n",
       "      <th>first_order</th>\n",
       "    </tr>\n",
       "  </thead>\n",
       "  <tbody>\n",
       "    <tr>\n",
       "      <th>0</th>\n",
       "      <td>7c396fd4830fd04220f754e42b4e5bff</td>\n",
       "      <td>2017-10-02 11:07:15</td>\n",
       "      <td>2017-10</td>\n",
       "      <td>2017-09</td>\n",
       "    </tr>\n",
       "    <tr>\n",
       "      <th>1</th>\n",
       "      <td>7c396fd4830fd04220f754e42b4e5bff</td>\n",
       "      <td>2017-09-04 11:43:25</td>\n",
       "      <td>2017-09</td>\n",
       "      <td>2017-09</td>\n",
       "    </tr>\n",
       "    <tr>\n",
       "      <th>2</th>\n",
       "      <td>af07308b275d755c9edb36a90c618231</td>\n",
       "      <td>2018-07-26 03:24:27</td>\n",
       "      <td>2018-07</td>\n",
       "      <td>2018-07</td>\n",
       "    </tr>\n",
       "    <tr>\n",
       "      <th>3</th>\n",
       "      <td>3a653a41f6f9fc3d2a113cf8398680e8</td>\n",
       "      <td>2018-08-08 08:55:23</td>\n",
       "      <td>2018-08</td>\n",
       "      <td>2018-08</td>\n",
       "    </tr>\n",
       "    <tr>\n",
       "      <th>4</th>\n",
       "      <td>7c142cf63193a1473d2e66489a9ae977</td>\n",
       "      <td>2017-11-18 19:45:59</td>\n",
       "      <td>2017-11</td>\n",
       "      <td>2017-11</td>\n",
       "    </tr>\n",
       "  </tbody>\n",
       "</table>\n",
       "</div>"
      ],
      "text/plain": [
       "                 customer_unique_id   order_approved_at    month first_order\n",
       "0  7c396fd4830fd04220f754e42b4e5bff 2017-10-02 11:07:15  2017-10     2017-09\n",
       "1  7c396fd4830fd04220f754e42b4e5bff 2017-09-04 11:43:25  2017-09     2017-09\n",
       "2  af07308b275d755c9edb36a90c618231 2018-07-26 03:24:27  2018-07     2018-07\n",
       "3  3a653a41f6f9fc3d2a113cf8398680e8 2018-08-08 08:55:23  2018-08     2018-08\n",
       "4  7c142cf63193a1473d2e66489a9ae977 2017-11-18 19:45:59  2017-11     2017-11"
      ]
     },
     "execution_count": 131,
     "metadata": {},
     "output_type": "execute_result"
    }
   ],
   "source": [
    "# Добавим колонку с датой первой покупки к общей таблице\n",
    "customers_delivered_orders_merged = customers_delivered_orders.merge(first_order, on = 'customer_unique_id')\n",
    "customers_delivered_orders_merged.head()"
   ]
  },
  {
   "cell_type": "code",
   "execution_count": 132,
   "metadata": {
    "scrolled": false
   },
   "outputs": [
    {
     "data": {
      "text/html": [
       "<div>\n",
       "<style scoped>\n",
       "    .dataframe tbody tr th:only-of-type {\n",
       "        vertical-align: middle;\n",
       "    }\n",
       "\n",
       "    .dataframe tbody tr th {\n",
       "        vertical-align: top;\n",
       "    }\n",
       "\n",
       "    .dataframe thead th {\n",
       "        text-align: right;\n",
       "    }\n",
       "</style>\n",
       "<table border=\"1\" class=\"dataframe\">\n",
       "  <thead>\n",
       "    <tr style=\"text-align: right;\">\n",
       "      <th></th>\n",
       "      <th>customer_unique_id</th>\n",
       "      <th>order_approved_at</th>\n",
       "      <th>month</th>\n",
       "      <th>first_order</th>\n",
       "    </tr>\n",
       "  </thead>\n",
       "  <tbody>\n",
       "    <tr>\n",
       "      <th>0</th>\n",
       "      <td>7c396fd4830fd04220f754e42b4e5bff</td>\n",
       "      <td>2017-10-02 11:07:15</td>\n",
       "      <td>2017-10</td>\n",
       "      <td>2017-09</td>\n",
       "    </tr>\n",
       "    <tr>\n",
       "      <th>1</th>\n",
       "      <td>7c396fd4830fd04220f754e42b4e5bff</td>\n",
       "      <td>2017-09-04 11:43:25</td>\n",
       "      <td>2017-09</td>\n",
       "      <td>2017-09</td>\n",
       "    </tr>\n",
       "    <tr>\n",
       "      <th>4</th>\n",
       "      <td>7c142cf63193a1473d2e66489a9ae977</td>\n",
       "      <td>2017-11-18 19:45:59</td>\n",
       "      <td>2017-11</td>\n",
       "      <td>2017-11</td>\n",
       "    </tr>\n",
       "    <tr>\n",
       "      <th>6</th>\n",
       "      <td>80bb27c7c16e8f973207a5086ab329e2</td>\n",
       "      <td>2017-07-09 22:10:13</td>\n",
       "      <td>2017-07</td>\n",
       "      <td>2017-07</td>\n",
       "    </tr>\n",
       "    <tr>\n",
       "      <th>7</th>\n",
       "      <td>932afa1e708222e5821dac9cd5db4cae</td>\n",
       "      <td>2017-05-16 13:22:11</td>\n",
       "      <td>2017-05</td>\n",
       "      <td>2017-05</td>\n",
       "    </tr>\n",
       "  </tbody>\n",
       "</table>\n",
       "</div>"
      ],
      "text/plain": [
       "                 customer_unique_id   order_approved_at    month first_order\n",
       "0  7c396fd4830fd04220f754e42b4e5bff 2017-10-02 11:07:15  2017-10     2017-09\n",
       "1  7c396fd4830fd04220f754e42b4e5bff 2017-09-04 11:43:25  2017-09     2017-09\n",
       "4  7c142cf63193a1473d2e66489a9ae977 2017-11-18 19:45:59  2017-11     2017-11\n",
       "6  80bb27c7c16e8f973207a5086ab329e2 2017-07-09 22:10:13  2017-07     2017-07\n",
       "7  932afa1e708222e5821dac9cd5db4cae 2017-05-16 13:22:11  2017-05     2017-05"
      ]
     },
     "execution_count": 132,
     "metadata": {},
     "output_type": "execute_result"
    }
   ],
   "source": [
    "# Отберем данные с января по декабрь 2017 года\n",
    "customers_delivered_orders_2017 = customers_delivered_orders_merged.query(\"'2017-01' <= first_order <= '2017-12' and '2017-01' <= month <= '2017-12'\")\n",
    "customers_delivered_orders_2017.head()"
   ]
  },
  {
   "cell_type": "code",
   "execution_count": 133,
   "metadata": {},
   "outputs": [
    {
     "data": {
      "text/html": [
       "<div>\n",
       "<style scoped>\n",
       "    .dataframe tbody tr th:only-of-type {\n",
       "        vertical-align: middle;\n",
       "    }\n",
       "\n",
       "    .dataframe tbody tr th {\n",
       "        vertical-align: top;\n",
       "    }\n",
       "\n",
       "    .dataframe thead th {\n",
       "        text-align: right;\n",
       "    }\n",
       "</style>\n",
       "<table border=\"1\" class=\"dataframe\">\n",
       "  <thead>\n",
       "    <tr style=\"text-align: right;\">\n",
       "      <th></th>\n",
       "      <th></th>\n",
       "      <th>total_customers</th>\n",
       "      <th>total_orders</th>\n",
       "    </tr>\n",
       "    <tr>\n",
       "      <th>first_order</th>\n",
       "      <th>month</th>\n",
       "      <th></th>\n",
       "      <th></th>\n",
       "    </tr>\n",
       "  </thead>\n",
       "  <tbody>\n",
       "    <tr>\n",
       "      <th rowspan=\"5\" valign=\"top\">2017-01</th>\n",
       "      <th>2017-01</th>\n",
       "      <td>683</td>\n",
       "      <td>714</td>\n",
       "    </tr>\n",
       "    <tr>\n",
       "      <th>2017-02</th>\n",
       "      <td>3</td>\n",
       "      <td>3</td>\n",
       "    </tr>\n",
       "    <tr>\n",
       "      <th>2017-03</th>\n",
       "      <td>2</td>\n",
       "      <td>2</td>\n",
       "    </tr>\n",
       "    <tr>\n",
       "      <th>2017-04</th>\n",
       "      <td>1</td>\n",
       "      <td>1</td>\n",
       "    </tr>\n",
       "    <tr>\n",
       "      <th>2017-05</th>\n",
       "      <td>3</td>\n",
       "      <td>3</td>\n",
       "    </tr>\n",
       "    <tr>\n",
       "      <th>...</th>\n",
       "      <th>...</th>\n",
       "      <td>...</td>\n",
       "      <td>...</td>\n",
       "    </tr>\n",
       "    <tr>\n",
       "      <th rowspan=\"2\" valign=\"top\">2017-10</th>\n",
       "      <th>2017-11</th>\n",
       "      <td>30</td>\n",
       "      <td>32</td>\n",
       "    </tr>\n",
       "    <tr>\n",
       "      <th>2017-12</th>\n",
       "      <td>13</td>\n",
       "      <td>13</td>\n",
       "    </tr>\n",
       "    <tr>\n",
       "      <th rowspan=\"2\" valign=\"top\">2017-11</th>\n",
       "      <th>2017-11</th>\n",
       "      <td>6927</td>\n",
       "      <td>7026</td>\n",
       "    </tr>\n",
       "    <tr>\n",
       "      <th>2017-12</th>\n",
       "      <td>39</td>\n",
       "      <td>41</td>\n",
       "    </tr>\n",
       "    <tr>\n",
       "      <th>2017-12</th>\n",
       "      <th>2017-12</th>\n",
       "      <td>5490</td>\n",
       "      <td>5551</td>\n",
       "    </tr>\n",
       "  </tbody>\n",
       "</table>\n",
       "<p>77 rows × 2 columns</p>\n",
       "</div>"
      ],
      "text/plain": [
       "                     total_customers  total_orders\n",
       "first_order month                                 \n",
       "2017-01     2017-01              683           714\n",
       "            2017-02                3             3\n",
       "            2017-03                2             2\n",
       "            2017-04                1             1\n",
       "            2017-05                3             3\n",
       "...                              ...           ...\n",
       "2017-10     2017-11               30            32\n",
       "            2017-12               13            13\n",
       "2017-11     2017-11             6927          7026\n",
       "            2017-12               39            41\n",
       "2017-12     2017-12             5490          5551\n",
       "\n",
       "[77 rows x 2 columns]"
      ]
     },
     "execution_count": 133,
     "metadata": {},
     "output_type": "execute_result"
    }
   ],
   "source": [
    "# Формируем когорты\n",
    "cohorts = customers_delivered_orders_2017.groupby(['first_order','month'])['customer_unique_id'] \\\n",
    ".agg(['nunique', 'count']) \\\n",
    ".rename(columns={'nunique': 'total_customers', 'count': 'total_orders'})\n",
    "cohorts"
   ]
  },
  {
   "cell_type": "code",
   "execution_count": 134,
   "metadata": {},
   "outputs": [
    {
     "data": {
      "text/html": [
       "<div>\n",
       "<style scoped>\n",
       "    .dataframe tbody tr th:only-of-type {\n",
       "        vertical-align: middle;\n",
       "    }\n",
       "\n",
       "    .dataframe tbody tr th {\n",
       "        vertical-align: top;\n",
       "    }\n",
       "\n",
       "    .dataframe thead th {\n",
       "        text-align: right;\n",
       "    }\n",
       "</style>\n",
       "<table border=\"1\" class=\"dataframe\">\n",
       "  <thead>\n",
       "    <tr style=\"text-align: right;\">\n",
       "      <th></th>\n",
       "      <th></th>\n",
       "      <th>total_customers</th>\n",
       "      <th>total_orders</th>\n",
       "      <th>cohort_period</th>\n",
       "    </tr>\n",
       "    <tr>\n",
       "      <th>first_order</th>\n",
       "      <th>month</th>\n",
       "      <th></th>\n",
       "      <th></th>\n",
       "      <th></th>\n",
       "    </tr>\n",
       "  </thead>\n",
       "  <tbody>\n",
       "    <tr>\n",
       "      <th rowspan=\"10\" valign=\"top\">2017-01</th>\n",
       "      <th>2017-01</th>\n",
       "      <td>683</td>\n",
       "      <td>714</td>\n",
       "      <td>0</td>\n",
       "    </tr>\n",
       "    <tr>\n",
       "      <th>2017-02</th>\n",
       "      <td>3</td>\n",
       "      <td>3</td>\n",
       "      <td>1</td>\n",
       "    </tr>\n",
       "    <tr>\n",
       "      <th>2017-03</th>\n",
       "      <td>2</td>\n",
       "      <td>2</td>\n",
       "      <td>2</td>\n",
       "    </tr>\n",
       "    <tr>\n",
       "      <th>2017-04</th>\n",
       "      <td>1</td>\n",
       "      <td>1</td>\n",
       "      <td>3</td>\n",
       "    </tr>\n",
       "    <tr>\n",
       "      <th>2017-05</th>\n",
       "      <td>3</td>\n",
       "      <td>3</td>\n",
       "      <td>4</td>\n",
       "    </tr>\n",
       "    <tr>\n",
       "      <th>2017-06</th>\n",
       "      <td>1</td>\n",
       "      <td>1</td>\n",
       "      <td>5</td>\n",
       "    </tr>\n",
       "    <tr>\n",
       "      <th>2017-07</th>\n",
       "      <td>3</td>\n",
       "      <td>3</td>\n",
       "      <td>6</td>\n",
       "    </tr>\n",
       "    <tr>\n",
       "      <th>2017-08</th>\n",
       "      <td>1</td>\n",
       "      <td>1</td>\n",
       "      <td>7</td>\n",
       "    </tr>\n",
       "    <tr>\n",
       "      <th>2017-09</th>\n",
       "      <td>1</td>\n",
       "      <td>1</td>\n",
       "      <td>8</td>\n",
       "    </tr>\n",
       "    <tr>\n",
       "      <th>2017-11</th>\n",
       "      <td>2</td>\n",
       "      <td>2</td>\n",
       "      <td>9</td>\n",
       "    </tr>\n",
       "  </tbody>\n",
       "</table>\n",
       "</div>"
      ],
      "text/plain": [
       "                     total_customers  total_orders  cohort_period\n",
       "first_order month                                                \n",
       "2017-01     2017-01              683           714              0\n",
       "            2017-02                3             3              1\n",
       "            2017-03                2             2              2\n",
       "            2017-04                1             1              3\n",
       "            2017-05                3             3              4\n",
       "            2017-06                1             1              5\n",
       "            2017-07                3             3              6\n",
       "            2017-08                1             1              7\n",
       "            2017-09                1             1              8\n",
       "            2017-11                2             2              9"
      ]
     },
     "execution_count": 134,
     "metadata": {},
     "output_type": "execute_result"
    }
   ],
   "source": [
    "# Добавим порядковое значение периода когорты для каждой когорты.\n",
    "def cohort_period(df):\n",
    "     df['cohort_period'] = np.arange(len(df))\n",
    "     return df\n",
    "cohorts = cohorts.groupby(level=0).apply(cohort_period)\n",
    "cohorts.head(10)"
   ]
  },
  {
   "cell_type": "code",
   "execution_count": 135,
   "metadata": {},
   "outputs": [
    {
     "data": {
      "text/html": [
       "<div>\n",
       "<style scoped>\n",
       "    .dataframe tbody tr th:only-of-type {\n",
       "        vertical-align: middle;\n",
       "    }\n",
       "\n",
       "    .dataframe tbody tr th {\n",
       "        vertical-align: top;\n",
       "    }\n",
       "\n",
       "    .dataframe thead th {\n",
       "        text-align: right;\n",
       "    }\n",
       "</style>\n",
       "<table border=\"1\" class=\"dataframe\">\n",
       "  <thead>\n",
       "    <tr style=\"text-align: right;\">\n",
       "      <th>cohort_period</th>\n",
       "      <th>0</th>\n",
       "      <th>1</th>\n",
       "      <th>2</th>\n",
       "      <th>3</th>\n",
       "      <th>4</th>\n",
       "      <th>5</th>\n",
       "      <th>6</th>\n",
       "      <th>7</th>\n",
       "      <th>8</th>\n",
       "      <th>9</th>\n",
       "      <th>10</th>\n",
       "    </tr>\n",
       "    <tr>\n",
       "      <th>first_order</th>\n",
       "      <th></th>\n",
       "      <th></th>\n",
       "      <th></th>\n",
       "      <th></th>\n",
       "      <th></th>\n",
       "      <th></th>\n",
       "      <th></th>\n",
       "      <th></th>\n",
       "      <th></th>\n",
       "      <th></th>\n",
       "      <th></th>\n",
       "    </tr>\n",
       "  </thead>\n",
       "  <tbody>\n",
       "    <tr>\n",
       "      <th>2017-01</th>\n",
       "      <td>683.0</td>\n",
       "      <td>3.0</td>\n",
       "      <td>2.0</td>\n",
       "      <td>1.0</td>\n",
       "      <td>3.0</td>\n",
       "      <td>1.0</td>\n",
       "      <td>3.0</td>\n",
       "      <td>1.0</td>\n",
       "      <td>1.0</td>\n",
       "      <td>2.0</td>\n",
       "      <td>2.0</td>\n",
       "    </tr>\n",
       "    <tr>\n",
       "      <th>2017-02</th>\n",
       "      <td>1612.0</td>\n",
       "      <td>3.0</td>\n",
       "      <td>4.0</td>\n",
       "      <td>3.0</td>\n",
       "      <td>7.0</td>\n",
       "      <td>2.0</td>\n",
       "      <td>4.0</td>\n",
       "      <td>3.0</td>\n",
       "      <td>1.0</td>\n",
       "      <td>3.0</td>\n",
       "      <td>2.0</td>\n",
       "    </tr>\n",
       "    <tr>\n",
       "      <th>2017-03</th>\n",
       "      <td>2511.0</td>\n",
       "      <td>11.0</td>\n",
       "      <td>9.0</td>\n",
       "      <td>9.0</td>\n",
       "      <td>9.0</td>\n",
       "      <td>4.0</td>\n",
       "      <td>4.0</td>\n",
       "      <td>8.0</td>\n",
       "      <td>7.0</td>\n",
       "      <td>3.0</td>\n",
       "      <td>NaN</td>\n",
       "    </tr>\n",
       "    <tr>\n",
       "      <th>2017-04</th>\n",
       "      <td>2232.0</td>\n",
       "      <td>14.0</td>\n",
       "      <td>5.0</td>\n",
       "      <td>4.0</td>\n",
       "      <td>5.0</td>\n",
       "      <td>6.0</td>\n",
       "      <td>8.0</td>\n",
       "      <td>6.0</td>\n",
       "      <td>8.0</td>\n",
       "      <td>NaN</td>\n",
       "      <td>NaN</td>\n",
       "    </tr>\n",
       "    <tr>\n",
       "      <th>2017-05</th>\n",
       "      <td>3453.0</td>\n",
       "      <td>18.0</td>\n",
       "      <td>16.0</td>\n",
       "      <td>10.0</td>\n",
       "      <td>10.0</td>\n",
       "      <td>11.0</td>\n",
       "      <td>14.0</td>\n",
       "      <td>5.0</td>\n",
       "      <td>NaN</td>\n",
       "      <td>NaN</td>\n",
       "      <td>NaN</td>\n",
       "    </tr>\n",
       "    <tr>\n",
       "      <th>2017-06</th>\n",
       "      <td>3044.0</td>\n",
       "      <td>15.0</td>\n",
       "      <td>12.0</td>\n",
       "      <td>13.0</td>\n",
       "      <td>9.0</td>\n",
       "      <td>11.0</td>\n",
       "      <td>11.0</td>\n",
       "      <td>NaN</td>\n",
       "      <td>NaN</td>\n",
       "      <td>NaN</td>\n",
       "      <td>NaN</td>\n",
       "    </tr>\n",
       "    <tr>\n",
       "      <th>2017-07</th>\n",
       "      <td>3709.0</td>\n",
       "      <td>20.0</td>\n",
       "      <td>12.0</td>\n",
       "      <td>7.0</td>\n",
       "      <td>13.0</td>\n",
       "      <td>7.0</td>\n",
       "      <td>NaN</td>\n",
       "      <td>NaN</td>\n",
       "      <td>NaN</td>\n",
       "      <td>NaN</td>\n",
       "      <td>NaN</td>\n",
       "    </tr>\n",
       "    <tr>\n",
       "      <th>2017-08</th>\n",
       "      <td>4081.0</td>\n",
       "      <td>28.0</td>\n",
       "      <td>15.0</td>\n",
       "      <td>11.0</td>\n",
       "      <td>15.0</td>\n",
       "      <td>NaN</td>\n",
       "      <td>NaN</td>\n",
       "      <td>NaN</td>\n",
       "      <td>NaN</td>\n",
       "      <td>NaN</td>\n",
       "      <td>NaN</td>\n",
       "    </tr>\n",
       "    <tr>\n",
       "      <th>2017-09</th>\n",
       "      <td>4025.0</td>\n",
       "      <td>27.0</td>\n",
       "      <td>20.0</td>\n",
       "      <td>13.0</td>\n",
       "      <td>NaN</td>\n",
       "      <td>NaN</td>\n",
       "      <td>NaN</td>\n",
       "      <td>NaN</td>\n",
       "      <td>NaN</td>\n",
       "      <td>NaN</td>\n",
       "      <td>NaN</td>\n",
       "    </tr>\n",
       "    <tr>\n",
       "      <th>2017-10</th>\n",
       "      <td>4294.0</td>\n",
       "      <td>30.0</td>\n",
       "      <td>13.0</td>\n",
       "      <td>NaN</td>\n",
       "      <td>NaN</td>\n",
       "      <td>NaN</td>\n",
       "      <td>NaN</td>\n",
       "      <td>NaN</td>\n",
       "      <td>NaN</td>\n",
       "      <td>NaN</td>\n",
       "      <td>NaN</td>\n",
       "    </tr>\n",
       "    <tr>\n",
       "      <th>2017-11</th>\n",
       "      <td>6927.0</td>\n",
       "      <td>39.0</td>\n",
       "      <td>NaN</td>\n",
       "      <td>NaN</td>\n",
       "      <td>NaN</td>\n",
       "      <td>NaN</td>\n",
       "      <td>NaN</td>\n",
       "      <td>NaN</td>\n",
       "      <td>NaN</td>\n",
       "      <td>NaN</td>\n",
       "      <td>NaN</td>\n",
       "    </tr>\n",
       "    <tr>\n",
       "      <th>2017-12</th>\n",
       "      <td>5490.0</td>\n",
       "      <td>NaN</td>\n",
       "      <td>NaN</td>\n",
       "      <td>NaN</td>\n",
       "      <td>NaN</td>\n",
       "      <td>NaN</td>\n",
       "      <td>NaN</td>\n",
       "      <td>NaN</td>\n",
       "      <td>NaN</td>\n",
       "      <td>NaN</td>\n",
       "      <td>NaN</td>\n",
       "    </tr>\n",
       "  </tbody>\n",
       "</table>\n",
       "</div>"
      ],
      "text/plain": [
       "cohort_period      0     1     2     3     4     5     6    7    8    9    10\n",
       "first_order                                                                  \n",
       "2017-01         683.0   3.0   2.0   1.0   3.0   1.0   3.0  1.0  1.0  2.0  2.0\n",
       "2017-02        1612.0   3.0   4.0   3.0   7.0   2.0   4.0  3.0  1.0  3.0  2.0\n",
       "2017-03        2511.0  11.0   9.0   9.0   9.0   4.0   4.0  8.0  7.0  3.0  NaN\n",
       "2017-04        2232.0  14.0   5.0   4.0   5.0   6.0   8.0  6.0  8.0  NaN  NaN\n",
       "2017-05        3453.0  18.0  16.0  10.0  10.0  11.0  14.0  5.0  NaN  NaN  NaN\n",
       "2017-06        3044.0  15.0  12.0  13.0   9.0  11.0  11.0  NaN  NaN  NaN  NaN\n",
       "2017-07        3709.0  20.0  12.0   7.0  13.0   7.0   NaN  NaN  NaN  NaN  NaN\n",
       "2017-08        4081.0  28.0  15.0  11.0  15.0   NaN   NaN  NaN  NaN  NaN  NaN\n",
       "2017-09        4025.0  27.0  20.0  13.0   NaN   NaN   NaN  NaN  NaN  NaN  NaN\n",
       "2017-10        4294.0  30.0  13.0   NaN   NaN   NaN   NaN  NaN  NaN  NaN  NaN\n",
       "2017-11        6927.0  39.0   NaN   NaN   NaN   NaN   NaN  NaN  NaN  NaN  NaN\n",
       "2017-12        5490.0   NaN   NaN   NaN   NaN   NaN   NaN  NaN  NaN  NaN  NaN"
      ]
     },
     "execution_count": 135,
     "metadata": {},
     "output_type": "execute_result"
    }
   ],
   "source": [
    "# Переформатируем таблицу, исключив ненужные столбцы и оставив только номер когорты, дату первого заказа \n",
    "# и количество уникальных пользователей.\n",
    "cohorts = cohorts.reset_index().set_index(['cohort_period', 'first_order'])['total_customers'].unstack(0)\n",
    "cohorts"
   ]
  },
  {
   "cell_type": "code",
   "execution_count": 136,
   "metadata": {},
   "outputs": [
    {
     "data": {
      "text/html": [
       "<div>\n",
       "<style scoped>\n",
       "    .dataframe tbody tr th:only-of-type {\n",
       "        vertical-align: middle;\n",
       "    }\n",
       "\n",
       "    .dataframe tbody tr th {\n",
       "        vertical-align: top;\n",
       "    }\n",
       "\n",
       "    .dataframe thead th {\n",
       "        text-align: right;\n",
       "    }\n",
       "</style>\n",
       "<table border=\"1\" class=\"dataframe\">\n",
       "  <thead>\n",
       "    <tr style=\"text-align: right;\">\n",
       "      <th>cohort_period</th>\n",
       "      <th>0</th>\n",
       "      <th>1</th>\n",
       "      <th>2</th>\n",
       "      <th>3</th>\n",
       "      <th>4</th>\n",
       "      <th>5</th>\n",
       "      <th>6</th>\n",
       "      <th>7</th>\n",
       "      <th>8</th>\n",
       "      <th>9</th>\n",
       "      <th>10</th>\n",
       "    </tr>\n",
       "    <tr>\n",
       "      <th>first_order</th>\n",
       "      <th></th>\n",
       "      <th></th>\n",
       "      <th></th>\n",
       "      <th></th>\n",
       "      <th></th>\n",
       "      <th></th>\n",
       "      <th></th>\n",
       "      <th></th>\n",
       "      <th></th>\n",
       "      <th></th>\n",
       "      <th></th>\n",
       "    </tr>\n",
       "  </thead>\n",
       "  <tbody>\n",
       "    <tr>\n",
       "      <th>2017-01</th>\n",
       "      <td>1.0</td>\n",
       "      <td>0.004392</td>\n",
       "      <td>0.002928</td>\n",
       "      <td>0.001464</td>\n",
       "      <td>0.004392</td>\n",
       "      <td>0.001464</td>\n",
       "      <td>0.004392</td>\n",
       "      <td>0.001464</td>\n",
       "      <td>0.001464</td>\n",
       "      <td>0.002928</td>\n",
       "      <td>0.002928</td>\n",
       "    </tr>\n",
       "    <tr>\n",
       "      <th>2017-02</th>\n",
       "      <td>1.0</td>\n",
       "      <td>0.001861</td>\n",
       "      <td>0.002481</td>\n",
       "      <td>0.001861</td>\n",
       "      <td>0.004342</td>\n",
       "      <td>0.001241</td>\n",
       "      <td>0.002481</td>\n",
       "      <td>0.001861</td>\n",
       "      <td>0.000620</td>\n",
       "      <td>0.001861</td>\n",
       "      <td>0.001241</td>\n",
       "    </tr>\n",
       "    <tr>\n",
       "      <th>2017-03</th>\n",
       "      <td>1.0</td>\n",
       "      <td>0.004381</td>\n",
       "      <td>0.003584</td>\n",
       "      <td>0.003584</td>\n",
       "      <td>0.003584</td>\n",
       "      <td>0.001593</td>\n",
       "      <td>0.001593</td>\n",
       "      <td>0.003186</td>\n",
       "      <td>0.002788</td>\n",
       "      <td>0.001195</td>\n",
       "      <td>NaN</td>\n",
       "    </tr>\n",
       "    <tr>\n",
       "      <th>2017-04</th>\n",
       "      <td>1.0</td>\n",
       "      <td>0.006272</td>\n",
       "      <td>0.002240</td>\n",
       "      <td>0.001792</td>\n",
       "      <td>0.002240</td>\n",
       "      <td>0.002688</td>\n",
       "      <td>0.003584</td>\n",
       "      <td>0.002688</td>\n",
       "      <td>0.003584</td>\n",
       "      <td>NaN</td>\n",
       "      <td>NaN</td>\n",
       "    </tr>\n",
       "    <tr>\n",
       "      <th>2017-05</th>\n",
       "      <td>1.0</td>\n",
       "      <td>0.005213</td>\n",
       "      <td>0.004634</td>\n",
       "      <td>0.002896</td>\n",
       "      <td>0.002896</td>\n",
       "      <td>0.003186</td>\n",
       "      <td>0.004054</td>\n",
       "      <td>0.001448</td>\n",
       "      <td>NaN</td>\n",
       "      <td>NaN</td>\n",
       "      <td>NaN</td>\n",
       "    </tr>\n",
       "    <tr>\n",
       "      <th>2017-06</th>\n",
       "      <td>1.0</td>\n",
       "      <td>0.004928</td>\n",
       "      <td>0.003942</td>\n",
       "      <td>0.004271</td>\n",
       "      <td>0.002957</td>\n",
       "      <td>0.003614</td>\n",
       "      <td>0.003614</td>\n",
       "      <td>NaN</td>\n",
       "      <td>NaN</td>\n",
       "      <td>NaN</td>\n",
       "      <td>NaN</td>\n",
       "    </tr>\n",
       "    <tr>\n",
       "      <th>2017-07</th>\n",
       "      <td>1.0</td>\n",
       "      <td>0.005392</td>\n",
       "      <td>0.003235</td>\n",
       "      <td>0.001887</td>\n",
       "      <td>0.003505</td>\n",
       "      <td>0.001887</td>\n",
       "      <td>NaN</td>\n",
       "      <td>NaN</td>\n",
       "      <td>NaN</td>\n",
       "      <td>NaN</td>\n",
       "      <td>NaN</td>\n",
       "    </tr>\n",
       "    <tr>\n",
       "      <th>2017-08</th>\n",
       "      <td>1.0</td>\n",
       "      <td>0.006861</td>\n",
       "      <td>0.003676</td>\n",
       "      <td>0.002695</td>\n",
       "      <td>0.003676</td>\n",
       "      <td>NaN</td>\n",
       "      <td>NaN</td>\n",
       "      <td>NaN</td>\n",
       "      <td>NaN</td>\n",
       "      <td>NaN</td>\n",
       "      <td>NaN</td>\n",
       "    </tr>\n",
       "    <tr>\n",
       "      <th>2017-09</th>\n",
       "      <td>1.0</td>\n",
       "      <td>0.006708</td>\n",
       "      <td>0.004969</td>\n",
       "      <td>0.003230</td>\n",
       "      <td>NaN</td>\n",
       "      <td>NaN</td>\n",
       "      <td>NaN</td>\n",
       "      <td>NaN</td>\n",
       "      <td>NaN</td>\n",
       "      <td>NaN</td>\n",
       "      <td>NaN</td>\n",
       "    </tr>\n",
       "    <tr>\n",
       "      <th>2017-10</th>\n",
       "      <td>1.0</td>\n",
       "      <td>0.006986</td>\n",
       "      <td>0.003027</td>\n",
       "      <td>NaN</td>\n",
       "      <td>NaN</td>\n",
       "      <td>NaN</td>\n",
       "      <td>NaN</td>\n",
       "      <td>NaN</td>\n",
       "      <td>NaN</td>\n",
       "      <td>NaN</td>\n",
       "      <td>NaN</td>\n",
       "    </tr>\n",
       "    <tr>\n",
       "      <th>2017-11</th>\n",
       "      <td>1.0</td>\n",
       "      <td>0.005630</td>\n",
       "      <td>NaN</td>\n",
       "      <td>NaN</td>\n",
       "      <td>NaN</td>\n",
       "      <td>NaN</td>\n",
       "      <td>NaN</td>\n",
       "      <td>NaN</td>\n",
       "      <td>NaN</td>\n",
       "      <td>NaN</td>\n",
       "      <td>NaN</td>\n",
       "    </tr>\n",
       "    <tr>\n",
       "      <th>2017-12</th>\n",
       "      <td>1.0</td>\n",
       "      <td>NaN</td>\n",
       "      <td>NaN</td>\n",
       "      <td>NaN</td>\n",
       "      <td>NaN</td>\n",
       "      <td>NaN</td>\n",
       "      <td>NaN</td>\n",
       "      <td>NaN</td>\n",
       "      <td>NaN</td>\n",
       "      <td>NaN</td>\n",
       "      <td>NaN</td>\n",
       "    </tr>\n",
       "  </tbody>\n",
       "</table>\n",
       "</div>"
      ],
      "text/plain": [
       "cohort_period   0         1         2         3         4         5   \\\n",
       "first_order                                                            \n",
       "2017-01        1.0  0.004392  0.002928  0.001464  0.004392  0.001464   \n",
       "2017-02        1.0  0.001861  0.002481  0.001861  0.004342  0.001241   \n",
       "2017-03        1.0  0.004381  0.003584  0.003584  0.003584  0.001593   \n",
       "2017-04        1.0  0.006272  0.002240  0.001792  0.002240  0.002688   \n",
       "2017-05        1.0  0.005213  0.004634  0.002896  0.002896  0.003186   \n",
       "2017-06        1.0  0.004928  0.003942  0.004271  0.002957  0.003614   \n",
       "2017-07        1.0  0.005392  0.003235  0.001887  0.003505  0.001887   \n",
       "2017-08        1.0  0.006861  0.003676  0.002695  0.003676       NaN   \n",
       "2017-09        1.0  0.006708  0.004969  0.003230       NaN       NaN   \n",
       "2017-10        1.0  0.006986  0.003027       NaN       NaN       NaN   \n",
       "2017-11        1.0  0.005630       NaN       NaN       NaN       NaN   \n",
       "2017-12        1.0       NaN       NaN       NaN       NaN       NaN   \n",
       "\n",
       "cohort_period        6         7         8         9         10  \n",
       "first_order                                                      \n",
       "2017-01        0.004392  0.001464  0.001464  0.002928  0.002928  \n",
       "2017-02        0.002481  0.001861  0.000620  0.001861  0.001241  \n",
       "2017-03        0.001593  0.003186  0.002788  0.001195       NaN  \n",
       "2017-04        0.003584  0.002688  0.003584       NaN       NaN  \n",
       "2017-05        0.004054  0.001448       NaN       NaN       NaN  \n",
       "2017-06        0.003614       NaN       NaN       NaN       NaN  \n",
       "2017-07             NaN       NaN       NaN       NaN       NaN  \n",
       "2017-08             NaN       NaN       NaN       NaN       NaN  \n",
       "2017-09             NaN       NaN       NaN       NaN       NaN  \n",
       "2017-10             NaN       NaN       NaN       NaN       NaN  \n",
       "2017-11             NaN       NaN       NaN       NaN       NaN  \n",
       "2017-12             NaN       NaN       NaN       NaN       NaN  "
      ]
     },
     "execution_count": 136,
     "metadata": {},
     "output_type": "execute_result"
    }
   ],
   "source": [
    "# Посчитаем Retention Rate = доли возврата от первоначального размера когорты.\n",
    "retention_rate = cohorts.divide(cohorts[0], axis=0)\n",
    "retention_rate"
   ]
  },
  {
   "cell_type": "code",
   "execution_count": 137,
   "metadata": {},
   "outputs": [
    {
     "data": {
      "text/html": [
       "<style  type=\"text/css\" >\n",
       "#T_87f8c5e4_6e7f_11ef_bdbb_96000040dfb6row0_col0,#T_87f8c5e4_6e7f_11ef_bdbb_96000040dfb6row0_col3,#T_87f8c5e4_6e7f_11ef_bdbb_96000040dfb6row1_col0,#T_87f8c5e4_6e7f_11ef_bdbb_96000040dfb6row1_col1,#T_87f8c5e4_6e7f_11ef_bdbb_96000040dfb6row1_col5,#T_87f8c5e4_6e7f_11ef_bdbb_96000040dfb6row1_col8,#T_87f8c5e4_6e7f_11ef_bdbb_96000040dfb6row1_col10,#T_87f8c5e4_6e7f_11ef_bdbb_96000040dfb6row2_col0,#T_87f8c5e4_6e7f_11ef_bdbb_96000040dfb6row2_col6,#T_87f8c5e4_6e7f_11ef_bdbb_96000040dfb6row2_col9,#T_87f8c5e4_6e7f_11ef_bdbb_96000040dfb6row3_col0,#T_87f8c5e4_6e7f_11ef_bdbb_96000040dfb6row3_col2,#T_87f8c5e4_6e7f_11ef_bdbb_96000040dfb6row3_col4,#T_87f8c5e4_6e7f_11ef_bdbb_96000040dfb6row4_col0,#T_87f8c5e4_6e7f_11ef_bdbb_96000040dfb6row4_col7,#T_87f8c5e4_6e7f_11ef_bdbb_96000040dfb6row5_col0,#T_87f8c5e4_6e7f_11ef_bdbb_96000040dfb6row6_col0,#T_87f8c5e4_6e7f_11ef_bdbb_96000040dfb6row7_col0,#T_87f8c5e4_6e7f_11ef_bdbb_96000040dfb6row8_col0,#T_87f8c5e4_6e7f_11ef_bdbb_96000040dfb6row9_col0,#T_87f8c5e4_6e7f_11ef_bdbb_96000040dfb6row10_col0,#T_87f8c5e4_6e7f_11ef_bdbb_96000040dfb6row11_col0{\n",
       "            background-color:  #440154;\n",
       "            color:  #f1f1f1;\n",
       "        }#T_87f8c5e4_6e7f_11ef_bdbb_96000040dfb6row0_col1,#T_87f8c5e4_6e7f_11ef_bdbb_96000040dfb6row2_col2{\n",
       "            background-color:  #218f8d;\n",
       "            color:  #000000;\n",
       "        }#T_87f8c5e4_6e7f_11ef_bdbb_96000040dfb6row0_col2{\n",
       "            background-color:  #3b528b;\n",
       "            color:  #f1f1f1;\n",
       "        }#T_87f8c5e4_6e7f_11ef_bdbb_96000040dfb6row0_col4,#T_87f8c5e4_6e7f_11ef_bdbb_96000040dfb6row0_col6,#T_87f8c5e4_6e7f_11ef_bdbb_96000040dfb6row0_col9,#T_87f8c5e4_6e7f_11ef_bdbb_96000040dfb6row0_col10,#T_87f8c5e4_6e7f_11ef_bdbb_96000040dfb6row2_col7,#T_87f8c5e4_6e7f_11ef_bdbb_96000040dfb6row3_col8,#T_87f8c5e4_6e7f_11ef_bdbb_96000040dfb6row5_col3,#T_87f8c5e4_6e7f_11ef_bdbb_96000040dfb6row5_col5,#T_87f8c5e4_6e7f_11ef_bdbb_96000040dfb6row8_col2,#T_87f8c5e4_6e7f_11ef_bdbb_96000040dfb6row9_col1{\n",
       "            background-color:  #fde725;\n",
       "            color:  #000000;\n",
       "        }#T_87f8c5e4_6e7f_11ef_bdbb_96000040dfb6row0_col5{\n",
       "            background-color:  #482374;\n",
       "            color:  #f1f1f1;\n",
       "        }#T_87f8c5e4_6e7f_11ef_bdbb_96000040dfb6row0_col7{\n",
       "            background-color:  #450457;\n",
       "            color:  #f1f1f1;\n",
       "        }#T_87f8c5e4_6e7f_11ef_bdbb_96000040dfb6row0_col8{\n",
       "            background-color:  #375b8d;\n",
       "            color:  #f1f1f1;\n",
       "        }#T_87f8c5e4_6e7f_11ef_bdbb_96000040dfb6row1_col2{\n",
       "            background-color:  #482071;\n",
       "            color:  #f1f1f1;\n",
       "        }#T_87f8c5e4_6e7f_11ef_bdbb_96000040dfb6row1_col3{\n",
       "            background-color:  #46327e;\n",
       "            color:  #f1f1f1;\n",
       "        }#T_87f8c5e4_6e7f_11ef_bdbb_96000040dfb6row1_col4{\n",
       "            background-color:  #f1e51d;\n",
       "            color:  #000000;\n",
       "        }#T_87f8c5e4_6e7f_11ef_bdbb_96000040dfb6row1_col6{\n",
       "            background-color:  #32648e;\n",
       "            color:  #f1f1f1;\n",
       "        }#T_87f8c5e4_6e7f_11ef_bdbb_96000040dfb6row1_col7{\n",
       "            background-color:  #3d4e8a;\n",
       "            color:  #f1f1f1;\n",
       "        }#T_87f8c5e4_6e7f_11ef_bdbb_96000040dfb6row1_col9{\n",
       "            background-color:  #2b748e;\n",
       "            color:  #f1f1f1;\n",
       "        }#T_87f8c5e4_6e7f_11ef_bdbb_96000040dfb6row2_col1{\n",
       "            background-color:  #218e8d;\n",
       "            color:  #000000;\n",
       "        }#T_87f8c5e4_6e7f_11ef_bdbb_96000040dfb6row2_col3{\n",
       "            background-color:  #60ca60;\n",
       "            color:  #000000;\n",
       "        }#T_87f8c5e4_6e7f_11ef_bdbb_96000040dfb6row2_col4,#T_87f8c5e4_6e7f_11ef_bdbb_96000040dfb6row5_col2{\n",
       "            background-color:  #27ad81;\n",
       "            color:  #000000;\n",
       "        }#T_87f8c5e4_6e7f_11ef_bdbb_96000040dfb6row2_col5,#T_87f8c5e4_6e7f_11ef_bdbb_96000040dfb6row6_col3{\n",
       "            background-color:  #463480;\n",
       "            color:  #f1f1f1;\n",
       "        }#T_87f8c5e4_6e7f_11ef_bdbb_96000040dfb6row2_col8{\n",
       "            background-color:  #54c568;\n",
       "            color:  #000000;\n",
       "        }#T_87f8c5e4_6e7f_11ef_bdbb_96000040dfb6row2_col10,#T_87f8c5e4_6e7f_11ef_bdbb_96000040dfb6row3_col9,#T_87f8c5e4_6e7f_11ef_bdbb_96000040dfb6row3_col10,#T_87f8c5e4_6e7f_11ef_bdbb_96000040dfb6row4_col8,#T_87f8c5e4_6e7f_11ef_bdbb_96000040dfb6row4_col9,#T_87f8c5e4_6e7f_11ef_bdbb_96000040dfb6row4_col10,#T_87f8c5e4_6e7f_11ef_bdbb_96000040dfb6row5_col7,#T_87f8c5e4_6e7f_11ef_bdbb_96000040dfb6row5_col8,#T_87f8c5e4_6e7f_11ef_bdbb_96000040dfb6row5_col9,#T_87f8c5e4_6e7f_11ef_bdbb_96000040dfb6row5_col10,#T_87f8c5e4_6e7f_11ef_bdbb_96000040dfb6row6_col6,#T_87f8c5e4_6e7f_11ef_bdbb_96000040dfb6row6_col7,#T_87f8c5e4_6e7f_11ef_bdbb_96000040dfb6row6_col8,#T_87f8c5e4_6e7f_11ef_bdbb_96000040dfb6row6_col9,#T_87f8c5e4_6e7f_11ef_bdbb_96000040dfb6row6_col10,#T_87f8c5e4_6e7f_11ef_bdbb_96000040dfb6row7_col5,#T_87f8c5e4_6e7f_11ef_bdbb_96000040dfb6row7_col6,#T_87f8c5e4_6e7f_11ef_bdbb_96000040dfb6row7_col7,#T_87f8c5e4_6e7f_11ef_bdbb_96000040dfb6row7_col8,#T_87f8c5e4_6e7f_11ef_bdbb_96000040dfb6row7_col9,#T_87f8c5e4_6e7f_11ef_bdbb_96000040dfb6row7_col10,#T_87f8c5e4_6e7f_11ef_bdbb_96000040dfb6row8_col4,#T_87f8c5e4_6e7f_11ef_bdbb_96000040dfb6row8_col5,#T_87f8c5e4_6e7f_11ef_bdbb_96000040dfb6row8_col6,#T_87f8c5e4_6e7f_11ef_bdbb_96000040dfb6row8_col7,#T_87f8c5e4_6e7f_11ef_bdbb_96000040dfb6row8_col8,#T_87f8c5e4_6e7f_11ef_bdbb_96000040dfb6row8_col9,#T_87f8c5e4_6e7f_11ef_bdbb_96000040dfb6row8_col10,#T_87f8c5e4_6e7f_11ef_bdbb_96000040dfb6row9_col3,#T_87f8c5e4_6e7f_11ef_bdbb_96000040dfb6row9_col4,#T_87f8c5e4_6e7f_11ef_bdbb_96000040dfb6row9_col5,#T_87f8c5e4_6e7f_11ef_bdbb_96000040dfb6row9_col6,#T_87f8c5e4_6e7f_11ef_bdbb_96000040dfb6row9_col7,#T_87f8c5e4_6e7f_11ef_bdbb_96000040dfb6row9_col8,#T_87f8c5e4_6e7f_11ef_bdbb_96000040dfb6row9_col9,#T_87f8c5e4_6e7f_11ef_bdbb_96000040dfb6row9_col10,#T_87f8c5e4_6e7f_11ef_bdbb_96000040dfb6row10_col2,#T_87f8c5e4_6e7f_11ef_bdbb_96000040dfb6row10_col3,#T_87f8c5e4_6e7f_11ef_bdbb_96000040dfb6row10_col4,#T_87f8c5e4_6e7f_11ef_bdbb_96000040dfb6row10_col5,#T_87f8c5e4_6e7f_11ef_bdbb_96000040dfb6row10_col6,#T_87f8c5e4_6e7f_11ef_bdbb_96000040dfb6row10_col7,#T_87f8c5e4_6e7f_11ef_bdbb_96000040dfb6row10_col8,#T_87f8c5e4_6e7f_11ef_bdbb_96000040dfb6row10_col9,#T_87f8c5e4_6e7f_11ef_bdbb_96000040dfb6row10_col10,#T_87f8c5e4_6e7f_11ef_bdbb_96000040dfb6row11_col1,#T_87f8c5e4_6e7f_11ef_bdbb_96000040dfb6row11_col2,#T_87f8c5e4_6e7f_11ef_bdbb_96000040dfb6row11_col3,#T_87f8c5e4_6e7f_11ef_bdbb_96000040dfb6row11_col4,#T_87f8c5e4_6e7f_11ef_bdbb_96000040dfb6row11_col5,#T_87f8c5e4_6e7f_11ef_bdbb_96000040dfb6row11_col6,#T_87f8c5e4_6e7f_11ef_bdbb_96000040dfb6row11_col7,#T_87f8c5e4_6e7f_11ef_bdbb_96000040dfb6row11_col8,#T_87f8c5e4_6e7f_11ef_bdbb_96000040dfb6row11_col9,#T_87f8c5e4_6e7f_11ef_bdbb_96000040dfb6row11_col10{\n",
       "            background-color:  #000000;\n",
       "            color:  #f1f1f1;\n",
       "            background-color:  white;\n",
       "        }#T_87f8c5e4_6e7f_11ef_bdbb_96000040dfb6row3_col1{\n",
       "            background-color:  #a2da37;\n",
       "            color:  #000000;\n",
       "        }#T_87f8c5e4_6e7f_11ef_bdbb_96000040dfb6row3_col3{\n",
       "            background-color:  #482979;\n",
       "            color:  #f1f1f1;\n",
       "        }#T_87f8c5e4_6e7f_11ef_bdbb_96000040dfb6row3_col5{\n",
       "            background-color:  #25ab82;\n",
       "            color:  #000000;\n",
       "        }#T_87f8c5e4_6e7f_11ef_bdbb_96000040dfb6row3_col6,#T_87f8c5e4_6e7f_11ef_bdbb_96000040dfb6row3_col7{\n",
       "            background-color:  #4ac16d;\n",
       "            color:  #000000;\n",
       "        }#T_87f8c5e4_6e7f_11ef_bdbb_96000040dfb6row4_col1{\n",
       "            background-color:  #31b57b;\n",
       "            color:  #000000;\n",
       "        }#T_87f8c5e4_6e7f_11ef_bdbb_96000040dfb6row4_col2{\n",
       "            background-color:  #addc30;\n",
       "            color:  #000000;\n",
       "        }#T_87f8c5e4_6e7f_11ef_bdbb_96000040dfb6row4_col3{\n",
       "            background-color:  #20928c;\n",
       "            color:  #000000;\n",
       "        }#T_87f8c5e4_6e7f_11ef_bdbb_96000040dfb6row4_col4{\n",
       "            background-color:  #34618d;\n",
       "            color:  #f1f1f1;\n",
       "        }#T_87f8c5e4_6e7f_11ef_bdbb_96000040dfb6row4_col5{\n",
       "            background-color:  #86d549;\n",
       "            color:  #000000;\n",
       "        }#T_87f8c5e4_6e7f_11ef_bdbb_96000040dfb6row4_col6{\n",
       "            background-color:  #b0dd2f;\n",
       "            color:  #000000;\n",
       "        }#T_87f8c5e4_6e7f_11ef_bdbb_96000040dfb6row5_col1{\n",
       "            background-color:  #22a884;\n",
       "            color:  #000000;\n",
       "        }#T_87f8c5e4_6e7f_11ef_bdbb_96000040dfb6row5_col4{\n",
       "            background-color:  #31688e;\n",
       "            color:  #f1f1f1;\n",
       "        }#T_87f8c5e4_6e7f_11ef_bdbb_96000040dfb6row5_col6{\n",
       "            background-color:  #4ec36b;\n",
       "            color:  #000000;\n",
       "        }#T_87f8c5e4_6e7f_11ef_bdbb_96000040dfb6row6_col1{\n",
       "            background-color:  #3fbc73;\n",
       "            color:  #000000;\n",
       "        }#T_87f8c5e4_6e7f_11ef_bdbb_96000040dfb6row6_col2{\n",
       "            background-color:  #2d708e;\n",
       "            color:  #f1f1f1;\n",
       "        }#T_87f8c5e4_6e7f_11ef_bdbb_96000040dfb6row6_col4{\n",
       "            background-color:  #21a585;\n",
       "            color:  #000000;\n",
       "        }#T_87f8c5e4_6e7f_11ef_bdbb_96000040dfb6row6_col5{\n",
       "            background-color:  #38588c;\n",
       "            color:  #f1f1f1;\n",
       "        }#T_87f8c5e4_6e7f_11ef_bdbb_96000040dfb6row7_col1{\n",
       "            background-color:  #efe51c;\n",
       "            color:  #000000;\n",
       "        }#T_87f8c5e4_6e7f_11ef_bdbb_96000040dfb6row7_col2{\n",
       "            background-color:  #1f968b;\n",
       "            color:  #000000;\n",
       "        }#T_87f8c5e4_6e7f_11ef_bdbb_96000040dfb6row7_col3{\n",
       "            background-color:  #26828e;\n",
       "            color:  #000000;\n",
       "        }#T_87f8c5e4_6e7f_11ef_bdbb_96000040dfb6row7_col4{\n",
       "            background-color:  #35b779;\n",
       "            color:  #000000;\n",
       "        }#T_87f8c5e4_6e7f_11ef_bdbb_96000040dfb6row8_col1{\n",
       "            background-color:  #dde318;\n",
       "            color:  #000000;\n",
       "        }#T_87f8c5e4_6e7f_11ef_bdbb_96000040dfb6row8_col3{\n",
       "            background-color:  #29af7f;\n",
       "            color:  #000000;\n",
       "        }#T_87f8c5e4_6e7f_11ef_bdbb_96000040dfb6row9_col2{\n",
       "            background-color:  #365c8d;\n",
       "            color:  #f1f1f1;\n",
       "        }#T_87f8c5e4_6e7f_11ef_bdbb_96000040dfb6row10_col1{\n",
       "            background-color:  #56c667;\n",
       "            color:  #000000;\n",
       "        }</style><table id=\"T_87f8c5e4_6e7f_11ef_bdbb_96000040dfb6\" ><caption>User retention by cohort</caption><thead>    <tr>        <th class=\"index_name level0\" >cohort_period</th>        <th class=\"col_heading level0 col0\" >0</th>        <th class=\"col_heading level0 col1\" >1</th>        <th class=\"col_heading level0 col2\" >2</th>        <th class=\"col_heading level0 col3\" >3</th>        <th class=\"col_heading level0 col4\" >4</th>        <th class=\"col_heading level0 col5\" >5</th>        <th class=\"col_heading level0 col6\" >6</th>        <th class=\"col_heading level0 col7\" >7</th>        <th class=\"col_heading level0 col8\" >8</th>        <th class=\"col_heading level0 col9\" >9</th>        <th class=\"col_heading level0 col10\" >10</th>    </tr>    <tr>        <th class=\"index_name level0\" >first_order</th>        <th class=\"blank\" ></th>        <th class=\"blank\" ></th>        <th class=\"blank\" ></th>        <th class=\"blank\" ></th>        <th class=\"blank\" ></th>        <th class=\"blank\" ></th>        <th class=\"blank\" ></th>        <th class=\"blank\" ></th>        <th class=\"blank\" ></th>        <th class=\"blank\" ></th>        <th class=\"blank\" ></th>    </tr></thead><tbody>\n",
       "                <tr>\n",
       "                        <th id=\"T_87f8c5e4_6e7f_11ef_bdbb_96000040dfb6level0_row0\" class=\"row_heading level0 row0\" >2017-01</th>\n",
       "                        <td id=\"T_87f8c5e4_6e7f_11ef_bdbb_96000040dfb6row0_col0\" class=\"data row0 col0\" >100.00%</td>\n",
       "                        <td id=\"T_87f8c5e4_6e7f_11ef_bdbb_96000040dfb6row0_col1\" class=\"data row0 col1\" >0.44%</td>\n",
       "                        <td id=\"T_87f8c5e4_6e7f_11ef_bdbb_96000040dfb6row0_col2\" class=\"data row0 col2\" >0.29%</td>\n",
       "                        <td id=\"T_87f8c5e4_6e7f_11ef_bdbb_96000040dfb6row0_col3\" class=\"data row0 col3\" >0.15%</td>\n",
       "                        <td id=\"T_87f8c5e4_6e7f_11ef_bdbb_96000040dfb6row0_col4\" class=\"data row0 col4\" >0.44%</td>\n",
       "                        <td id=\"T_87f8c5e4_6e7f_11ef_bdbb_96000040dfb6row0_col5\" class=\"data row0 col5\" >0.15%</td>\n",
       "                        <td id=\"T_87f8c5e4_6e7f_11ef_bdbb_96000040dfb6row0_col6\" class=\"data row0 col6\" >0.44%</td>\n",
       "                        <td id=\"T_87f8c5e4_6e7f_11ef_bdbb_96000040dfb6row0_col7\" class=\"data row0 col7\" >0.15%</td>\n",
       "                        <td id=\"T_87f8c5e4_6e7f_11ef_bdbb_96000040dfb6row0_col8\" class=\"data row0 col8\" >0.15%</td>\n",
       "                        <td id=\"T_87f8c5e4_6e7f_11ef_bdbb_96000040dfb6row0_col9\" class=\"data row0 col9\" >0.29%</td>\n",
       "                        <td id=\"T_87f8c5e4_6e7f_11ef_bdbb_96000040dfb6row0_col10\" class=\"data row0 col10\" >0.29%</td>\n",
       "            </tr>\n",
       "            <tr>\n",
       "                        <th id=\"T_87f8c5e4_6e7f_11ef_bdbb_96000040dfb6level0_row1\" class=\"row_heading level0 row1\" >2017-02</th>\n",
       "                        <td id=\"T_87f8c5e4_6e7f_11ef_bdbb_96000040dfb6row1_col0\" class=\"data row1 col0\" >100.00%</td>\n",
       "                        <td id=\"T_87f8c5e4_6e7f_11ef_bdbb_96000040dfb6row1_col1\" class=\"data row1 col1\" >0.19%</td>\n",
       "                        <td id=\"T_87f8c5e4_6e7f_11ef_bdbb_96000040dfb6row1_col2\" class=\"data row1 col2\" >0.25%</td>\n",
       "                        <td id=\"T_87f8c5e4_6e7f_11ef_bdbb_96000040dfb6row1_col3\" class=\"data row1 col3\" >0.19%</td>\n",
       "                        <td id=\"T_87f8c5e4_6e7f_11ef_bdbb_96000040dfb6row1_col4\" class=\"data row1 col4\" >0.43%</td>\n",
       "                        <td id=\"T_87f8c5e4_6e7f_11ef_bdbb_96000040dfb6row1_col5\" class=\"data row1 col5\" >0.12%</td>\n",
       "                        <td id=\"T_87f8c5e4_6e7f_11ef_bdbb_96000040dfb6row1_col6\" class=\"data row1 col6\" >0.25%</td>\n",
       "                        <td id=\"T_87f8c5e4_6e7f_11ef_bdbb_96000040dfb6row1_col7\" class=\"data row1 col7\" >0.19%</td>\n",
       "                        <td id=\"T_87f8c5e4_6e7f_11ef_bdbb_96000040dfb6row1_col8\" class=\"data row1 col8\" >0.06%</td>\n",
       "                        <td id=\"T_87f8c5e4_6e7f_11ef_bdbb_96000040dfb6row1_col9\" class=\"data row1 col9\" >0.19%</td>\n",
       "                        <td id=\"T_87f8c5e4_6e7f_11ef_bdbb_96000040dfb6row1_col10\" class=\"data row1 col10\" >0.12%</td>\n",
       "            </tr>\n",
       "            <tr>\n",
       "                        <th id=\"T_87f8c5e4_6e7f_11ef_bdbb_96000040dfb6level0_row2\" class=\"row_heading level0 row2\" >2017-03</th>\n",
       "                        <td id=\"T_87f8c5e4_6e7f_11ef_bdbb_96000040dfb6row2_col0\" class=\"data row2 col0\" >100.00%</td>\n",
       "                        <td id=\"T_87f8c5e4_6e7f_11ef_bdbb_96000040dfb6row2_col1\" class=\"data row2 col1\" >0.44%</td>\n",
       "                        <td id=\"T_87f8c5e4_6e7f_11ef_bdbb_96000040dfb6row2_col2\" class=\"data row2 col2\" >0.36%</td>\n",
       "                        <td id=\"T_87f8c5e4_6e7f_11ef_bdbb_96000040dfb6row2_col3\" class=\"data row2 col3\" >0.36%</td>\n",
       "                        <td id=\"T_87f8c5e4_6e7f_11ef_bdbb_96000040dfb6row2_col4\" class=\"data row2 col4\" >0.36%</td>\n",
       "                        <td id=\"T_87f8c5e4_6e7f_11ef_bdbb_96000040dfb6row2_col5\" class=\"data row2 col5\" >0.16%</td>\n",
       "                        <td id=\"T_87f8c5e4_6e7f_11ef_bdbb_96000040dfb6row2_col6\" class=\"data row2 col6\" >0.16%</td>\n",
       "                        <td id=\"T_87f8c5e4_6e7f_11ef_bdbb_96000040dfb6row2_col7\" class=\"data row2 col7\" >0.32%</td>\n",
       "                        <td id=\"T_87f8c5e4_6e7f_11ef_bdbb_96000040dfb6row2_col8\" class=\"data row2 col8\" >0.28%</td>\n",
       "                        <td id=\"T_87f8c5e4_6e7f_11ef_bdbb_96000040dfb6row2_col9\" class=\"data row2 col9\" >0.12%</td>\n",
       "                        <td id=\"T_87f8c5e4_6e7f_11ef_bdbb_96000040dfb6row2_col10\" class=\"data row2 col10\" ></td>\n",
       "            </tr>\n",
       "            <tr>\n",
       "                        <th id=\"T_87f8c5e4_6e7f_11ef_bdbb_96000040dfb6level0_row3\" class=\"row_heading level0 row3\" >2017-04</th>\n",
       "                        <td id=\"T_87f8c5e4_6e7f_11ef_bdbb_96000040dfb6row3_col0\" class=\"data row3 col0\" >100.00%</td>\n",
       "                        <td id=\"T_87f8c5e4_6e7f_11ef_bdbb_96000040dfb6row3_col1\" class=\"data row3 col1\" >0.63%</td>\n",
       "                        <td id=\"T_87f8c5e4_6e7f_11ef_bdbb_96000040dfb6row3_col2\" class=\"data row3 col2\" >0.22%</td>\n",
       "                        <td id=\"T_87f8c5e4_6e7f_11ef_bdbb_96000040dfb6row3_col3\" class=\"data row3 col3\" >0.18%</td>\n",
       "                        <td id=\"T_87f8c5e4_6e7f_11ef_bdbb_96000040dfb6row3_col4\" class=\"data row3 col4\" >0.22%</td>\n",
       "                        <td id=\"T_87f8c5e4_6e7f_11ef_bdbb_96000040dfb6row3_col5\" class=\"data row3 col5\" >0.27%</td>\n",
       "                        <td id=\"T_87f8c5e4_6e7f_11ef_bdbb_96000040dfb6row3_col6\" class=\"data row3 col6\" >0.36%</td>\n",
       "                        <td id=\"T_87f8c5e4_6e7f_11ef_bdbb_96000040dfb6row3_col7\" class=\"data row3 col7\" >0.27%</td>\n",
       "                        <td id=\"T_87f8c5e4_6e7f_11ef_bdbb_96000040dfb6row3_col8\" class=\"data row3 col8\" >0.36%</td>\n",
       "                        <td id=\"T_87f8c5e4_6e7f_11ef_bdbb_96000040dfb6row3_col9\" class=\"data row3 col9\" ></td>\n",
       "                        <td id=\"T_87f8c5e4_6e7f_11ef_bdbb_96000040dfb6row3_col10\" class=\"data row3 col10\" ></td>\n",
       "            </tr>\n",
       "            <tr>\n",
       "                        <th id=\"T_87f8c5e4_6e7f_11ef_bdbb_96000040dfb6level0_row4\" class=\"row_heading level0 row4\" >2017-05</th>\n",
       "                        <td id=\"T_87f8c5e4_6e7f_11ef_bdbb_96000040dfb6row4_col0\" class=\"data row4 col0\" >100.00%</td>\n",
       "                        <td id=\"T_87f8c5e4_6e7f_11ef_bdbb_96000040dfb6row4_col1\" class=\"data row4 col1\" >0.52%</td>\n",
       "                        <td id=\"T_87f8c5e4_6e7f_11ef_bdbb_96000040dfb6row4_col2\" class=\"data row4 col2\" >0.46%</td>\n",
       "                        <td id=\"T_87f8c5e4_6e7f_11ef_bdbb_96000040dfb6row4_col3\" class=\"data row4 col3\" >0.29%</td>\n",
       "                        <td id=\"T_87f8c5e4_6e7f_11ef_bdbb_96000040dfb6row4_col4\" class=\"data row4 col4\" >0.29%</td>\n",
       "                        <td id=\"T_87f8c5e4_6e7f_11ef_bdbb_96000040dfb6row4_col5\" class=\"data row4 col5\" >0.32%</td>\n",
       "                        <td id=\"T_87f8c5e4_6e7f_11ef_bdbb_96000040dfb6row4_col6\" class=\"data row4 col6\" >0.41%</td>\n",
       "                        <td id=\"T_87f8c5e4_6e7f_11ef_bdbb_96000040dfb6row4_col7\" class=\"data row4 col7\" >0.14%</td>\n",
       "                        <td id=\"T_87f8c5e4_6e7f_11ef_bdbb_96000040dfb6row4_col8\" class=\"data row4 col8\" ></td>\n",
       "                        <td id=\"T_87f8c5e4_6e7f_11ef_bdbb_96000040dfb6row4_col9\" class=\"data row4 col9\" ></td>\n",
       "                        <td id=\"T_87f8c5e4_6e7f_11ef_bdbb_96000040dfb6row4_col10\" class=\"data row4 col10\" ></td>\n",
       "            </tr>\n",
       "            <tr>\n",
       "                        <th id=\"T_87f8c5e4_6e7f_11ef_bdbb_96000040dfb6level0_row5\" class=\"row_heading level0 row5\" >2017-06</th>\n",
       "                        <td id=\"T_87f8c5e4_6e7f_11ef_bdbb_96000040dfb6row5_col0\" class=\"data row5 col0\" >100.00%</td>\n",
       "                        <td id=\"T_87f8c5e4_6e7f_11ef_bdbb_96000040dfb6row5_col1\" class=\"data row5 col1\" >0.49%</td>\n",
       "                        <td id=\"T_87f8c5e4_6e7f_11ef_bdbb_96000040dfb6row5_col2\" class=\"data row5 col2\" >0.39%</td>\n",
       "                        <td id=\"T_87f8c5e4_6e7f_11ef_bdbb_96000040dfb6row5_col3\" class=\"data row5 col3\" >0.43%</td>\n",
       "                        <td id=\"T_87f8c5e4_6e7f_11ef_bdbb_96000040dfb6row5_col4\" class=\"data row5 col4\" >0.30%</td>\n",
       "                        <td id=\"T_87f8c5e4_6e7f_11ef_bdbb_96000040dfb6row5_col5\" class=\"data row5 col5\" >0.36%</td>\n",
       "                        <td id=\"T_87f8c5e4_6e7f_11ef_bdbb_96000040dfb6row5_col6\" class=\"data row5 col6\" >0.36%</td>\n",
       "                        <td id=\"T_87f8c5e4_6e7f_11ef_bdbb_96000040dfb6row5_col7\" class=\"data row5 col7\" ></td>\n",
       "                        <td id=\"T_87f8c5e4_6e7f_11ef_bdbb_96000040dfb6row5_col8\" class=\"data row5 col8\" ></td>\n",
       "                        <td id=\"T_87f8c5e4_6e7f_11ef_bdbb_96000040dfb6row5_col9\" class=\"data row5 col9\" ></td>\n",
       "                        <td id=\"T_87f8c5e4_6e7f_11ef_bdbb_96000040dfb6row5_col10\" class=\"data row5 col10\" ></td>\n",
       "            </tr>\n",
       "            <tr>\n",
       "                        <th id=\"T_87f8c5e4_6e7f_11ef_bdbb_96000040dfb6level0_row6\" class=\"row_heading level0 row6\" >2017-07</th>\n",
       "                        <td id=\"T_87f8c5e4_6e7f_11ef_bdbb_96000040dfb6row6_col0\" class=\"data row6 col0\" >100.00%</td>\n",
       "                        <td id=\"T_87f8c5e4_6e7f_11ef_bdbb_96000040dfb6row6_col1\" class=\"data row6 col1\" >0.54%</td>\n",
       "                        <td id=\"T_87f8c5e4_6e7f_11ef_bdbb_96000040dfb6row6_col2\" class=\"data row6 col2\" >0.32%</td>\n",
       "                        <td id=\"T_87f8c5e4_6e7f_11ef_bdbb_96000040dfb6row6_col3\" class=\"data row6 col3\" >0.19%</td>\n",
       "                        <td id=\"T_87f8c5e4_6e7f_11ef_bdbb_96000040dfb6row6_col4\" class=\"data row6 col4\" >0.35%</td>\n",
       "                        <td id=\"T_87f8c5e4_6e7f_11ef_bdbb_96000040dfb6row6_col5\" class=\"data row6 col5\" >0.19%</td>\n",
       "                        <td id=\"T_87f8c5e4_6e7f_11ef_bdbb_96000040dfb6row6_col6\" class=\"data row6 col6\" ></td>\n",
       "                        <td id=\"T_87f8c5e4_6e7f_11ef_bdbb_96000040dfb6row6_col7\" class=\"data row6 col7\" ></td>\n",
       "                        <td id=\"T_87f8c5e4_6e7f_11ef_bdbb_96000040dfb6row6_col8\" class=\"data row6 col8\" ></td>\n",
       "                        <td id=\"T_87f8c5e4_6e7f_11ef_bdbb_96000040dfb6row6_col9\" class=\"data row6 col9\" ></td>\n",
       "                        <td id=\"T_87f8c5e4_6e7f_11ef_bdbb_96000040dfb6row6_col10\" class=\"data row6 col10\" ></td>\n",
       "            </tr>\n",
       "            <tr>\n",
       "                        <th id=\"T_87f8c5e4_6e7f_11ef_bdbb_96000040dfb6level0_row7\" class=\"row_heading level0 row7\" >2017-08</th>\n",
       "                        <td id=\"T_87f8c5e4_6e7f_11ef_bdbb_96000040dfb6row7_col0\" class=\"data row7 col0\" >100.00%</td>\n",
       "                        <td id=\"T_87f8c5e4_6e7f_11ef_bdbb_96000040dfb6row7_col1\" class=\"data row7 col1\" >0.69%</td>\n",
       "                        <td id=\"T_87f8c5e4_6e7f_11ef_bdbb_96000040dfb6row7_col2\" class=\"data row7 col2\" >0.37%</td>\n",
       "                        <td id=\"T_87f8c5e4_6e7f_11ef_bdbb_96000040dfb6row7_col3\" class=\"data row7 col3\" >0.27%</td>\n",
       "                        <td id=\"T_87f8c5e4_6e7f_11ef_bdbb_96000040dfb6row7_col4\" class=\"data row7 col4\" >0.37%</td>\n",
       "                        <td id=\"T_87f8c5e4_6e7f_11ef_bdbb_96000040dfb6row7_col5\" class=\"data row7 col5\" ></td>\n",
       "                        <td id=\"T_87f8c5e4_6e7f_11ef_bdbb_96000040dfb6row7_col6\" class=\"data row7 col6\" ></td>\n",
       "                        <td id=\"T_87f8c5e4_6e7f_11ef_bdbb_96000040dfb6row7_col7\" class=\"data row7 col7\" ></td>\n",
       "                        <td id=\"T_87f8c5e4_6e7f_11ef_bdbb_96000040dfb6row7_col8\" class=\"data row7 col8\" ></td>\n",
       "                        <td id=\"T_87f8c5e4_6e7f_11ef_bdbb_96000040dfb6row7_col9\" class=\"data row7 col9\" ></td>\n",
       "                        <td id=\"T_87f8c5e4_6e7f_11ef_bdbb_96000040dfb6row7_col10\" class=\"data row7 col10\" ></td>\n",
       "            </tr>\n",
       "            <tr>\n",
       "                        <th id=\"T_87f8c5e4_6e7f_11ef_bdbb_96000040dfb6level0_row8\" class=\"row_heading level0 row8\" >2017-09</th>\n",
       "                        <td id=\"T_87f8c5e4_6e7f_11ef_bdbb_96000040dfb6row8_col0\" class=\"data row8 col0\" >100.00%</td>\n",
       "                        <td id=\"T_87f8c5e4_6e7f_11ef_bdbb_96000040dfb6row8_col1\" class=\"data row8 col1\" >0.67%</td>\n",
       "                        <td id=\"T_87f8c5e4_6e7f_11ef_bdbb_96000040dfb6row8_col2\" class=\"data row8 col2\" >0.50%</td>\n",
       "                        <td id=\"T_87f8c5e4_6e7f_11ef_bdbb_96000040dfb6row8_col3\" class=\"data row8 col3\" >0.32%</td>\n",
       "                        <td id=\"T_87f8c5e4_6e7f_11ef_bdbb_96000040dfb6row8_col4\" class=\"data row8 col4\" ></td>\n",
       "                        <td id=\"T_87f8c5e4_6e7f_11ef_bdbb_96000040dfb6row8_col5\" class=\"data row8 col5\" ></td>\n",
       "                        <td id=\"T_87f8c5e4_6e7f_11ef_bdbb_96000040dfb6row8_col6\" class=\"data row8 col6\" ></td>\n",
       "                        <td id=\"T_87f8c5e4_6e7f_11ef_bdbb_96000040dfb6row8_col7\" class=\"data row8 col7\" ></td>\n",
       "                        <td id=\"T_87f8c5e4_6e7f_11ef_bdbb_96000040dfb6row8_col8\" class=\"data row8 col8\" ></td>\n",
       "                        <td id=\"T_87f8c5e4_6e7f_11ef_bdbb_96000040dfb6row8_col9\" class=\"data row8 col9\" ></td>\n",
       "                        <td id=\"T_87f8c5e4_6e7f_11ef_bdbb_96000040dfb6row8_col10\" class=\"data row8 col10\" ></td>\n",
       "            </tr>\n",
       "            <tr>\n",
       "                        <th id=\"T_87f8c5e4_6e7f_11ef_bdbb_96000040dfb6level0_row9\" class=\"row_heading level0 row9\" >2017-10</th>\n",
       "                        <td id=\"T_87f8c5e4_6e7f_11ef_bdbb_96000040dfb6row9_col0\" class=\"data row9 col0\" >100.00%</td>\n",
       "                        <td id=\"T_87f8c5e4_6e7f_11ef_bdbb_96000040dfb6row9_col1\" class=\"data row9 col1\" >0.70%</td>\n",
       "                        <td id=\"T_87f8c5e4_6e7f_11ef_bdbb_96000040dfb6row9_col2\" class=\"data row9 col2\" >0.30%</td>\n",
       "                        <td id=\"T_87f8c5e4_6e7f_11ef_bdbb_96000040dfb6row9_col3\" class=\"data row9 col3\" ></td>\n",
       "                        <td id=\"T_87f8c5e4_6e7f_11ef_bdbb_96000040dfb6row9_col4\" class=\"data row9 col4\" ></td>\n",
       "                        <td id=\"T_87f8c5e4_6e7f_11ef_bdbb_96000040dfb6row9_col5\" class=\"data row9 col5\" ></td>\n",
       "                        <td id=\"T_87f8c5e4_6e7f_11ef_bdbb_96000040dfb6row9_col6\" class=\"data row9 col6\" ></td>\n",
       "                        <td id=\"T_87f8c5e4_6e7f_11ef_bdbb_96000040dfb6row9_col7\" class=\"data row9 col7\" ></td>\n",
       "                        <td id=\"T_87f8c5e4_6e7f_11ef_bdbb_96000040dfb6row9_col8\" class=\"data row9 col8\" ></td>\n",
       "                        <td id=\"T_87f8c5e4_6e7f_11ef_bdbb_96000040dfb6row9_col9\" class=\"data row9 col9\" ></td>\n",
       "                        <td id=\"T_87f8c5e4_6e7f_11ef_bdbb_96000040dfb6row9_col10\" class=\"data row9 col10\" ></td>\n",
       "            </tr>\n",
       "            <tr>\n",
       "                        <th id=\"T_87f8c5e4_6e7f_11ef_bdbb_96000040dfb6level0_row10\" class=\"row_heading level0 row10\" >2017-11</th>\n",
       "                        <td id=\"T_87f8c5e4_6e7f_11ef_bdbb_96000040dfb6row10_col0\" class=\"data row10 col0\" >100.00%</td>\n",
       "                        <td id=\"T_87f8c5e4_6e7f_11ef_bdbb_96000040dfb6row10_col1\" class=\"data row10 col1\" >0.56%</td>\n",
       "                        <td id=\"T_87f8c5e4_6e7f_11ef_bdbb_96000040dfb6row10_col2\" class=\"data row10 col2\" ></td>\n",
       "                        <td id=\"T_87f8c5e4_6e7f_11ef_bdbb_96000040dfb6row10_col3\" class=\"data row10 col3\" ></td>\n",
       "                        <td id=\"T_87f8c5e4_6e7f_11ef_bdbb_96000040dfb6row10_col4\" class=\"data row10 col4\" ></td>\n",
       "                        <td id=\"T_87f8c5e4_6e7f_11ef_bdbb_96000040dfb6row10_col5\" class=\"data row10 col5\" ></td>\n",
       "                        <td id=\"T_87f8c5e4_6e7f_11ef_bdbb_96000040dfb6row10_col6\" class=\"data row10 col6\" ></td>\n",
       "                        <td id=\"T_87f8c5e4_6e7f_11ef_bdbb_96000040dfb6row10_col7\" class=\"data row10 col7\" ></td>\n",
       "                        <td id=\"T_87f8c5e4_6e7f_11ef_bdbb_96000040dfb6row10_col8\" class=\"data row10 col8\" ></td>\n",
       "                        <td id=\"T_87f8c5e4_6e7f_11ef_bdbb_96000040dfb6row10_col9\" class=\"data row10 col9\" ></td>\n",
       "                        <td id=\"T_87f8c5e4_6e7f_11ef_bdbb_96000040dfb6row10_col10\" class=\"data row10 col10\" ></td>\n",
       "            </tr>\n",
       "            <tr>\n",
       "                        <th id=\"T_87f8c5e4_6e7f_11ef_bdbb_96000040dfb6level0_row11\" class=\"row_heading level0 row11\" >2017-12</th>\n",
       "                        <td id=\"T_87f8c5e4_6e7f_11ef_bdbb_96000040dfb6row11_col0\" class=\"data row11 col0\" >100.00%</td>\n",
       "                        <td id=\"T_87f8c5e4_6e7f_11ef_bdbb_96000040dfb6row11_col1\" class=\"data row11 col1\" ></td>\n",
       "                        <td id=\"T_87f8c5e4_6e7f_11ef_bdbb_96000040dfb6row11_col2\" class=\"data row11 col2\" ></td>\n",
       "                        <td id=\"T_87f8c5e4_6e7f_11ef_bdbb_96000040dfb6row11_col3\" class=\"data row11 col3\" ></td>\n",
       "                        <td id=\"T_87f8c5e4_6e7f_11ef_bdbb_96000040dfb6row11_col4\" class=\"data row11 col4\" ></td>\n",
       "                        <td id=\"T_87f8c5e4_6e7f_11ef_bdbb_96000040dfb6row11_col5\" class=\"data row11 col5\" ></td>\n",
       "                        <td id=\"T_87f8c5e4_6e7f_11ef_bdbb_96000040dfb6row11_col6\" class=\"data row11 col6\" ></td>\n",
       "                        <td id=\"T_87f8c5e4_6e7f_11ef_bdbb_96000040dfb6row11_col7\" class=\"data row11 col7\" ></td>\n",
       "                        <td id=\"T_87f8c5e4_6e7f_11ef_bdbb_96000040dfb6row11_col8\" class=\"data row11 col8\" ></td>\n",
       "                        <td id=\"T_87f8c5e4_6e7f_11ef_bdbb_96000040dfb6row11_col9\" class=\"data row11 col9\" ></td>\n",
       "                        <td id=\"T_87f8c5e4_6e7f_11ef_bdbb_96000040dfb6row11_col10\" class=\"data row11 col10\" ></td>\n",
       "            </tr>\n",
       "    </tbody></table>"
      ],
      "text/plain": [
       "<pandas.io.formats.style.Styler at 0x7f33701c4588>"
      ]
     },
     "execution_count": 137,
     "metadata": {},
     "output_type": "execute_result"
    }
   ],
   "source": [
    "# Визуализируем данные о retention_rate\n",
    "ur_style = (retention_rate\n",
    "            .style\n",
    "            .set_caption('User retention by cohort')  # добавляем подпись\n",
    "            .background_gradient(cmap='viridis')  # раскрашиваем ячейки по столбцам\n",
    "            .highlight_null('white')  # делаем белый фон для значений NaN\n",
    "            .format(\"{:.2%}\", na_rep=\"\"))  # числа форматируем как проценты, NaN заменяем на пустоту\n",
    "ur_style"
   ]
  },
  {
   "cell_type": "markdown",
   "metadata": {},
   "source": [
    "Теперь довольно легко заметить, что наиболее высокий Retention за третий месяц у когорты пользователей, которые совершили заказ '2017-06' - он составляет 0,43%."
   ]
  },
  {
   "cell_type": "markdown",
   "metadata": {},
   "source": [
    "\n"
   ]
  },
  {
   "cell_type": "markdown",
   "metadata": {},
   "source": [
    "## 6. Используя python, построй RFM-сегментацию пользователей, чтобы качественно оценить свою аудиторию. В кластеризации можешь выбрать следующие метрики: R - время от последней покупки пользователя до текущей даты, F - суммарное количество покупок у пользователя за всё время, M - сумма покупок за всё время. Подробно опиши, как ты создавал кластеры. Для каждого RFM-сегмента построй границы метрик recency, frequency и monetary для интерпретации этих кластеров. "
   ]
  },
  {
   "cell_type": "code",
   "execution_count": 138,
   "metadata": {},
   "outputs": [
    {
     "data": {
      "text/html": [
       "<div>\n",
       "<style scoped>\n",
       "    .dataframe tbody tr th:only-of-type {\n",
       "        vertical-align: middle;\n",
       "    }\n",
       "\n",
       "    .dataframe tbody tr th {\n",
       "        vertical-align: top;\n",
       "    }\n",
       "\n",
       "    .dataframe thead th {\n",
       "        text-align: right;\n",
       "    }\n",
       "</style>\n",
       "<table border=\"1\" class=\"dataframe\">\n",
       "  <thead>\n",
       "    <tr style=\"text-align: right;\">\n",
       "      <th></th>\n",
       "      <th>order_id</th>\n",
       "      <th>customer_id</th>\n",
       "      <th>order_purchase_timestamp</th>\n",
       "      <th>customer_unique_id</th>\n",
       "      <th>price</th>\n",
       "    </tr>\n",
       "  </thead>\n",
       "  <tbody>\n",
       "    <tr>\n",
       "      <th>0</th>\n",
       "      <td>e481f51cbdc54678b7cc49136f2d6af7</td>\n",
       "      <td>9ef432eb6251297304e76186b10a928d</td>\n",
       "      <td>2017-10-02 10:56:33</td>\n",
       "      <td>7c396fd4830fd04220f754e42b4e5bff</td>\n",
       "      <td>29.99</td>\n",
       "    </tr>\n",
       "    <tr>\n",
       "      <th>1</th>\n",
       "      <td>53cdb2fc8bc7dce0b6741e2150273451</td>\n",
       "      <td>b0830fb4747a6c6d20dea0b8c802d7ef</td>\n",
       "      <td>2018-07-24 20:41:37</td>\n",
       "      <td>af07308b275d755c9edb36a90c618231</td>\n",
       "      <td>118.70</td>\n",
       "    </tr>\n",
       "    <tr>\n",
       "      <th>2</th>\n",
       "      <td>47770eb9100c2d0c44946d9cf07ec65d</td>\n",
       "      <td>41ce2a54c0b03bf3443c3d931a367089</td>\n",
       "      <td>2018-08-08 08:38:49</td>\n",
       "      <td>3a653a41f6f9fc3d2a113cf8398680e8</td>\n",
       "      <td>159.90</td>\n",
       "    </tr>\n",
       "    <tr>\n",
       "      <th>3</th>\n",
       "      <td>949d5b44dbf5de918fe9c16f97b45f8a</td>\n",
       "      <td>f88197465ea7920adcdbec7375364d82</td>\n",
       "      <td>2017-11-18 19:28:06</td>\n",
       "      <td>7c142cf63193a1473d2e66489a9ae977</td>\n",
       "      <td>45.00</td>\n",
       "    </tr>\n",
       "    <tr>\n",
       "      <th>4</th>\n",
       "      <td>ad21c59c0840e6cb83a9ceb5573f8159</td>\n",
       "      <td>8ab97904e6daea8866dbdbc4fb7aad2c</td>\n",
       "      <td>2018-02-13 21:18:39</td>\n",
       "      <td>72632f0f9dd73dfee390c9b22eb56dd6</td>\n",
       "      <td>19.90</td>\n",
       "    </tr>\n",
       "  </tbody>\n",
       "</table>\n",
       "</div>"
      ],
      "text/plain": [
       "                           order_id                       customer_id  \\\n",
       "0  e481f51cbdc54678b7cc49136f2d6af7  9ef432eb6251297304e76186b10a928d   \n",
       "1  53cdb2fc8bc7dce0b6741e2150273451  b0830fb4747a6c6d20dea0b8c802d7ef   \n",
       "2  47770eb9100c2d0c44946d9cf07ec65d  41ce2a54c0b03bf3443c3d931a367089   \n",
       "3  949d5b44dbf5de918fe9c16f97b45f8a  f88197465ea7920adcdbec7375364d82   \n",
       "4  ad21c59c0840e6cb83a9ceb5573f8159  8ab97904e6daea8866dbdbc4fb7aad2c   \n",
       "\n",
       "  order_purchase_timestamp                customer_unique_id   price  \n",
       "0      2017-10-02 10:56:33  7c396fd4830fd04220f754e42b4e5bff   29.99  \n",
       "1      2018-07-24 20:41:37  af07308b275d755c9edb36a90c618231  118.70  \n",
       "2      2018-08-08 08:38:49  3a653a41f6f9fc3d2a113cf8398680e8  159.90  \n",
       "3      2017-11-18 19:28:06  7c142cf63193a1473d2e66489a9ae977   45.00  \n",
       "4      2018-02-13 21:18:39  72632f0f9dd73dfee390c9b22eb56dd6   19.90  "
      ]
     },
     "execution_count": 138,
     "metadata": {},
     "output_type": "execute_result"
    }
   ],
   "source": [
    "# Для постороения RFM-сегментации объеденим 3 датафрейма и сразу удалим пропсуки\n",
    "df_rfm = delivered_orders[['order_id', 'customer_id', 'order_purchase_timestamp']] \\\n",
    "            .merge(customers[['customer_id', 'customer_unique_id']], on='customer_id') \\\n",
    "            .merge(items[['order_id', 'price']], on='order_id')\n",
    "df_rfm.dropna()\n",
    "df_rfm.head()"
   ]
  },
  {
   "cell_type": "code",
   "execution_count": 139,
   "metadata": {},
   "outputs": [
    {
     "data": {
      "text/plain": [
       "Timestamp('2018-08-30 15:00:37')"
      ]
     },
     "execution_count": 139,
     "metadata": {},
     "output_type": "execute_result"
    }
   ],
   "source": [
    "# Будем считать, что текущая дата - это максимальная дата покупки + 1 день\n",
    "now = df_rfm.order_purchase_timestamp.max() + timedelta(days=1)\n",
    "now"
   ]
  },
  {
   "cell_type": "code",
   "execution_count": 140,
   "metadata": {},
   "outputs": [
    {
     "data": {
      "text/html": [
       "<div>\n",
       "<style scoped>\n",
       "    .dataframe tbody tr th:only-of-type {\n",
       "        vertical-align: middle;\n",
       "    }\n",
       "\n",
       "    .dataframe tbody tr th {\n",
       "        vertical-align: top;\n",
       "    }\n",
       "\n",
       "    .dataframe thead th {\n",
       "        text-align: right;\n",
       "    }\n",
       "</style>\n",
       "<table border=\"1\" class=\"dataframe\">\n",
       "  <thead>\n",
       "    <tr style=\"text-align: right;\">\n",
       "      <th></th>\n",
       "      <th>order_id</th>\n",
       "      <th>customer_id</th>\n",
       "      <th>order_purchase_timestamp</th>\n",
       "      <th>customer_unique_id</th>\n",
       "      <th>price</th>\n",
       "      <th>purchase_date</th>\n",
       "    </tr>\n",
       "  </thead>\n",
       "  <tbody>\n",
       "    <tr>\n",
       "      <th>0</th>\n",
       "      <td>e481f51cbdc54678b7cc49136f2d6af7</td>\n",
       "      <td>9ef432eb6251297304e76186b10a928d</td>\n",
       "      <td>2017-10-02 10:56:33</td>\n",
       "      <td>7c396fd4830fd04220f754e42b4e5bff</td>\n",
       "      <td>29.99</td>\n",
       "      <td>2017-10</td>\n",
       "    </tr>\n",
       "    <tr>\n",
       "      <th>1</th>\n",
       "      <td>53cdb2fc8bc7dce0b6741e2150273451</td>\n",
       "      <td>b0830fb4747a6c6d20dea0b8c802d7ef</td>\n",
       "      <td>2018-07-24 20:41:37</td>\n",
       "      <td>af07308b275d755c9edb36a90c618231</td>\n",
       "      <td>118.70</td>\n",
       "      <td>2018-07</td>\n",
       "    </tr>\n",
       "    <tr>\n",
       "      <th>2</th>\n",
       "      <td>47770eb9100c2d0c44946d9cf07ec65d</td>\n",
       "      <td>41ce2a54c0b03bf3443c3d931a367089</td>\n",
       "      <td>2018-08-08 08:38:49</td>\n",
       "      <td>3a653a41f6f9fc3d2a113cf8398680e8</td>\n",
       "      <td>159.90</td>\n",
       "      <td>2018-08</td>\n",
       "    </tr>\n",
       "    <tr>\n",
       "      <th>3</th>\n",
       "      <td>949d5b44dbf5de918fe9c16f97b45f8a</td>\n",
       "      <td>f88197465ea7920adcdbec7375364d82</td>\n",
       "      <td>2017-11-18 19:28:06</td>\n",
       "      <td>7c142cf63193a1473d2e66489a9ae977</td>\n",
       "      <td>45.00</td>\n",
       "      <td>2017-11</td>\n",
       "    </tr>\n",
       "    <tr>\n",
       "      <th>4</th>\n",
       "      <td>ad21c59c0840e6cb83a9ceb5573f8159</td>\n",
       "      <td>8ab97904e6daea8866dbdbc4fb7aad2c</td>\n",
       "      <td>2018-02-13 21:18:39</td>\n",
       "      <td>72632f0f9dd73dfee390c9b22eb56dd6</td>\n",
       "      <td>19.90</td>\n",
       "      <td>2018-02</td>\n",
       "    </tr>\n",
       "  </tbody>\n",
       "</table>\n",
       "</div>"
      ],
      "text/plain": [
       "                           order_id                       customer_id  \\\n",
       "0  e481f51cbdc54678b7cc49136f2d6af7  9ef432eb6251297304e76186b10a928d   \n",
       "1  53cdb2fc8bc7dce0b6741e2150273451  b0830fb4747a6c6d20dea0b8c802d7ef   \n",
       "2  47770eb9100c2d0c44946d9cf07ec65d  41ce2a54c0b03bf3443c3d931a367089   \n",
       "3  949d5b44dbf5de918fe9c16f97b45f8a  f88197465ea7920adcdbec7375364d82   \n",
       "4  ad21c59c0840e6cb83a9ceb5573f8159  8ab97904e6daea8866dbdbc4fb7aad2c   \n",
       "\n",
       "  order_purchase_timestamp                customer_unique_id   price  \\\n",
       "0      2017-10-02 10:56:33  7c396fd4830fd04220f754e42b4e5bff   29.99   \n",
       "1      2018-07-24 20:41:37  af07308b275d755c9edb36a90c618231  118.70   \n",
       "2      2018-08-08 08:38:49  3a653a41f6f9fc3d2a113cf8398680e8  159.90   \n",
       "3      2017-11-18 19:28:06  7c142cf63193a1473d2e66489a9ae977   45.00   \n",
       "4      2018-02-13 21:18:39  72632f0f9dd73dfee390c9b22eb56dd6   19.90   \n",
       "\n",
       "  purchase_date  \n",
       "0       2017-10  \n",
       "1       2018-07  \n",
       "2       2018-08  \n",
       "3       2017-11  \n",
       "4       2018-02  "
      ]
     },
     "execution_count": 140,
     "metadata": {},
     "output_type": "execute_result"
    }
   ],
   "source": [
    "# создание колонки с датой покупки в формате год-месяц \n",
    "df_rfm['purchase_date']=df_rfm['order_purchase_timestamp'].dt.strftime('%Y-%m')\n",
    "df_rfm.head()"
   ]
  },
  {
   "cell_type": "code",
   "execution_count": 141,
   "metadata": {},
   "outputs": [
    {
     "data": {
      "text/plain": [
       "<matplotlib.axes._subplots.AxesSubplot at 0x7f33a30bc278>"
      ]
     },
     "execution_count": 141,
     "metadata": {},
     "output_type": "execute_result"
    },
    {
     "data": {
      "image/png": "[encoded data removed]",
      "text/plain": [
       "<Figure size 1080x432 with 1 Axes>"
      ]
     },
     "metadata": {
      "needs_background": "light"
     },
     "output_type": "display_data"
    }
   ],
   "source": [
    "# Чтобы определить период для rfm-анализа - посмотрим на кол-во пользователей и заказов по месяцам\n",
    "by_month_2=df_rfm.groupby('purchase_date', as_index=False).agg({'customer_unique_id':'count', 'order_id':'nunique'})\n",
    "\n",
    "plt.figure(figsize=(15,6))\n",
    "plt.xticks(np.arange(len(by_month_2)), by_month_2['purchase_date'], rotation=90)\n",
    "sns.lineplot(x='purchase_date', y ='customer_unique_id', data=by_month_2)\n",
    "sns.lineplot(x='purchase_date', y ='order_id', data=by_month_2)"
   ]
  },
  {
   "cell_type": "code",
   "execution_count": 142,
   "metadata": {},
   "outputs": [],
   "source": [
    "# В наших данных кол-во клиентов и заказов нарастает до сентября 2018 года. Для анализа RFM обычно используется год. Период с \n",
    "# сентября 2017 по август 2018 - наиболее интересен, т.к. на него приходится наибольшее кол-во пользователей и заказов."
   ]
  },
  {
   "cell_type": "markdown",
   "metadata": {},
   "source": [
    "Заказы могут содержать несколько строк (по одной строке на товар). Однако нас интересует, сколько раз клиент совершал покупку, а не сколько товаров он купил."
   ]
  },
  {
   "cell_type": "code",
   "execution_count": 143,
   "metadata": {
    "scrolled": true
   },
   "outputs": [
    {
     "data": {
      "text/html": [
       "<div>\n",
       "<style scoped>\n",
       "    .dataframe tbody tr th:only-of-type {\n",
       "        vertical-align: middle;\n",
       "    }\n",
       "\n",
       "    .dataframe tbody tr th {\n",
       "        vertical-align: top;\n",
       "    }\n",
       "\n",
       "    .dataframe thead th {\n",
       "        text-align: right;\n",
       "    }\n",
       "</style>\n",
       "<table border=\"1\" class=\"dataframe\">\n",
       "  <thead>\n",
       "    <tr style=\"text-align: right;\">\n",
       "      <th></th>\n",
       "      <th>order_id</th>\n",
       "      <th>order_purchase_timestamp</th>\n",
       "      <th>customer_unique_id</th>\n",
       "      <th>price</th>\n",
       "    </tr>\n",
       "  </thead>\n",
       "  <tbody>\n",
       "    <tr>\n",
       "      <th>0</th>\n",
       "      <td>00010242fe8c5a6d1ba2dd792cb16214</td>\n",
       "      <td>2017-09-13 08:59:02</td>\n",
       "      <td>871766c5855e863f6eccc05f988b23cb</td>\n",
       "      <td>58.90</td>\n",
       "    </tr>\n",
       "    <tr>\n",
       "      <th>1</th>\n",
       "      <td>000229ec398224ef6ca0657da4fc703e</td>\n",
       "      <td>2018-01-14 14:33:31</td>\n",
       "      <td>3818d81c6709e39d06b2738a8d3a2474</td>\n",
       "      <td>199.00</td>\n",
       "    </tr>\n",
       "    <tr>\n",
       "      <th>2</th>\n",
       "      <td>00024acbcdf0a6daa1e931b038114c75</td>\n",
       "      <td>2018-08-08 10:00:35</td>\n",
       "      <td>af861d436cfc08b2c2ddefd0ba074622</td>\n",
       "      <td>12.99</td>\n",
       "    </tr>\n",
       "    <tr>\n",
       "      <th>3</th>\n",
       "      <td>00054e8431b9d7675808bcb819fb4a32</td>\n",
       "      <td>2017-12-10 11:53:48</td>\n",
       "      <td>635d9ac1680f03288e72ada3a1035803</td>\n",
       "      <td>19.90</td>\n",
       "    </tr>\n",
       "    <tr>\n",
       "      <th>4</th>\n",
       "      <td>000576fe39319847cbb9d288c5617fa6</td>\n",
       "      <td>2018-07-04 12:08:27</td>\n",
       "      <td>fda4476abb6307ab3c415b7e6d026526</td>\n",
       "      <td>810.00</td>\n",
       "    </tr>\n",
       "  </tbody>\n",
       "</table>\n",
       "</div>"
      ],
      "text/plain": [
       "                           order_id order_purchase_timestamp  \\\n",
       "0  00010242fe8c5a6d1ba2dd792cb16214      2017-09-13 08:59:02   \n",
       "1  000229ec398224ef6ca0657da4fc703e      2018-01-14 14:33:31   \n",
       "2  00024acbcdf0a6daa1e931b038114c75      2018-08-08 10:00:35   \n",
       "3  00054e8431b9d7675808bcb819fb4a32      2017-12-10 11:53:48   \n",
       "4  000576fe39319847cbb9d288c5617fa6      2018-07-04 12:08:27   \n",
       "\n",
       "                 customer_unique_id   price  \n",
       "0  871766c5855e863f6eccc05f988b23cb   58.90  \n",
       "1  3818d81c6709e39d06b2738a8d3a2474  199.00  \n",
       "2  af861d436cfc08b2c2ddefd0ba074622   12.99  \n",
       "3  635d9ac1680f03288e72ada3a1035803   19.90  \n",
       "4  fda4476abb6307ab3c415b7e6d026526  810.00  "
      ]
     },
     "execution_count": 143,
     "metadata": {},
     "output_type": "execute_result"
    }
   ],
   "source": [
    "sales = df_rfm.query('purchase_date > \"2017-08\" and purchase_date < \"2018-09\"')\\\n",
    ".groupby(['order_id', 'order_purchase_timestamp', 'customer_unique_id'], as_index=False).agg({'price': 'sum'})\n",
    "sales.head()"
   ]
  },
  {
   "cell_type": "code",
   "execution_count": 144,
   "metadata": {},
   "outputs": [],
   "source": [
    "# Добавим столбец с количеством дней, прошедших с момента последней покупки\n",
    "sales['days_since_order'] = sales.order_purchase_timestamp.apply(lambda x: (now - x).days)"
   ]
  },
  {
   "cell_type": "markdown",
   "metadata": {},
   "source": [
    "Теперь посчитаем все необходимые метрики.\n",
    "\n",
    "R - время от последней покупки пользователя до текущей даты\n",
    "\n",
    "\n",
    "F - суммарное количество покупок у пользователя за всё время\n",
    "\n",
    "\n",
    "M - сумма покупок за всё время"
   ]
  },
  {
   "cell_type": "code",
   "execution_count": 145,
   "metadata": {},
   "outputs": [],
   "source": [
    "aggr = {\n",
    "    'days_since_order': lambda x: x.min(), # Recency - агрегация по минимальному количеству дней\n",
    "    'order_id': 'count', # Frequency - суммарное количество покупок пользователя\n",
    "    'price': 'sum' # Monetary - общая сумма, потраченная пользователем\n",
    "}"
   ]
  },
  {
   "cell_type": "code",
   "execution_count": 146,
   "metadata": {
    "scrolled": true
   },
   "outputs": [
    {
     "data": {
      "text/html": [
       "<div>\n",
       "<style scoped>\n",
       "    .dataframe tbody tr th:only-of-type {\n",
       "        vertical-align: middle;\n",
       "    }\n",
       "\n",
       "    .dataframe tbody tr th {\n",
       "        vertical-align: top;\n",
       "    }\n",
       "\n",
       "    .dataframe thead th {\n",
       "        text-align: right;\n",
       "    }\n",
       "</style>\n",
       "<table border=\"1\" class=\"dataframe\">\n",
       "  <thead>\n",
       "    <tr style=\"text-align: right;\">\n",
       "      <th></th>\n",
       "      <th>customer_unique_id</th>\n",
       "      <th>recency</th>\n",
       "      <th>frequency</th>\n",
       "      <th>monetary</th>\n",
       "    </tr>\n",
       "  </thead>\n",
       "  <tbody>\n",
       "    <tr>\n",
       "      <th>0</th>\n",
       "      <td>0000366f3b9a7992bf8c76cfdf3221e2</td>\n",
       "      <td>112</td>\n",
       "      <td>1</td>\n",
       "      <td>129.90</td>\n",
       "    </tr>\n",
       "    <tr>\n",
       "      <th>1</th>\n",
       "      <td>0000b849f77a49e4a4ce2b2a4ca5be3f</td>\n",
       "      <td>115</td>\n",
       "      <td>1</td>\n",
       "      <td>18.90</td>\n",
       "    </tr>\n",
       "    <tr>\n",
       "      <th>2</th>\n",
       "      <td>0000f6ccb0745a6a4b88665a16c9f078</td>\n",
       "      <td>321</td>\n",
       "      <td>1</td>\n",
       "      <td>25.99</td>\n",
       "    </tr>\n",
       "    <tr>\n",
       "      <th>3</th>\n",
       "      <td>0004aac84e0df4da2b147fca70cf8255</td>\n",
       "      <td>288</td>\n",
       "      <td>1</td>\n",
       "      <td>180.00</td>\n",
       "    </tr>\n",
       "    <tr>\n",
       "      <th>4</th>\n",
       "      <td>0004bd2a26a76fe21f786e4fbd80607f</td>\n",
       "      <td>146</td>\n",
       "      <td>1</td>\n",
       "      <td>154.00</td>\n",
       "    </tr>\n",
       "  </tbody>\n",
       "</table>\n",
       "</div>"
      ],
      "text/plain": [
       "                 customer_unique_id  recency  frequency  monetary\n",
       "0  0000366f3b9a7992bf8c76cfdf3221e2      112          1    129.90\n",
       "1  0000b849f77a49e4a4ce2b2a4ca5be3f      115          1     18.90\n",
       "2  0000f6ccb0745a6a4b88665a16c9f078      321          1     25.99\n",
       "3  0004aac84e0df4da2b147fca70cf8255      288          1    180.00\n",
       "4  0004bd2a26a76fe21f786e4fbd80607f      146          1    154.00"
      ]
     },
     "execution_count": 146,
     "metadata": {},
     "output_type": "execute_result"
    }
   ],
   "source": [
    "# Группируем по уникальным пользователям и рассчитываем метрики RFM\n",
    "rfm = sales.groupby('customer_unique_id', as_index=False) \\\n",
    "            .agg(aggr) \\\n",
    "            .rename(columns={'days_since_order': 'recency', 'order_id': 'frequency', 'price': 'monetary'})\n",
    "rfm.head()"
   ]
  },
  {
   "cell_type": "code",
   "execution_count": 147,
   "metadata": {},
   "outputs": [
    {
     "data": {
      "text/plain": [
       "{'recency': {0.2: 71.0, 0.4: 138.0, 0.6: 204.0, 0.8: 275.0},\n",
       " 'frequency': {0.2: 1.0, 0.4: 1.0, 0.6: 1.0, 0.8: 1.0},\n",
       " 'monetary': {0.2: 39.9, 0.4: 69.9, 0.6: 109.98, 0.8: 179.7}}"
      ]
     },
     "execution_count": 147,
     "metadata": {},
     "output_type": "execute_result"
    }
   ],
   "source": [
    "# Чтобы вывести ранги для данных - необходимо разбить данные на диапазоны. Используем перцентили, отсекающие по 20%\n",
    "# пользователей\n",
    "level=[0.2, 0.4, 0.6, 0.8]\n",
    "quantiles = rfm[['recency', 'frequency', 'monetary']].quantile(level).to_dict()\n",
    "quantiles"
   ]
  },
  {
   "cell_type": "code",
   "execution_count": 148,
   "metadata": {},
   "outputs": [],
   "source": [
    "# Присвоим ранги для Recency (меньшее значение недавности покупки - лучше)\n",
    "intervals_R=[0]\n",
    "for i in range(len(quantiles['recency'])): \n",
    "    intervals_R.append(quantiles['recency'][level[i]])\n",
    "intervals_R.append(rfm.recency.max())\n",
    "rfm['R']=pd.cut(rfm.recency, intervals_R, labels=['5', '4', '3', '2', '1'])"
   ]
  },
  {
   "cell_type": "code",
   "execution_count": 149,
   "metadata": {},
   "outputs": [
    {
     "data": {
      "text/plain": [
       "97.51685191080598"
      ]
     },
     "execution_count": 149,
     "metadata": {},
     "output_type": "execute_result"
    }
   ],
   "source": [
    "# % пользователей с одной покупкой\n",
    "rfm.loc[rfm.frequency==1].frequency.count() / rfm.frequency.count() *100"
   ]
  },
  {
   "cell_type": "code",
   "execution_count": 150,
   "metadata": {},
   "outputs": [],
   "source": [
    "# Обратим внимание, что для Frequency метод перцентилей не подойдет (для всех перцентилей получаем одинаковые значения: \n",
    "# у нас 97% пользователей с одной покупкой). В данном случае не хватает информации и товаре, чтобы понимать как правильно\n",
    "# ранжировать эту метрику. Возможно, у нас очень дорогой товар, который приобретается 1-2 раза, и клиенты с колличеством покупок\n",
    "# более 5 - это премиум клиенты. А возможно, что сервис так плохо работает, что клиент, купив один раз, больше не возращается.\n",
    "# Метрика Frequency находится в диапазоне от 1 до 11. Примем во внимание большой объем наблюдений и ранжируем следующим образом:\n",
    "\n",
    "# [1-3] покупки ранг 1\n",
    "# (3-5] покупок ранг 2\n",
    "# (5-7] покупок ранг 3\n",
    "# (7-9] покупок ранг 4\n",
    "# (9-11] покупок ранг 5"
   ]
  },
  {
   "cell_type": "code",
   "execution_count": 151,
   "metadata": {},
   "outputs": [],
   "source": [
    "# Присвоим ранги для Frequency \n",
    "intervals_F=[0, 3, 5, 7, 9, 12]\n",
    "rfm['F']=pd.cut(rfm.frequency, intervals_F, labels=['1', '2', '3', '4', '5'])"
   ]
  },
  {
   "cell_type": "code",
   "execution_count": 152,
   "metadata": {},
   "outputs": [
    {
     "data": {
      "text/html": [
       "<div>\n",
       "<style scoped>\n",
       "    .dataframe tbody tr th:only-of-type {\n",
       "        vertical-align: middle;\n",
       "    }\n",
       "\n",
       "    .dataframe tbody tr th {\n",
       "        vertical-align: top;\n",
       "    }\n",
       "\n",
       "    .dataframe thead th {\n",
       "        text-align: right;\n",
       "    }\n",
       "</style>\n",
       "<table border=\"1\" class=\"dataframe\">\n",
       "  <thead>\n",
       "    <tr style=\"text-align: right;\">\n",
       "      <th></th>\n",
       "      <th>customer_unique_id</th>\n",
       "      <th>recency</th>\n",
       "      <th>frequency</th>\n",
       "      <th>monetary</th>\n",
       "      <th>R</th>\n",
       "      <th>F</th>\n",
       "      <th>M</th>\n",
       "    </tr>\n",
       "  </thead>\n",
       "  <tbody>\n",
       "    <tr>\n",
       "      <th>0</th>\n",
       "      <td>0000366f3b9a7992bf8c76cfdf3221e2</td>\n",
       "      <td>112</td>\n",
       "      <td>1</td>\n",
       "      <td>129.90</td>\n",
       "      <td>4</td>\n",
       "      <td>1</td>\n",
       "      <td>4</td>\n",
       "    </tr>\n",
       "    <tr>\n",
       "      <th>1</th>\n",
       "      <td>0000b849f77a49e4a4ce2b2a4ca5be3f</td>\n",
       "      <td>115</td>\n",
       "      <td>1</td>\n",
       "      <td>18.90</td>\n",
       "      <td>4</td>\n",
       "      <td>1</td>\n",
       "      <td>1</td>\n",
       "    </tr>\n",
       "    <tr>\n",
       "      <th>2</th>\n",
       "      <td>0000f6ccb0745a6a4b88665a16c9f078</td>\n",
       "      <td>321</td>\n",
       "      <td>1</td>\n",
       "      <td>25.99</td>\n",
       "      <td>1</td>\n",
       "      <td>1</td>\n",
       "      <td>1</td>\n",
       "    </tr>\n",
       "  </tbody>\n",
       "</table>\n",
       "</div>"
      ],
      "text/plain": [
       "                 customer_unique_id  recency  frequency  monetary  R  F  M\n",
       "0  0000366f3b9a7992bf8c76cfdf3221e2      112          1    129.90  4  1  4\n",
       "1  0000b849f77a49e4a4ce2b2a4ca5be3f      115          1     18.90  4  1  1\n",
       "2  0000f6ccb0745a6a4b88665a16c9f078      321          1     25.99  1  1  1"
      ]
     },
     "execution_count": 152,
     "metadata": {},
     "output_type": "execute_result"
    }
   ],
   "source": [
    "# Присвоим ранги для Monetary (чем больше сумма покупок, тем лучше)\n",
    "intervals_M=[0]\n",
    "for i in range(len(quantiles['monetary'])): \n",
    "    intervals_M.append(quantiles['monetary'][level[i]])\n",
    "intervals_M.append(rfm.monetary.max())\n",
    "rfm['M']=pd.cut(rfm.monetary, intervals_M, labels=['1','2','3','4','5'])\n",
    "\n",
    "rfm.head(3)"
   ]
  },
  {
   "cell_type": "code",
   "execution_count": 153,
   "metadata": {},
   "outputs": [
    {
     "data": {
      "text/html": [
       "<div>\n",
       "<style scoped>\n",
       "    .dataframe tbody tr th:only-of-type {\n",
       "        vertical-align: middle;\n",
       "    }\n",
       "\n",
       "    .dataframe tbody tr th {\n",
       "        vertical-align: top;\n",
       "    }\n",
       "\n",
       "    .dataframe thead th {\n",
       "        text-align: right;\n",
       "    }\n",
       "</style>\n",
       "<table border=\"1\" class=\"dataframe\">\n",
       "  <thead>\n",
       "    <tr style=\"text-align: right;\">\n",
       "      <th></th>\n",
       "      <th>customer_unique_id</th>\n",
       "      <th>recency</th>\n",
       "      <th>frequency</th>\n",
       "      <th>monetary</th>\n",
       "      <th>R</th>\n",
       "      <th>F</th>\n",
       "      <th>M</th>\n",
       "      <th>RFM_score</th>\n",
       "    </tr>\n",
       "  </thead>\n",
       "  <tbody>\n",
       "    <tr>\n",
       "      <th>0</th>\n",
       "      <td>0000366f3b9a7992bf8c76cfdf3221e2</td>\n",
       "      <td>112</td>\n",
       "      <td>1</td>\n",
       "      <td>129.90</td>\n",
       "      <td>4</td>\n",
       "      <td>1</td>\n",
       "      <td>4</td>\n",
       "      <td>414</td>\n",
       "    </tr>\n",
       "    <tr>\n",
       "      <th>1</th>\n",
       "      <td>0000b849f77a49e4a4ce2b2a4ca5be3f</td>\n",
       "      <td>115</td>\n",
       "      <td>1</td>\n",
       "      <td>18.90</td>\n",
       "      <td>4</td>\n",
       "      <td>1</td>\n",
       "      <td>1</td>\n",
       "      <td>411</td>\n",
       "    </tr>\n",
       "    <tr>\n",
       "      <th>2</th>\n",
       "      <td>0000f6ccb0745a6a4b88665a16c9f078</td>\n",
       "      <td>321</td>\n",
       "      <td>1</td>\n",
       "      <td>25.99</td>\n",
       "      <td>1</td>\n",
       "      <td>1</td>\n",
       "      <td>1</td>\n",
       "      <td>111</td>\n",
       "    </tr>\n",
       "  </tbody>\n",
       "</table>\n",
       "</div>"
      ],
      "text/plain": [
       "                 customer_unique_id  recency  frequency  monetary  R  F  M  \\\n",
       "0  0000366f3b9a7992bf8c76cfdf3221e2      112          1    129.90  4  1  4   \n",
       "1  0000b849f77a49e4a4ce2b2a4ca5be3f      115          1     18.90  4  1  1   \n",
       "2  0000f6ccb0745a6a4b88665a16c9f078      321          1     25.99  1  1  1   \n",
       "\n",
       "  RFM_score  \n",
       "0       414  \n",
       "1       411  \n",
       "2       111  "
      ]
     },
     "execution_count": 153,
     "metadata": {},
     "output_type": "execute_result"
    }
   ],
   "source": [
    "# скомбинируем значения R, F, M\n",
    "rfm=rfm.astype({'R':'string', 'F':'string', 'M':'string'})\n",
    "rfm['RFM_score'] = rfm['R'] + rfm['F'] + rfm['M']\n",
    "rfm.head(3)"
   ]
  },
  {
   "cell_type": "code",
   "execution_count": 154,
   "metadata": {},
   "outputs": [
    {
     "data": {
      "text/plain": [
       "1    72221\n",
       "2       21\n",
       "3        3\n",
       "5        1\n",
       "4        1\n",
       "Name: F, dtype: Int64"
      ]
     },
     "execution_count": 154,
     "metadata": {},
     "output_type": "execute_result"
    }
   ],
   "source": [
    "# Для того, чтобы понять в какой сегмент попадают пользователи по метрике Frequency - посмотрим еще раз на частоту встречаемости. \n",
    "rfm.F.value_counts()"
   ]
  },
  {
   "cell_type": "code",
   "execution_count": 155,
   "metadata": {},
   "outputs": [
    {
     "data": {
      "text/html": [
       "<div>\n",
       "<style scoped>\n",
       "    .dataframe tbody tr th:only-of-type {\n",
       "        vertical-align: middle;\n",
       "    }\n",
       "\n",
       "    .dataframe tbody tr th {\n",
       "        vertical-align: top;\n",
       "    }\n",
       "\n",
       "    .dataframe thead th {\n",
       "        text-align: right;\n",
       "    }\n",
       "</style>\n",
       "<table border=\"1\" class=\"dataframe\">\n",
       "  <thead>\n",
       "    <tr style=\"text-align: right;\">\n",
       "      <th></th>\n",
       "      <th>customer_unique_id</th>\n",
       "      <th>recency</th>\n",
       "      <th>frequency</th>\n",
       "      <th>monetary</th>\n",
       "      <th>R</th>\n",
       "      <th>F</th>\n",
       "      <th>M</th>\n",
       "      <th>RFM_score</th>\n",
       "      <th>segment</th>\n",
       "    </tr>\n",
       "  </thead>\n",
       "  <tbody>\n",
       "    <tr>\n",
       "      <th>0</th>\n",
       "      <td>0000366f3b9a7992bf8c76cfdf3221e2</td>\n",
       "      <td>112</td>\n",
       "      <td>1</td>\n",
       "      <td>129.90</td>\n",
       "      <td>4</td>\n",
       "      <td>1</td>\n",
       "      <td>4</td>\n",
       "      <td>414</td>\n",
       "      <td>лояльные пользователи</td>\n",
       "    </tr>\n",
       "    <tr>\n",
       "      <th>1</th>\n",
       "      <td>0000b849f77a49e4a4ce2b2a4ca5be3f</td>\n",
       "      <td>115</td>\n",
       "      <td>1</td>\n",
       "      <td>18.90</td>\n",
       "      <td>4</td>\n",
       "      <td>1</td>\n",
       "      <td>1</td>\n",
       "      <td>411</td>\n",
       "      <td>многообещающие</td>\n",
       "    </tr>\n",
       "    <tr>\n",
       "      <th>2</th>\n",
       "      <td>0000f6ccb0745a6a4b88665a16c9f078</td>\n",
       "      <td>321</td>\n",
       "      <td>1</td>\n",
       "      <td>25.99</td>\n",
       "      <td>1</td>\n",
       "      <td>1</td>\n",
       "      <td>1</td>\n",
       "      <td>111</td>\n",
       "      <td>бездействующие</td>\n",
       "    </tr>\n",
       "  </tbody>\n",
       "</table>\n",
       "</div>"
      ],
      "text/plain": [
       "                 customer_unique_id  recency  frequency  monetary  R  F  M  \\\n",
       "0  0000366f3b9a7992bf8c76cfdf3221e2      112          1    129.90  4  1  4   \n",
       "1  0000b849f77a49e4a4ce2b2a4ca5be3f      115          1     18.90  4  1  1   \n",
       "2  0000f6ccb0745a6a4b88665a16c9f078      321          1     25.99  1  1  1   \n",
       "\n",
       "  RFM_score                segment  \n",
       "0       414  лояльные пользователи  \n",
       "1       411         многообещающие  \n",
       "2       111         бездействующие  "
      ]
     },
     "execution_count": 155,
     "metadata": {},
     "output_type": "execute_result"
    }
   ],
   "source": [
    "# При трех метриках и 5-бальной ранговой системе вариантов комбинаций будет 125. С таким кол-вом комбинаций, конечно, работать\n",
    "# не удобно. Разобъем пользователей по сегментам, в зависимости от RFM_score. \n",
    "\n",
    "# Создадим столбец с рангами, чтобы затем заменить его на названия сегментов\n",
    "rfm['segment'] = rfm['R'].map(str) + rfm['F'].map(str) + rfm['M'].map(str)\n",
    "\n",
    "# В словарь, с помощью регулярных выражений, занесем правила, по которым будем делить пользователей на сегменты. Как писалось\n",
    "# выше, сложно оценить по кол-ву покупок к какому сегменту отнести покупателя, не зная что за товар продается. Поэтому в каждый\n",
    "# сегмент попали покупатели с одной покупкой (т.к. они составляют основную массу покупателей), в некоторых сегментах это ранги\n",
    "# 1-2, в некоторых 1-5. Сегментирование происходит скорее по метрикам Recency и Monetary. \n",
    "\n",
    "segment_map = {\n",
    "    r'[1-2][1-2][1-2]': 'бездействующие', # покупали давно, мало заказов, маленькая выручка \n",
    "    r'[1-2][1-2][3-4]': 'в зоне риска', # покупали давно, мало заказов, средняя выручка \n",
    "    r'[1-2][1-5]5': 'не можем потерять', # покупали давно, не мало заказов, высокая выручка \n",
    "    r'3[1-2][1-2]': 'спящие', # покупали относительно недавно, мало заказов, маленькая выручка \n",
    "    r'3[1-2]3': 'требуют внимание', # покупали относительно недавно, мало заказов, средняя выручка \n",
    "    r'[3-4][1-5][4-5]': 'лояльные пользователи', # покупали относительно недавно, не мало заказов, высокая выручка \n",
    "    r'4[1-5]1': 'многообещающие', # покупали недавно, не мало заказов, маленькая выручка \n",
    "    r'5[1-5]1': 'новые пользователи', # покупали недавно, не мало заказов, маленькая выручка \n",
    "    r'[4-5][1-5][2-3]': 'потенциально-лояльные', # покупали недавно, не мало заказов, средняя выручка \n",
    "    r'5[1-5][4-5]': 'чемпионы'} # покупали недавно, не мало заказов, высокая выручка \n",
    "\n",
    "# заменим ранги на названия сегментов\n",
    "rfm['segment'] = rfm['segment'].replace(segment_map, regex=True)\n",
    "rfm.head(3)"
   ]
  },
  {
   "cell_type": "code",
   "execution_count": 156,
   "metadata": {},
   "outputs": [
    {
     "data": {
      "text/html": [
       "<div>\n",
       "<style scoped>\n",
       "    .dataframe tbody tr th:only-of-type {\n",
       "        vertical-align: middle;\n",
       "    }\n",
       "\n",
       "    .dataframe tbody tr th {\n",
       "        vertical-align: top;\n",
       "    }\n",
       "\n",
       "    .dataframe thead th {\n",
       "        text-align: right;\n",
       "    }\n",
       "</style>\n",
       "<table border=\"1\" class=\"dataframe\">\n",
       "  <thead>\n",
       "    <tr style=\"text-align: right;\">\n",
       "      <th></th>\n",
       "      <th>segment</th>\n",
       "      <th>count_customer</th>\n",
       "    </tr>\n",
       "  </thead>\n",
       "  <tbody>\n",
       "    <tr>\n",
       "      <th>2</th>\n",
       "      <td>лояльные пользователи</td>\n",
       "      <td>11904</td>\n",
       "    </tr>\n",
       "    <tr>\n",
       "      <th>0</th>\n",
       "      <td>бездействующие</td>\n",
       "      <td>11885</td>\n",
       "    </tr>\n",
       "    <tr>\n",
       "      <th>6</th>\n",
       "      <td>потенциально-лояльные</td>\n",
       "      <td>11228</td>\n",
       "    </tr>\n",
       "    <tr>\n",
       "      <th>1</th>\n",
       "      <td>в зоне риска</td>\n",
       "      <td>11075</td>\n",
       "    </tr>\n",
       "    <tr>\n",
       "      <th>7</th>\n",
       "      <td>спящие</td>\n",
       "      <td>6171</td>\n",
       "    </tr>\n",
       "    <tr>\n",
       "      <th>9</th>\n",
       "      <td>чемпионы</td>\n",
       "      <td>5814</td>\n",
       "    </tr>\n",
       "    <tr>\n",
       "      <th>4</th>\n",
       "      <td>не можем потерять</td>\n",
       "      <td>5686</td>\n",
       "    </tr>\n",
       "    <tr>\n",
       "      <th>5</th>\n",
       "      <td>новые пользователи</td>\n",
       "      <td>3100</td>\n",
       "    </tr>\n",
       "    <tr>\n",
       "      <th>3</th>\n",
       "      <td>многообещающие</td>\n",
       "      <td>2780</td>\n",
       "    </tr>\n",
       "    <tr>\n",
       "      <th>8</th>\n",
       "      <td>требуют внимание</td>\n",
       "      <td>2604</td>\n",
       "    </tr>\n",
       "  </tbody>\n",
       "</table>\n",
       "</div>"
      ],
      "text/plain": [
       "                 segment  count_customer\n",
       "2  лояльные пользователи           11904\n",
       "0         бездействующие           11885\n",
       "6  потенциально-лояльные           11228\n",
       "1           в зоне риска           11075\n",
       "7                 спящие            6171\n",
       "9               чемпионы            5814\n",
       "4      не можем потерять            5686\n",
       "5     новые пользователи            3100\n",
       "3         многообещающие            2780\n",
       "8       требуют внимание            2604"
      ]
     },
     "execution_count": 156,
     "metadata": {},
     "output_type": "execute_result"
    }
   ],
   "source": [
    "# посчитаем кол-во пользователей в получившихся сегментах и построим диаграмму\n",
    "\n",
    "segmentation=rfm.groupby('segment', as_index=False)  \\\n",
    "                .agg({'customer_unique_id':'count'}) \\\n",
    "                .rename(columns={'customer_unique_id':'count_customer'}) \\\n",
    "                .sort_values('count_customer', ascending=False)\n",
    "segmentation"
   ]
  },
  {
   "cell_type": "code",
   "execution_count": 157,
   "metadata": {},
   "outputs": [
    {
     "data": {
      "application/vnd.plotly.v1+json": {
       "config": {
        "plotlyServerURL": "https://plot.ly"
       },
       "data": [
        {
         "branchvalues": "total",
         "domain": {
          "x": [
           0,
           1
          ],
          "y": [
           0,
           1
          ]
         },
         "hovertemplate": "labels=%{label}<br>count_customer=%{value}<br>parent=%{parent}<br>id=%{id}<extra></extra>",
         "ids": [
          "бездействующие",
          "в зоне риска",
          "лояльные пользователи",
          "многообещающие",
          "не можем потерять",
          "новые пользователи",
          "потенциально-лояльные",
          "спящие",
          "требуют внимание",
          "чемпионы"
         ],
         "labels": [
          "бездействующие",
          "в зоне риска",
          "лояльные пользователи",
          "многообещающие",
          "не можем потерять",
          "новые пользователи",
          "потенциально-лояльные",
          "спящие",
          "требуют внимание",
          "чемпионы"
         ],
         "name": "",
         "parents": [
          "",
          "",
          "",
          "",
          "",
          "",
          "",
          "",
          "",
          ""
         ],
         "type": "treemap",
         "values": [
          11885,
          11075,
          11904,
          2780,
          5686,
          3100,
          11228,
          6171,
          2604,
          5814
         ]
        }
       ],
       "layout": {
        "height": 500,
        "legend": {
         "tracegroupgap": 0
        },
        "margin": {
         "t": 60
        },
        "template": {
         "data": {
          "bar": [
           {
            "error_x": {
             "color": "#2a3f5f"
            },
            "error_y": {
             "color": "#2a3f5f"
            },
            "marker": {
             "line": {
              "color": "#E5ECF6",
              "width": 0.5
             }
            },
            "type": "bar"
           }
          ],
          "barpolar": [
           {
            "marker": {
             "line": {
              "color": "#E5ECF6",
              "width": 0.5
             }
            },
            "type": "barpolar"
           }
          ],
          "carpet": [
           {
            "aaxis": {
             "endlinecolor": "#2a3f5f",
             "gridcolor": "white",
             "linecolor": "white",
             "minorgridcolor": "white",
             "startlinecolor": "#2a3f5f"
            },
            "baxis": {
             "endlinecolor": "#2a3f5f",
             "gridcolor": "white",
             "linecolor": "white",
             "minorgridcolor": "white",
             "startlinecolor": "#2a3f5f"
            },
            "type": "carpet"
           }
          ],
          "choropleth": [
           {
            "colorbar": {
             "outlinewidth": 0,
             "ticks": ""
            },
            "type": "choropleth"
           }
          ],
          "contour": [
           {
            "colorbar": {
             "outlinewidth": 0,
             "ticks": ""
            },
            "colorscale": [
             [
              0,
              "#0d0887"
             ],
             [
              0.1111111111111111,
              "#46039f"
             ],
             [
              0.2222222222222222,
              "#7201a8"
             ],
             [
              0.3333333333333333,
              "#9c179e"
             ],
             [
              0.4444444444444444,
              "#bd3786"
             ],
             [
              0.5555555555555556,
              "#d8576b"
             ],
             [
              0.6666666666666666,
              "#ed7953"
             ],
             [
              0.7777777777777778,
              "#fb9f3a"
             ],
             [
              0.8888888888888888,
              "#fdca26"
             ],
             [
              1,
              "#f0f921"
             ]
            ],
            "type": "contour"
           }
          ],
          "contourcarpet": [
           {
            "colorbar": {
             "outlinewidth": 0,
             "ticks": ""
            },
            "type": "contourcarpet"
           }
          ],
          "heatmap": [
           {
            "colorbar": {
             "outlinewidth": 0,
             "ticks": ""
            },
            "colorscale": [
             [
              0,
              "#0d0887"
             ],
             [
              0.1111111111111111,
              "#46039f"
             ],
             [
              0.2222222222222222,
              "#7201a8"
             ],
             [
              0.3333333333333333,
              "#9c179e"
             ],
             [
              0.4444444444444444,
              "#bd3786"
             ],
             [
              0.5555555555555556,
              "#d8576b"
             ],
             [
              0.6666666666666666,
              "#ed7953"
             ],
             [
              0.7777777777777778,
              "#fb9f3a"
             ],
             [
              0.8888888888888888,
              "#fdca26"
             ],
             [
              1,
              "#f0f921"
             ]
            ],
            "type": "heatmap"
           }
          ],
          "heatmapgl": [
           {
            "colorbar": {
             "outlinewidth": 0,
             "ticks": ""
            },
            "colorscale": [
             [
              0,
              "#0d0887"
             ],
             [
              0.1111111111111111,
              "#46039f"
             ],
             [
              0.2222222222222222,
              "#7201a8"
             ],
             [
              0.3333333333333333,
              "#9c179e"
             ],
             [
              0.4444444444444444,
              "#bd3786"
             ],
             [
              0.5555555555555556,
              "#d8576b"
             ],
             [
              0.6666666666666666,
              "#ed7953"
             ],
             [
              0.7777777777777778,
              "#fb9f3a"
             ],
             [
              0.8888888888888888,
              "#fdca26"
             ],
             [
              1,
              "#f0f921"
             ]
            ],
            "type": "heatmapgl"
           }
          ],
          "histogram": [
           {
            "marker": {
             "colorbar": {
              "outlinewidth": 0,
              "ticks": ""
             }
            },
            "type": "histogram"
           }
          ],
          "histogram2d": [
           {
            "colorbar": {
             "outlinewidth": 0,
             "ticks": ""
            },
            "colorscale": [
             [
              0,
              "#0d0887"
             ],
             [
              0.1111111111111111,
              "#46039f"
             ],
             [
              0.2222222222222222,
              "#7201a8"
             ],
             [
              0.3333333333333333,
              "#9c179e"
             ],
             [
              0.4444444444444444,
              "#bd3786"
             ],
             [
              0.5555555555555556,
              "#d8576b"
             ],
             [
              0.6666666666666666,
              "#ed7953"
             ],
             [
              0.7777777777777778,
              "#fb9f3a"
             ],
             [
              0.8888888888888888,
              "#fdca26"
             ],
             [
              1,
              "#f0f921"
             ]
            ],
            "type": "histogram2d"
           }
          ],
          "histogram2dcontour": [
           {
            "colorbar": {
             "outlinewidth": 0,
             "ticks": ""
            },
            "colorscale": [
             [
              0,
              "#0d0887"
             ],
             [
              0.1111111111111111,
              "#46039f"
             ],
             [
              0.2222222222222222,
              "#7201a8"
             ],
             [
              0.3333333333333333,
              "#9c179e"
             ],
             [
              0.4444444444444444,
              "#bd3786"
             ],
             [
              0.5555555555555556,
              "#d8576b"
             ],
             [
              0.6666666666666666,
              "#ed7953"
             ],
             [
              0.7777777777777778,
              "#fb9f3a"
             ],
             [
              0.8888888888888888,
              "#fdca26"
             ],
             [
              1,
              "#f0f921"
             ]
            ],
            "type": "histogram2dcontour"
           }
          ],
          "mesh3d": [
           {
            "colorbar": {
             "outlinewidth": 0,
             "ticks": ""
            },
            "type": "mesh3d"
           }
          ],
          "parcoords": [
           {
            "line": {
             "colorbar": {
              "outlinewidth": 0,
              "ticks": ""
             }
            },
            "type": "parcoords"
           }
          ],
          "pie": [
           {
            "automargin": true,
            "type": "pie"
           }
          ],
          "scatter": [
           {
            "marker": {
             "colorbar": {
              "outlinewidth": 0,
              "ticks": ""
             }
            },
            "type": "scatter"
           }
          ],
          "scatter3d": [
           {
            "line": {
             "colorbar": {
              "outlinewidth": 0,
              "ticks": ""
             }
            },
            "marker": {
             "colorbar": {
              "outlinewidth": 0,
              "ticks": ""
             }
            },
            "type": "scatter3d"
           }
          ],
          "scattercarpet": [
           {
            "marker": {
             "colorbar": {
              "outlinewidth": 0,
              "ticks": ""
             }
            },
            "type": "scattercarpet"
           }
          ],
          "scattergeo": [
           {
            "marker": {
             "colorbar": {
              "outlinewidth": 0,
              "ticks": ""
             }
            },
            "type": "scattergeo"
           }
          ],
          "scattergl": [
           {
            "marker": {
             "colorbar": {
              "outlinewidth": 0,
              "ticks": ""
             }
            },
            "type": "scattergl"
           }
          ],
          "scattermapbox": [
           {
            "marker": {
             "colorbar": {
              "outlinewidth": 0,
              "ticks": ""
             }
            },
            "type": "scattermapbox"
           }
          ],
          "scatterpolar": [
           {
            "marker": {
             "colorbar": {
              "outlinewidth": 0,
              "ticks": ""
             }
            },
            "type": "scatterpolar"
           }
          ],
          "scatterpolargl": [
           {
            "marker": {
             "colorbar": {
              "outlinewidth": 0,
              "ticks": ""
             }
            },
            "type": "scatterpolargl"
           }
          ],
          "scatterternary": [
           {
            "marker": {
             "colorbar": {
              "outlinewidth": 0,
              "ticks": ""
             }
            },
            "type": "scatterternary"
           }
          ],
          "surface": [
           {
            "colorbar": {
             "outlinewidth": 0,
             "ticks": ""
            },
            "colorscale": [
             [
              0,
              "#0d0887"
             ],
             [
              0.1111111111111111,
              "#46039f"
             ],
             [
              0.2222222222222222,
              "#7201a8"
             ],
             [
              0.3333333333333333,
              "#9c179e"
             ],
             [
              0.4444444444444444,
              "#bd3786"
             ],
             [
              0.5555555555555556,
              "#d8576b"
             ],
             [
              0.6666666666666666,
              "#ed7953"
             ],
             [
              0.7777777777777778,
              "#fb9f3a"
             ],
             [
              0.8888888888888888,
              "#fdca26"
             ],
             [
              1,
              "#f0f921"
             ]
            ],
            "type": "surface"
           }
          ],
          "table": [
           {
            "cells": {
             "fill": {
              "color": "#EBF0F8"
             },
             "line": {
              "color": "white"
             }
            },
            "header": {
             "fill": {
              "color": "#C8D4E3"
             },
             "line": {
              "color": "white"
             }
            },
            "type": "table"
           }
          ]
         },
         "layout": {
          "annotationdefaults": {
           "arrowcolor": "#2a3f5f",
           "arrowhead": 0,
           "arrowwidth": 1
          },
          "coloraxis": {
           "colorbar": {
            "outlinewidth": 0,
            "ticks": ""
           }
          },
          "colorscale": {
           "diverging": [
            [
             0,
             "#8e0152"
            ],
            [
             0.1,
             "#c51b7d"
            ],
            [
             0.2,
             "#de77ae"
            ],
            [
             0.3,
             "#f1b6da"
            ],
            [
             0.4,
             "#fde0ef"
            ],
            [
             0.5,
             "#f7f7f7"
            ],
            [
             0.6,
             "#e6f5d0"
            ],
            [
             0.7,
             "#b8e186"
            ],
            [
             0.8,
             "#7fbc41"
            ],
            [
             0.9,
             "#4d9221"
            ],
            [
             1,
             "#276419"
            ]
           ],
           "sequential": [
            [
             0,
             "#0d0887"
            ],
            [
             0.1111111111111111,
             "#46039f"
            ],
            [
             0.2222222222222222,
             "#7201a8"
            ],
            [
             0.3333333333333333,
             "#9c179e"
            ],
            [
             0.4444444444444444,
             "#bd3786"
            ],
            [
             0.5555555555555556,
             "#d8576b"
            ],
            [
             0.6666666666666666,
             "#ed7953"
            ],
            [
             0.7777777777777778,
             "#fb9f3a"
            ],
            [
             0.8888888888888888,
             "#fdca26"
            ],
            [
             1,
             "#f0f921"
            ]
           ],
           "sequentialminus": [
            [
             0,
             "#0d0887"
            ],
            [
             0.1111111111111111,
             "#46039f"
            ],
            [
             0.2222222222222222,
             "#7201a8"
            ],
            [
             0.3333333333333333,
             "#9c179e"
            ],
            [
             0.4444444444444444,
             "#bd3786"
            ],
            [
             0.5555555555555556,
             "#d8576b"
            ],
            [
             0.6666666666666666,
             "#ed7953"
            ],
            [
             0.7777777777777778,
             "#fb9f3a"
            ],
            [
             0.8888888888888888,
             "#fdca26"
            ],
            [
             1,
             "#f0f921"
            ]
           ]
          },
          "colorway": [
           "#636efa",
           "#EF553B",
           "#00cc96",
           "#ab63fa",
           "#FFA15A",
           "#19d3f3",
           "#FF6692",
           "#B6E880",
           "#FF97FF",
           "#FECB52"
          ],
          "font": {
           "color": "#2a3f5f"
          },
          "geo": {
           "bgcolor": "white",
           "lakecolor": "white",
           "landcolor": "#E5ECF6",
           "showlakes": true,
           "showland": true,
           "subunitcolor": "white"
          },
          "hoverlabel": {
           "align": "left"
          },
          "hovermode": "closest",
          "mapbox": {
           "style": "light"
          },
          "paper_bgcolor": "white",
          "plot_bgcolor": "#E5ECF6",
          "polar": {
           "angularaxis": {
            "gridcolor": "white",
            "linecolor": "white",
            "ticks": ""
           },
           "bgcolor": "#E5ECF6",
           "radialaxis": {
            "gridcolor": "white",
            "linecolor": "white",
            "ticks": ""
           }
          },
          "scene": {
           "xaxis": {
            "backgroundcolor": "#E5ECF6",
            "gridcolor": "white",
            "gridwidth": 2,
            "linecolor": "white",
            "showbackground": true,
            "ticks": "",
            "zerolinecolor": "white"
           },
           "yaxis": {
            "backgroundcolor": "#E5ECF6",
            "gridcolor": "white",
            "gridwidth": 2,
            "linecolor": "white",
            "showbackground": true,
            "ticks": "",
            "zerolinecolor": "white"
           },
           "zaxis": {
            "backgroundcolor": "#E5ECF6",
            "gridcolor": "white",
            "gridwidth": 2,
            "linecolor": "white",
            "showbackground": true,
            "ticks": "",
            "zerolinecolor": "white"
           }
          },
          "shapedefaults": {
           "line": {
            "color": "#2a3f5f"
           }
          },
          "ternary": {
           "aaxis": {
            "gridcolor": "white",
            "linecolor": "white",
            "ticks": ""
           },
           "baxis": {
            "gridcolor": "white",
            "linecolor": "white",
            "ticks": ""
           },
           "bgcolor": "#E5ECF6",
           "caxis": {
            "gridcolor": "white",
            "linecolor": "white",
            "ticks": ""
           }
          },
          "title": {
           "x": 0.05
          },
          "xaxis": {
           "automargin": true,
           "gridcolor": "white",
           "linecolor": "white",
           "ticks": "",
           "title": {
            "standoff": 15
           },
           "zerolinecolor": "white",
           "zerolinewidth": 2
          },
          "yaxis": {
           "automargin": true,
           "gridcolor": "white",
           "linecolor": "white",
           "ticks": "",
           "title": {
            "standoff": 15
           },
           "zerolinecolor": "white",
           "zerolinewidth": 2
          }
         }
        },
        "title": {
         "text": "Tree map of Segments"
        },
        "width": 700
       }
      },
      "text/html": [
       "<div>\n",
       "        \n",
       "        \n",
       "            <div id=\"ec8d3b11-d50e-4e1c-8a27-8cdef786cab2\" class=\"plotly-graph-div\" style=\"height:500px; width:700px;\"></div>\n",
       "            <script type=\"text/javascript\">\n",
       "                require([\"plotly\"], function(Plotly) {\n",
       "                    window.PLOTLYENV=window.PLOTLYENV || {};\n",
       "                    \n",
       "                if (document.getElementById(\"ec8d3b11-d50e-4e1c-8a27-8cdef786cab2\")) {\n",
       "                    Plotly.newPlot(\n",
       "                        'ec8d3b11-d50e-4e1c-8a27-8cdef786cab2',\n",
       "                        [{\"branchvalues\": \"total\", \"domain\": {\"x\": [0.0, 1.0], \"y\": [0.0, 1.0]}, \"hovertemplate\": \"labels=%{label}<br>count_customer=%{value}<br>parent=%{parent}<br>id=%{id}<extra></extra>\", \"ids\": [\"\\u0431\\u0435\\u0437\\u0434\\u0435\\u0439\\u0441\\u0442\\u0432\\u0443\\u044e\\u0449\\u0438\\u0435\", \"\\u0432 \\u0437\\u043e\\u043d\\u0435 \\u0440\\u0438\\u0441\\u043a\\u0430\", \"\\u043b\\u043e\\u044f\\u043b\\u044c\\u043d\\u044b\\u0435 \\u043f\\u043e\\u043b\\u044c\\u0437\\u043e\\u0432\\u0430\\u0442\\u0435\\u043b\\u0438\", \"\\u043c\\u043d\\u043e\\u0433\\u043e\\u043e\\u0431\\u0435\\u0449\\u0430\\u044e\\u0449\\u0438\\u0435\", \"\\u043d\\u0435 \\u043c\\u043e\\u0436\\u0435\\u043c \\u043f\\u043e\\u0442\\u0435\\u0440\\u044f\\u0442\\u044c\", \"\\u043d\\u043e\\u0432\\u044b\\u0435 \\u043f\\u043e\\u043b\\u044c\\u0437\\u043e\\u0432\\u0430\\u0442\\u0435\\u043b\\u0438\", \"\\u043f\\u043e\\u0442\\u0435\\u043d\\u0446\\u0438\\u0430\\u043b\\u044c\\u043d\\u043e-\\u043b\\u043e\\u044f\\u043b\\u044c\\u043d\\u044b\\u0435\", \"\\u0441\\u043f\\u044f\\u0449\\u0438\\u0435\", \"\\u0442\\u0440\\u0435\\u0431\\u0443\\u044e\\u0442 \\u0432\\u043d\\u0438\\u043c\\u0430\\u043d\\u0438\\u0435\", \"\\u0447\\u0435\\u043c\\u043f\\u0438\\u043e\\u043d\\u044b\"], \"labels\": [\"\\u0431\\u0435\\u0437\\u0434\\u0435\\u0439\\u0441\\u0442\\u0432\\u0443\\u044e\\u0449\\u0438\\u0435\", \"\\u0432 \\u0437\\u043e\\u043d\\u0435 \\u0440\\u0438\\u0441\\u043a\\u0430\", \"\\u043b\\u043e\\u044f\\u043b\\u044c\\u043d\\u044b\\u0435 \\u043f\\u043e\\u043b\\u044c\\u0437\\u043e\\u0432\\u0430\\u0442\\u0435\\u043b\\u0438\", \"\\u043c\\u043d\\u043e\\u0433\\u043e\\u043e\\u0431\\u0435\\u0449\\u0430\\u044e\\u0449\\u0438\\u0435\", \"\\u043d\\u0435 \\u043c\\u043e\\u0436\\u0435\\u043c \\u043f\\u043e\\u0442\\u0435\\u0440\\u044f\\u0442\\u044c\", \"\\u043d\\u043e\\u0432\\u044b\\u0435 \\u043f\\u043e\\u043b\\u044c\\u0437\\u043e\\u0432\\u0430\\u0442\\u0435\\u043b\\u0438\", \"\\u043f\\u043e\\u0442\\u0435\\u043d\\u0446\\u0438\\u0430\\u043b\\u044c\\u043d\\u043e-\\u043b\\u043e\\u044f\\u043b\\u044c\\u043d\\u044b\\u0435\", \"\\u0441\\u043f\\u044f\\u0449\\u0438\\u0435\", \"\\u0442\\u0440\\u0435\\u0431\\u0443\\u044e\\u0442 \\u0432\\u043d\\u0438\\u043c\\u0430\\u043d\\u0438\\u0435\", \"\\u0447\\u0435\\u043c\\u043f\\u0438\\u043e\\u043d\\u044b\"], \"name\": \"\", \"parents\": [\"\", \"\", \"\", \"\", \"\", \"\", \"\", \"\", \"\", \"\"], \"type\": \"treemap\", \"values\": [11885, 11075, 11904, 2780, 5686, 3100, 11228, 6171, 2604, 5814]}],\n",
       "                        {\"height\": 500, \"legend\": {\"tracegroupgap\": 0}, \"margin\": {\"t\": 60}, \"template\": {\"data\": {\"bar\": [{\"error_x\": {\"color\": \"#2a3f5f\"}, \"error_y\": {\"color\": \"#2a3f5f\"}, \"marker\": {\"line\": {\"color\": \"#E5ECF6\", \"width\": 0.5}}, \"type\": \"bar\"}], \"barpolar\": [{\"marker\": {\"line\": {\"color\": \"#E5ECF6\", \"width\": 0.5}}, \"type\": \"barpolar\"}], \"carpet\": [{\"aaxis\": {\"endlinecolor\": \"#2a3f5f\", \"gridcolor\": \"white\", \"linecolor\": \"white\", \"minorgridcolor\": \"white\", \"startlinecolor\": \"#2a3f5f\"}, \"baxis\": {\"endlinecolor\": \"#2a3f5f\", \"gridcolor\": \"white\", \"linecolor\": \"white\", \"minorgridcolor\": \"white\", \"startlinecolor\": \"#2a3f5f\"}, \"type\": \"carpet\"}], \"choropleth\": [{\"colorbar\": {\"outlinewidth\": 0, \"ticks\": \"\"}, \"type\": \"choropleth\"}], \"contour\": [{\"colorbar\": {\"outlinewidth\": 0, \"ticks\": \"\"}, \"colorscale\": [[0.0, \"#0d0887\"], [0.1111111111111111, \"#46039f\"], [0.2222222222222222, \"#7201a8\"], [0.3333333333333333, \"#9c179e\"], [0.4444444444444444, \"#bd3786\"], [0.5555555555555556, \"#d8576b\"], [0.6666666666666666, \"#ed7953\"], [0.7777777777777778, \"#fb9f3a\"], [0.8888888888888888, \"#fdca26\"], [1.0, \"#f0f921\"]], \"type\": \"contour\"}], \"contourcarpet\": [{\"colorbar\": {\"outlinewidth\": 0, \"ticks\": \"\"}, \"type\": \"contourcarpet\"}], \"heatmap\": [{\"colorbar\": {\"outlinewidth\": 0, \"ticks\": \"\"}, \"colorscale\": [[0.0, \"#0d0887\"], [0.1111111111111111, \"#46039f\"], [0.2222222222222222, \"#7201a8\"], [0.3333333333333333, \"#9c179e\"], [0.4444444444444444, \"#bd3786\"], [0.5555555555555556, \"#d8576b\"], [0.6666666666666666, \"#ed7953\"], [0.7777777777777778, \"#fb9f3a\"], [0.8888888888888888, \"#fdca26\"], [1.0, \"#f0f921\"]], \"type\": \"heatmap\"}], \"heatmapgl\": [{\"colorbar\": {\"outlinewidth\": 0, \"ticks\": \"\"}, \"colorscale\": [[0.0, \"#0d0887\"], [0.1111111111111111, \"#46039f\"], [0.2222222222222222, \"#7201a8\"], [0.3333333333333333, \"#9c179e\"], [0.4444444444444444, \"#bd3786\"], [0.5555555555555556, \"#d8576b\"], [0.6666666666666666, \"#ed7953\"], [0.7777777777777778, \"#fb9f3a\"], [0.8888888888888888, \"#fdca26\"], [1.0, \"#f0f921\"]], \"type\": \"heatmapgl\"}], \"histogram\": [{\"marker\": {\"colorbar\": {\"outlinewidth\": 0, \"ticks\": \"\"}}, \"type\": \"histogram\"}], \"histogram2d\": [{\"colorbar\": {\"outlinewidth\": 0, \"ticks\": \"\"}, \"colorscale\": [[0.0, \"#0d0887\"], [0.1111111111111111, \"#46039f\"], [0.2222222222222222, \"#7201a8\"], [0.3333333333333333, \"#9c179e\"], [0.4444444444444444, \"#bd3786\"], [0.5555555555555556, \"#d8576b\"], [0.6666666666666666, \"#ed7953\"], [0.7777777777777778, \"#fb9f3a\"], [0.8888888888888888, \"#fdca26\"], [1.0, \"#f0f921\"]], \"type\": \"histogram2d\"}], \"histogram2dcontour\": [{\"colorbar\": {\"outlinewidth\": 0, \"ticks\": \"\"}, \"colorscale\": [[0.0, \"#0d0887\"], [0.1111111111111111, \"#46039f\"], [0.2222222222222222, \"#7201a8\"], [0.3333333333333333, \"#9c179e\"], [0.4444444444444444, \"#bd3786\"], [0.5555555555555556, \"#d8576b\"], [0.6666666666666666, \"#ed7953\"], [0.7777777777777778, \"#fb9f3a\"], [0.8888888888888888, \"#fdca26\"], [1.0, \"#f0f921\"]], \"type\": \"histogram2dcontour\"}], \"mesh3d\": [{\"colorbar\": {\"outlinewidth\": 0, \"ticks\": \"\"}, \"type\": \"mesh3d\"}], \"parcoords\": [{\"line\": {\"colorbar\": {\"outlinewidth\": 0, \"ticks\": \"\"}}, \"type\": \"parcoords\"}], \"pie\": [{\"automargin\": true, \"type\": \"pie\"}], \"scatter\": [{\"marker\": {\"colorbar\": {\"outlinewidth\": 0, \"ticks\": \"\"}}, \"type\": \"scatter\"}], \"scatter3d\": [{\"line\": {\"colorbar\": {\"outlinewidth\": 0, \"ticks\": \"\"}}, \"marker\": {\"colorbar\": {\"outlinewidth\": 0, \"ticks\": \"\"}}, \"type\": \"scatter3d\"}], \"scattercarpet\": [{\"marker\": {\"colorbar\": {\"outlinewidth\": 0, \"ticks\": \"\"}}, \"type\": \"scattercarpet\"}], \"scattergeo\": [{\"marker\": {\"colorbar\": {\"outlinewidth\": 0, \"ticks\": \"\"}}, \"type\": \"scattergeo\"}], \"scattergl\": [{\"marker\": {\"colorbar\": {\"outlinewidth\": 0, \"ticks\": \"\"}}, \"type\": \"scattergl\"}], \"scattermapbox\": [{\"marker\": {\"colorbar\": {\"outlinewidth\": 0, \"ticks\": \"\"}}, \"type\": \"scattermapbox\"}], \"scatterpolar\": [{\"marker\": {\"colorbar\": {\"outlinewidth\": 0, \"ticks\": \"\"}}, \"type\": \"scatterpolar\"}], \"scatterpolargl\": [{\"marker\": {\"colorbar\": {\"outlinewidth\": 0, \"ticks\": \"\"}}, \"type\": \"scatterpolargl\"}], \"scatterternary\": [{\"marker\": {\"colorbar\": {\"outlinewidth\": 0, \"ticks\": \"\"}}, \"type\": \"scatterternary\"}], \"surface\": [{\"colorbar\": {\"outlinewidth\": 0, \"ticks\": \"\"}, \"colorscale\": [[0.0, \"#0d0887\"], [0.1111111111111111, \"#46039f\"], [0.2222222222222222, \"#7201a8\"], [0.3333333333333333, \"#9c179e\"], [0.4444444444444444, \"#bd3786\"], [0.5555555555555556, \"#d8576b\"], [0.6666666666666666, \"#ed7953\"], [0.7777777777777778, \"#fb9f3a\"], [0.8888888888888888, \"#fdca26\"], [1.0, \"#f0f921\"]], \"type\": \"surface\"}], \"table\": [{\"cells\": {\"fill\": {\"color\": \"#EBF0F8\"}, \"line\": {\"color\": \"white\"}}, \"header\": {\"fill\": {\"color\": \"#C8D4E3\"}, \"line\": {\"color\": \"white\"}}, \"type\": \"table\"}]}, \"layout\": {\"annotationdefaults\": {\"arrowcolor\": \"#2a3f5f\", \"arrowhead\": 0, \"arrowwidth\": 1}, \"coloraxis\": {\"colorbar\": {\"outlinewidth\": 0, \"ticks\": \"\"}}, \"colorscale\": {\"diverging\": [[0, \"#8e0152\"], [0.1, \"#c51b7d\"], [0.2, \"#de77ae\"], [0.3, \"#f1b6da\"], [0.4, \"#fde0ef\"], [0.5, \"#f7f7f7\"], [0.6, \"#e6f5d0\"], [0.7, \"#b8e186\"], [0.8, \"#7fbc41\"], [0.9, \"#4d9221\"], [1, \"#276419\"]], \"sequential\": [[0.0, \"#0d0887\"], [0.1111111111111111, \"#46039f\"], [0.2222222222222222, \"#7201a8\"], [0.3333333333333333, \"#9c179e\"], [0.4444444444444444, \"#bd3786\"], [0.5555555555555556, \"#d8576b\"], [0.6666666666666666, \"#ed7953\"], [0.7777777777777778, \"#fb9f3a\"], [0.8888888888888888, \"#fdca26\"], [1.0, \"#f0f921\"]], \"sequentialminus\": [[0.0, \"#0d0887\"], [0.1111111111111111, \"#46039f\"], [0.2222222222222222, \"#7201a8\"], [0.3333333333333333, \"#9c179e\"], [0.4444444444444444, \"#bd3786\"], [0.5555555555555556, \"#d8576b\"], [0.6666666666666666, \"#ed7953\"], [0.7777777777777778, \"#fb9f3a\"], [0.8888888888888888, \"#fdca26\"], [1.0, \"#f0f921\"]]}, \"colorway\": [\"#636efa\", \"#EF553B\", \"#00cc96\", \"#ab63fa\", \"#FFA15A\", \"#19d3f3\", \"#FF6692\", \"#B6E880\", \"#FF97FF\", \"#FECB52\"], \"font\": {\"color\": \"#2a3f5f\"}, \"geo\": {\"bgcolor\": \"white\", \"lakecolor\": \"white\", \"landcolor\": \"#E5ECF6\", \"showlakes\": true, \"showland\": true, \"subunitcolor\": \"white\"}, \"hoverlabel\": {\"align\": \"left\"}, \"hovermode\": \"closest\", \"mapbox\": {\"style\": \"light\"}, \"paper_bgcolor\": \"white\", \"plot_bgcolor\": \"#E5ECF6\", \"polar\": {\"angularaxis\": {\"gridcolor\": \"white\", \"linecolor\": \"white\", \"ticks\": \"\"}, \"bgcolor\": \"#E5ECF6\", \"radialaxis\": {\"gridcolor\": \"white\", \"linecolor\": \"white\", \"ticks\": \"\"}}, \"scene\": {\"xaxis\": {\"backgroundcolor\": \"#E5ECF6\", \"gridcolor\": \"white\", \"gridwidth\": 2, \"linecolor\": \"white\", \"showbackground\": true, \"ticks\": \"\", \"zerolinecolor\": \"white\"}, \"yaxis\": {\"backgroundcolor\": \"#E5ECF6\", \"gridcolor\": \"white\", \"gridwidth\": 2, \"linecolor\": \"white\", \"showbackground\": true, \"ticks\": \"\", \"zerolinecolor\": \"white\"}, \"zaxis\": {\"backgroundcolor\": \"#E5ECF6\", \"gridcolor\": \"white\", \"gridwidth\": 2, \"linecolor\": \"white\", \"showbackground\": true, \"ticks\": \"\", \"zerolinecolor\": \"white\"}}, \"shapedefaults\": {\"line\": {\"color\": \"#2a3f5f\"}}, \"ternary\": {\"aaxis\": {\"gridcolor\": \"white\", \"linecolor\": \"white\", \"ticks\": \"\"}, \"baxis\": {\"gridcolor\": \"white\", \"linecolor\": \"white\", \"ticks\": \"\"}, \"bgcolor\": \"#E5ECF6\", \"caxis\": {\"gridcolor\": \"white\", \"linecolor\": \"white\", \"ticks\": \"\"}}, \"title\": {\"x\": 0.05}, \"xaxis\": {\"automargin\": true, \"gridcolor\": \"white\", \"linecolor\": \"white\", \"ticks\": \"\", \"title\": {\"standoff\": 15}, \"zerolinecolor\": \"white\", \"zerolinewidth\": 2}, \"yaxis\": {\"automargin\": true, \"gridcolor\": \"white\", \"linecolor\": \"white\", \"ticks\": \"\", \"title\": {\"standoff\": 15}, \"zerolinecolor\": \"white\", \"zerolinewidth\": 2}}}, \"title\": {\"text\": \"Tree map of Segments\"}, \"width\": 700},\n",
       "                        {\"responsive\": true}\n",
       "                    ).then(function(){\n",
       "                            \n",
       "var gd = document.getElementById('ec8d3b11-d50e-4e1c-8a27-8cdef786cab2');\n",
       "var x = new MutationObserver(function (mutations, observer) {{\n",
       "        var display = window.getComputedStyle(gd).display;\n",
       "        if (!display || display === 'none') {{\n",
       "            console.log([gd, 'removed!']);\n",
       "            Plotly.purge(gd);\n",
       "            observer.disconnect();\n",
       "        }}\n",
       "}});\n",
       "\n",
       "// Listen for the removal of the full notebook cells\n",
       "var notebookContainer = gd.closest('#notebook-container');\n",
       "if (notebookContainer) {{\n",
       "    x.observe(notebookContainer, {childList: true});\n",
       "}}\n",
       "\n",
       "// Listen for the clearing of the current output cell\n",
       "var outputEl = gd.closest('.output');\n",
       "if (outputEl) {{\n",
       "    x.observe(outputEl, {childList: true});\n",
       "}}\n",
       "\n",
       "                        })\n",
       "                };\n",
       "                });\n",
       "            </script>\n",
       "        </div>"
      ]
     },
     "metadata": {},
     "output_type": "display_data"
    }
   ],
   "source": [
    "fig = px.treemap(segmentation, path=['segment'], values='count_customer')\n",
    "fig.update_layout(title=\"Tree map of Segments\", width=700, height=500,)\n",
    "fig.show()"
   ]
  },
  {
   "cell_type": "code",
   "execution_count": 158,
   "metadata": {},
   "outputs": [
    {
     "data": {
      "text/plain": [
       "<matplotlib.axes._subplots.AxesSubplot at 0x7f3373cbe358>"
      ]
     },
     "execution_count": 158,
     "metadata": {},
     "output_type": "execute_result"
    },
    {
     "data": {
      "image/png": "[encoded data removed]",
      "text/plain": [
       "<Figure size 1080x432 with 1 Axes>"
      ]
     },
     "metadata": {
      "needs_background": "light"
     },
     "output_type": "display_data"
    }
   ],
   "source": [
    "plt.figure(figsize=(15,6))\n",
    "sns.barplot(x='count_customer', y='segment', data = segmentation)"
   ]
  },
  {
   "cell_type": "code",
   "execution_count": 159,
   "metadata": {},
   "outputs": [
    {
     "data": {
      "text/html": [
       "<div>\n",
       "<style scoped>\n",
       "    .dataframe tbody tr th:only-of-type {\n",
       "        vertical-align: middle;\n",
       "    }\n",
       "\n",
       "    .dataframe tbody tr th {\n",
       "        vertical-align: top;\n",
       "    }\n",
       "\n",
       "    .dataframe thead th {\n",
       "        text-align: right;\n",
       "    }\n",
       "</style>\n",
       "<table border=\"1\" class=\"dataframe\">\n",
       "  <thead>\n",
       "    <tr style=\"text-align: right;\">\n",
       "      <th></th>\n",
       "      <th>customer_unique_id</th>\n",
       "      <th>recency</th>\n",
       "      <th>frequency</th>\n",
       "      <th>monetary</th>\n",
       "      <th>R</th>\n",
       "      <th>F</th>\n",
       "      <th>M</th>\n",
       "      <th>RFM_score</th>\n",
       "      <th>segment</th>\n",
       "      <th>description_intervals</th>\n",
       "    </tr>\n",
       "  </thead>\n",
       "  <tbody>\n",
       "    <tr>\n",
       "      <th>0</th>\n",
       "      <td>0000366f3b9a7992bf8c76cfdf3221e2</td>\n",
       "      <td>112</td>\n",
       "      <td>1</td>\n",
       "      <td>129.90</td>\n",
       "      <td>4</td>\n",
       "      <td>1</td>\n",
       "      <td>4</td>\n",
       "      <td>414</td>\n",
       "      <td>лояльные пользователи</td>\n",
       "      <td>Границы метрик R: от 204.0 до 275.0 дней с даты последней покупки  F: от 0 до 3 покупок в год  M: от 109.98 до 179.7 руб. в год</td>\n",
       "    </tr>\n",
       "    <tr>\n",
       "      <th>1</th>\n",
       "      <td>0000b849f77a49e4a4ce2b2a4ca5be3f</td>\n",
       "      <td>115</td>\n",
       "      <td>1</td>\n",
       "      <td>18.90</td>\n",
       "      <td>4</td>\n",
       "      <td>1</td>\n",
       "      <td>1</td>\n",
       "      <td>411</td>\n",
       "      <td>многообещающие</td>\n",
       "      <td>Границы метрик R: от 204.0 до 275.0 дней с даты последней покупки  F: от 0 до 3 покупок в год  M: от 0 до 39.9 руб. в год</td>\n",
       "    </tr>\n",
       "    <tr>\n",
       "      <th>2</th>\n",
       "      <td>0000f6ccb0745a6a4b88665a16c9f078</td>\n",
       "      <td>321</td>\n",
       "      <td>1</td>\n",
       "      <td>25.99</td>\n",
       "      <td>1</td>\n",
       "      <td>1</td>\n",
       "      <td>1</td>\n",
       "      <td>111</td>\n",
       "      <td>бездействующие</td>\n",
       "      <td>Границы метрик R: от 0 до 71.0 дней с даты последней покупки  F: от 0 до 3 покупок в год  M: от 0 до 39.9 руб. в год</td>\n",
       "    </tr>\n",
       "  </tbody>\n",
       "</table>\n",
       "</div>"
      ],
      "text/plain": [
       "                 customer_unique_id  recency  frequency  monetary  R  F  M  \\\n",
       "0  0000366f3b9a7992bf8c76cfdf3221e2      112          1    129.90  4  1  4   \n",
       "1  0000b849f77a49e4a4ce2b2a4ca5be3f      115          1     18.90  4  1  1   \n",
       "2  0000f6ccb0745a6a4b88665a16c9f078      321          1     25.99  1  1  1   \n",
       "\n",
       "  RFM_score                segment  \\\n",
       "0       414  лояльные пользователи   \n",
       "1       411         многообещающие   \n",
       "2       111         бездействующие   \n",
       "\n",
       "                                                                                                              description_intervals  \n",
       "0  Границы метрик R: от 204.0 до 275.0 дней с даты последней покупки  F: от 0 до 3 покупок в год  M: от 109.98 до 179.7 руб. в год   \n",
       "1        Границы метрик R: от 204.0 до 275.0 дней с даты последней покупки  F: от 0 до 3 покупок в год  M: от 0 до 39.9 руб. в год   \n",
       "2             Границы метрик R: от 0 до 71.0 дней с даты последней покупки  F: от 0 до 3 покупок в год  M: от 0 до 39.9 руб. в год   "
      ]
     },
     "execution_count": 159,
     "metadata": {},
     "output_type": "execute_result"
    }
   ],
   "source": [
    "# Для вывода описания границ интервалов для метрик определим функцию\n",
    "\n",
    "def description(score):\n",
    "    r = int(score[0])\n",
    "    f = int(score[1])\n",
    "    m = int(score[2])\n",
    "    rstr = \"от \" + str(intervals_R[r-1]) + \" до \" + str(intervals_R[r]) + \" дней с даты последней покупки \"\n",
    "    fstr = \"от \" + str(intervals_F[f-1]) + \" до \" + str(intervals_F[f]) + \" покупок в год \"\n",
    "    mstr = \"от \" + str(intervals_M[m-1]) + \" до \" + str(intervals_M[m]) + \" руб. в год \"\n",
    "    return (\"Границы метрик R: \" + rstr + \" F: \"+ fstr+ \" M: \"+ mstr)\n",
    "\n",
    "# создадим столбец с описанием\n",
    "rfm['description_intervals'] = rfm['RFM_score'].apply(description) \n",
    "rfm.head(3)"
   ]
  },
  {
   "cell_type": "code",
   "execution_count": 160,
   "metadata": {},
   "outputs": [
    {
     "data": {
      "text/html": [
       "<div>\n",
       "<style scoped>\n",
       "    .dataframe tbody tr th:only-of-type {\n",
       "        vertical-align: middle;\n",
       "    }\n",
       "\n",
       "    .dataframe tbody tr th {\n",
       "        vertical-align: top;\n",
       "    }\n",
       "\n",
       "    .dataframe thead th {\n",
       "        text-align: right;\n",
       "    }\n",
       "</style>\n",
       "<table border=\"1\" class=\"dataframe\">\n",
       "  <thead>\n",
       "    <tr style=\"text-align: right;\">\n",
       "      <th></th>\n",
       "      <th>RFM_score</th>\n",
       "      <th>segment</th>\n",
       "      <th>description_intervals</th>\n",
       "      <th>count_customers</th>\n",
       "    </tr>\n",
       "  </thead>\n",
       "  <tbody>\n",
       "    <tr>\n",
       "      <th>0</th>\n",
       "      <td>111</td>\n",
       "      <td>бездействующие</td>\n",
       "      <td>Границы метрик R: от 0 до 71.0 дней с даты последней покупки  F: от 0 до 3 покупок в год  M: от 0 до 39.9 руб. в год</td>\n",
       "      <td>2817</td>\n",
       "    </tr>\n",
       "    <tr>\n",
       "      <th>1</th>\n",
       "      <td>112</td>\n",
       "      <td>бездействующие</td>\n",
       "      <td>Границы метрик R: от 0 до 71.0 дней с даты последней покупки  F: от 0 до 3 покупок в год  M: от 39.9 до 69.9 руб. в год</td>\n",
       "      <td>3094</td>\n",
       "    </tr>\n",
       "    <tr>\n",
       "      <th>2</th>\n",
       "      <td>113</td>\n",
       "      <td>в зоне риска</td>\n",
       "      <td>Границы метрик R: от 0 до 71.0 дней с даты последней покупки  F: от 0 до 3 покупок в год  M: от 69.9 до 109.98 руб. в год</td>\n",
       "      <td>2746</td>\n",
       "    </tr>\n",
       "    <tr>\n",
       "      <th>3</th>\n",
       "      <td>114</td>\n",
       "      <td>в зоне риска</td>\n",
       "      <td>Границы метрик R: от 0 до 71.0 дней с даты последней покупки  F: от 0 до 3 покупок в год  M: от 109.98 до 179.7 руб. в год</td>\n",
       "      <td>2632</td>\n",
       "    </tr>\n",
       "    <tr>\n",
       "      <th>4</th>\n",
       "      <td>115</td>\n",
       "      <td>не можем потерять</td>\n",
       "      <td>Границы метрик R: от 0 до 71.0 дней с даты последней покупки  F: от 0 до 3 покупок в год  M: от 179.7 до 13440.0 руб. в год</td>\n",
       "      <td>2864</td>\n",
       "    </tr>\n",
       "    <tr>\n",
       "      <th>5</th>\n",
       "      <td>125</td>\n",
       "      <td>не можем потерять</td>\n",
       "      <td>Границы метрик R: от 0 до 71.0 дней с даты последней покупки  F: от 3 до 5 покупок в год  M: от 179.7 до 13440.0 руб. в год</td>\n",
       "      <td>2</td>\n",
       "    </tr>\n",
       "    <tr>\n",
       "      <th>6</th>\n",
       "      <td>211</td>\n",
       "      <td>бездействующие</td>\n",
       "      <td>Границы метрик R: от 71.0 до 138.0 дней с даты последней покупки  F: от 0 до 3 покупок в год  M: от 0 до 39.9 руб. в год</td>\n",
       "      <td>3009</td>\n",
       "    </tr>\n",
       "    <tr>\n",
       "      <th>7</th>\n",
       "      <td>212</td>\n",
       "      <td>бездействующие</td>\n",
       "      <td>Границы метрик R: от 71.0 до 138.0 дней с даты последней покупки  F: от 0 до 3 покупок в год  M: от 39.9 до 69.9 руб. в год</td>\n",
       "      <td>2965</td>\n",
       "    </tr>\n",
       "    <tr>\n",
       "      <th>8</th>\n",
       "      <td>213</td>\n",
       "      <td>в зоне риска</td>\n",
       "      <td>Границы метрик R: от 71.0 до 138.0 дней с даты последней покупки  F: от 0 до 3 покупок в год  M: от 69.9 до 109.98 руб. в год</td>\n",
       "      <td>2839</td>\n",
       "    </tr>\n",
       "    <tr>\n",
       "      <th>9</th>\n",
       "      <td>214</td>\n",
       "      <td>в зоне риска</td>\n",
       "      <td>Границы метрик R: от 71.0 до 138.0 дней с даты последней покупки  F: от 0 до 3 покупок в год  M: от 109.98 до 179.7 руб. в год</td>\n",
       "      <td>2858</td>\n",
       "    </tr>\n",
       "    <tr>\n",
       "      <th>10</th>\n",
       "      <td>215</td>\n",
       "      <td>не можем потерять</td>\n",
       "      <td>Границы метрик R: от 71.0 до 138.0 дней с даты последней покупки  F: от 0 до 3 покупок в год  M: от 179.7 до 13440.0 руб. в год</td>\n",
       "      <td>2818</td>\n",
       "    </tr>\n",
       "    <tr>\n",
       "      <th>11</th>\n",
       "      <td>225</td>\n",
       "      <td>не можем потерять</td>\n",
       "      <td>Границы метрик R: от 71.0 до 138.0 дней с даты последней покупки  F: от 3 до 5 покупок в год  M: от 179.7 до 13440.0 руб. в год</td>\n",
       "      <td>2</td>\n",
       "    </tr>\n",
       "    <tr>\n",
       "      <th>12</th>\n",
       "      <td>311</td>\n",
       "      <td>спящие</td>\n",
       "      <td>Границы метрик R: от 138.0 до 204.0 дней с даты последней покупки  F: от 0 до 3 покупок в год  M: от 0 до 39.9 руб. в год</td>\n",
       "      <td>3108</td>\n",
       "    </tr>\n",
       "    <tr>\n",
       "      <th>13</th>\n",
       "      <td>312</td>\n",
       "      <td>спящие</td>\n",
       "      <td>Границы метрик R: от 138.0 до 204.0 дней с даты последней покупки  F: от 0 до 3 покупок в год  M: от 39.9 до 69.9 руб. в год</td>\n",
       "      <td>3063</td>\n",
       "    </tr>\n",
       "    <tr>\n",
       "      <th>14</th>\n",
       "      <td>313</td>\n",
       "      <td>требуют внимание</td>\n",
       "      <td>Границы метрик R: от 138.0 до 204.0 дней с даты последней покупки  F: от 0 до 3 покупок в год  M: от 69.9 до 109.98 руб. в год</td>\n",
       "      <td>2604</td>\n",
       "    </tr>\n",
       "    <tr>\n",
       "      <th>15</th>\n",
       "      <td>314</td>\n",
       "      <td>лояльные пользователи</td>\n",
       "      <td>Границы метрик R: от 138.0 до 204.0 дней с даты последней покупки  F: от 0 до 3 покупок в год  M: от 109.98 до 179.7 руб. в год</td>\n",
       "      <td>3031</td>\n",
       "    </tr>\n",
       "    <tr>\n",
       "      <th>16</th>\n",
       "      <td>315</td>\n",
       "      <td>лояльные пользователи</td>\n",
       "      <td>Границы метрик R: от 138.0 до 204.0 дней с даты последней покупки  F: от 0 до 3 покупок в год  M: от 179.7 до 13440.0 руб. в год</td>\n",
       "      <td>2884</td>\n",
       "    </tr>\n",
       "    <tr>\n",
       "      <th>17</th>\n",
       "      <td>324</td>\n",
       "      <td>лояльные пользователи</td>\n",
       "      <td>Границы метрик R: от 138.0 до 204.0 дней с даты последней покупки  F: от 3 до 5 покупок в год  M: от 109.98 до 179.7 руб. в год</td>\n",
       "      <td>1</td>\n",
       "    </tr>\n",
       "    <tr>\n",
       "      <th>18</th>\n",
       "      <td>325</td>\n",
       "      <td>лояльные пользователи</td>\n",
       "      <td>Границы метрик R: от 138.0 до 204.0 дней с даты последней покупки  F: от 3 до 5 покупок в год  M: от 179.7 до 13440.0 руб. в год</td>\n",
       "      <td>4</td>\n",
       "    </tr>\n",
       "    <tr>\n",
       "      <th>19</th>\n",
       "      <td>335</td>\n",
       "      <td>лояльные пользователи</td>\n",
       "      <td>Границы метрик R: от 138.0 до 204.0 дней с даты последней покупки  F: от 5 до 7 покупок в год  M: от 179.7 до 13440.0 руб. в год</td>\n",
       "      <td>1</td>\n",
       "    </tr>\n",
       "    <tr>\n",
       "      <th>20</th>\n",
       "      <td>345</td>\n",
       "      <td>лояльные пользователи</td>\n",
       "      <td>Границы метрик R: от 138.0 до 204.0 дней с даты последней покупки  F: от 7 до 9 покупок в год  M: от 179.7 до 13440.0 руб. в год</td>\n",
       "      <td>1</td>\n",
       "    </tr>\n",
       "    <tr>\n",
       "      <th>21</th>\n",
       "      <td>411</td>\n",
       "      <td>многообещающие</td>\n",
       "      <td>Границы метрик R: от 204.0 до 275.0 дней с даты последней покупки  F: от 0 до 3 покупок в год  M: от 0 до 39.9 руб. в год</td>\n",
       "      <td>2780</td>\n",
       "    </tr>\n",
       "    <tr>\n",
       "      <th>22</th>\n",
       "      <td>412</td>\n",
       "      <td>потенциально-лояльные</td>\n",
       "      <td>Границы метрик R: от 204.0 до 275.0 дней с даты последней покупки  F: от 0 до 3 покупок в год  M: от 39.9 до 69.9 руб. в год</td>\n",
       "      <td>2747</td>\n",
       "    </tr>\n",
       "    <tr>\n",
       "      <th>23</th>\n",
       "      <td>413</td>\n",
       "      <td>потенциально-лояльные</td>\n",
       "      <td>Границы метрик R: от 204.0 до 275.0 дней с даты последней покупки  F: от 0 до 3 покупок в год  M: от 69.9 до 109.98 руб. в год</td>\n",
       "      <td>2752</td>\n",
       "    </tr>\n",
       "    <tr>\n",
       "      <th>24</th>\n",
       "      <td>414</td>\n",
       "      <td>лояльные пользователи</td>\n",
       "      <td>Границы метрик R: от 204.0 до 275.0 дней с даты последней покупки  F: от 0 до 3 покупок в год  M: от 109.98 до 179.7 руб. в год</td>\n",
       "      <td>2974</td>\n",
       "    </tr>\n",
       "    <tr>\n",
       "      <th>25</th>\n",
       "      <td>415</td>\n",
       "      <td>лояльные пользователи</td>\n",
       "      <td>Границы метрик R: от 204.0 до 275.0 дней с даты последней покупки  F: от 0 до 3 покупок в год  M: от 179.7 до 13440.0 руб. в год</td>\n",
       "      <td>3002</td>\n",
       "    </tr>\n",
       "    <tr>\n",
       "      <th>26</th>\n",
       "      <td>425</td>\n",
       "      <td>лояльные пользователи</td>\n",
       "      <td>Границы метрик R: от 204.0 до 275.0 дней с даты последней покупки  F: от 3 до 5 покупок в год  M: от 179.7 до 13440.0 руб. в год</td>\n",
       "      <td>5</td>\n",
       "    </tr>\n",
       "    <tr>\n",
       "      <th>27</th>\n",
       "      <td>435</td>\n",
       "      <td>лояльные пользователи</td>\n",
       "      <td>Границы метрик R: от 204.0 до 275.0 дней с даты последней покупки  F: от 5 до 7 покупок в год  M: от 179.7 до 13440.0 руб. в год</td>\n",
       "      <td>1</td>\n",
       "    </tr>\n",
       "    <tr>\n",
       "      <th>28</th>\n",
       "      <td>511</td>\n",
       "      <td>новые пользователи</td>\n",
       "      <td>Границы метрик R: от 275.0 до 363 дней с даты последней покупки  F: от 0 до 3 покупок в год  M: от 0 до 39.9 руб. в год</td>\n",
       "      <td>3100</td>\n",
       "    </tr>\n",
       "    <tr>\n",
       "      <th>29</th>\n",
       "      <td>512</td>\n",
       "      <td>потенциально-лояльные</td>\n",
       "      <td>Границы метрик R: от 275.0 до 363 дней с даты последней покупки  F: от 0 до 3 покупок в год  M: от 39.9 до 69.9 руб. в год</td>\n",
       "      <td>3039</td>\n",
       "    </tr>\n",
       "    <tr>\n",
       "      <th>30</th>\n",
       "      <td>513</td>\n",
       "      <td>потенциально-лояльные</td>\n",
       "      <td>Границы метрик R: от 275.0 до 363 дней с даты последней покупки  F: от 0 до 3 покупок в год  M: от 69.9 до 109.98 руб. в год</td>\n",
       "      <td>2690</td>\n",
       "    </tr>\n",
       "    <tr>\n",
       "      <th>31</th>\n",
       "      <td>514</td>\n",
       "      <td>чемпионы</td>\n",
       "      <td>Границы метрик R: от 275.0 до 363 дней с даты последней покупки  F: от 0 до 3 покупок в год  M: от 109.98 до 179.7 руб. в год</td>\n",
       "      <td>2969</td>\n",
       "    </tr>\n",
       "    <tr>\n",
       "      <th>32</th>\n",
       "      <td>515</td>\n",
       "      <td>чемпионы</td>\n",
       "      <td>Границы метрик R: от 275.0 до 363 дней с даты последней покупки  F: от 0 до 3 покупок в год  M: от 179.7 до 13440.0 руб. в год</td>\n",
       "      <td>2836</td>\n",
       "    </tr>\n",
       "    <tr>\n",
       "      <th>33</th>\n",
       "      <td>525</td>\n",
       "      <td>чемпионы</td>\n",
       "      <td>Границы метрик R: от 275.0 до 363 дней с даты последней покупки  F: от 3 до 5 покупок в год  M: от 179.7 до 13440.0 руб. в год</td>\n",
       "      <td>7</td>\n",
       "    </tr>\n",
       "    <tr>\n",
       "      <th>34</th>\n",
       "      <td>535</td>\n",
       "      <td>чемпионы</td>\n",
       "      <td>Границы метрик R: от 275.0 до 363 дней с даты последней покупки  F: от 5 до 7 покупок в год  M: от 179.7 до 13440.0 руб. в год</td>\n",
       "      <td>1</td>\n",
       "    </tr>\n",
       "    <tr>\n",
       "      <th>35</th>\n",
       "      <td>555</td>\n",
       "      <td>чемпионы</td>\n",
       "      <td>Границы метрик R: от 275.0 до 363 дней с даты последней покупки  F: от 9 до 12 покупок в год  M: от 179.7 до 13440.0 руб. в год</td>\n",
       "      <td>1</td>\n",
       "    </tr>\n",
       "  </tbody>\n",
       "</table>\n",
       "</div>"
      ],
      "text/plain": [
       "   RFM_score                segment  \\\n",
       "0        111         бездействующие   \n",
       "1        112         бездействующие   \n",
       "2        113           в зоне риска   \n",
       "3        114           в зоне риска   \n",
       "4        115      не можем потерять   \n",
       "5        125      не можем потерять   \n",
       "6        211         бездействующие   \n",
       "7        212         бездействующие   \n",
       "8        213           в зоне риска   \n",
       "9        214           в зоне риска   \n",
       "10       215      не можем потерять   \n",
       "11       225      не можем потерять   \n",
       "12       311                 спящие   \n",
       "13       312                 спящие   \n",
       "14       313       требуют внимание   \n",
       "15       314  лояльные пользователи   \n",
       "16       315  лояльные пользователи   \n",
       "17       324  лояльные пользователи   \n",
       "18       325  лояльные пользователи   \n",
       "19       335  лояльные пользователи   \n",
       "20       345  лояльные пользователи   \n",
       "21       411         многообещающие   \n",
       "22       412  потенциально-лояльные   \n",
       "23       413  потенциально-лояльные   \n",
       "24       414  лояльные пользователи   \n",
       "25       415  лояльные пользователи   \n",
       "26       425  лояльные пользователи   \n",
       "27       435  лояльные пользователи   \n",
       "28       511     новые пользователи   \n",
       "29       512  потенциально-лояльные   \n",
       "30       513  потенциально-лояльные   \n",
       "31       514               чемпионы   \n",
       "32       515               чемпионы   \n",
       "33       525               чемпионы   \n",
       "34       535               чемпионы   \n",
       "35       555               чемпионы   \n",
       "\n",
       "                                                                                                                description_intervals  \\\n",
       "0               Границы метрик R: от 0 до 71.0 дней с даты последней покупки  F: от 0 до 3 покупок в год  M: от 0 до 39.9 руб. в год    \n",
       "1            Границы метрик R: от 0 до 71.0 дней с даты последней покупки  F: от 0 до 3 покупок в год  M: от 39.9 до 69.9 руб. в год    \n",
       "2          Границы метрик R: от 0 до 71.0 дней с даты последней покупки  F: от 0 до 3 покупок в год  M: от 69.9 до 109.98 руб. в год    \n",
       "3         Границы метрик R: от 0 до 71.0 дней с даты последней покупки  F: от 0 до 3 покупок в год  M: от 109.98 до 179.7 руб. в год    \n",
       "4        Границы метрик R: от 0 до 71.0 дней с даты последней покупки  F: от 0 до 3 покупок в год  M: от 179.7 до 13440.0 руб. в год    \n",
       "5        Границы метрик R: от 0 до 71.0 дней с даты последней покупки  F: от 3 до 5 покупок в год  M: от 179.7 до 13440.0 руб. в год    \n",
       "6           Границы метрик R: от 71.0 до 138.0 дней с даты последней покупки  F: от 0 до 3 покупок в год  M: от 0 до 39.9 руб. в год    \n",
       "7        Границы метрик R: от 71.0 до 138.0 дней с даты последней покупки  F: от 0 до 3 покупок в год  M: от 39.9 до 69.9 руб. в год    \n",
       "8      Границы метрик R: от 71.0 до 138.0 дней с даты последней покупки  F: от 0 до 3 покупок в год  M: от 69.9 до 109.98 руб. в год    \n",
       "9     Границы метрик R: от 71.0 до 138.0 дней с даты последней покупки  F: от 0 до 3 покупок в год  M: от 109.98 до 179.7 руб. в год    \n",
       "10   Границы метрик R: от 71.0 до 138.0 дней с даты последней покупки  F: от 0 до 3 покупок в год  M: от 179.7 до 13440.0 руб. в год    \n",
       "11   Границы метрик R: от 71.0 до 138.0 дней с даты последней покупки  F: от 3 до 5 покупок в год  M: от 179.7 до 13440.0 руб. в год    \n",
       "12         Границы метрик R: от 138.0 до 204.0 дней с даты последней покупки  F: от 0 до 3 покупок в год  M: от 0 до 39.9 руб. в год    \n",
       "13      Границы метрик R: от 138.0 до 204.0 дней с даты последней покупки  F: от 0 до 3 покупок в год  M: от 39.9 до 69.9 руб. в год    \n",
       "14    Границы метрик R: от 138.0 до 204.0 дней с даты последней покупки  F: от 0 до 3 покупок в год  M: от 69.9 до 109.98 руб. в год    \n",
       "15   Границы метрик R: от 138.0 до 204.0 дней с даты последней покупки  F: от 0 до 3 покупок в год  M: от 109.98 до 179.7 руб. в год    \n",
       "16  Границы метрик R: от 138.0 до 204.0 дней с даты последней покупки  F: от 0 до 3 покупок в год  M: от 179.7 до 13440.0 руб. в год    \n",
       "17   Границы метрик R: от 138.0 до 204.0 дней с даты последней покупки  F: от 3 до 5 покупок в год  M: от 109.98 до 179.7 руб. в год    \n",
       "18  Границы метрик R: от 138.0 до 204.0 дней с даты последней покупки  F: от 3 до 5 покупок в год  M: от 179.7 до 13440.0 руб. в год    \n",
       "19  Границы метрик R: от 138.0 до 204.0 дней с даты последней покупки  F: от 5 до 7 покупок в год  M: от 179.7 до 13440.0 руб. в год    \n",
       "20  Границы метрик R: от 138.0 до 204.0 дней с даты последней покупки  F: от 7 до 9 покупок в год  M: от 179.7 до 13440.0 руб. в год    \n",
       "21         Границы метрик R: от 204.0 до 275.0 дней с даты последней покупки  F: от 0 до 3 покупок в год  M: от 0 до 39.9 руб. в год    \n",
       "22      Границы метрик R: от 204.0 до 275.0 дней с даты последней покупки  F: от 0 до 3 покупок в год  M: от 39.9 до 69.9 руб. в год    \n",
       "23    Границы метрик R: от 204.0 до 275.0 дней с даты последней покупки  F: от 0 до 3 покупок в год  M: от 69.9 до 109.98 руб. в год    \n",
       "24   Границы метрик R: от 204.0 до 275.0 дней с даты последней покупки  F: от 0 до 3 покупок в год  M: от 109.98 до 179.7 руб. в год    \n",
       "25  Границы метрик R: от 204.0 до 275.0 дней с даты последней покупки  F: от 0 до 3 покупок в год  M: от 179.7 до 13440.0 руб. в год    \n",
       "26  Границы метрик R: от 204.0 до 275.0 дней с даты последней покупки  F: от 3 до 5 покупок в год  M: от 179.7 до 13440.0 руб. в год    \n",
       "27  Границы метрик R: от 204.0 до 275.0 дней с даты последней покупки  F: от 5 до 7 покупок в год  M: от 179.7 до 13440.0 руб. в год    \n",
       "28           Границы метрик R: от 275.0 до 363 дней с даты последней покупки  F: от 0 до 3 покупок в год  M: от 0 до 39.9 руб. в год    \n",
       "29        Границы метрик R: от 275.0 до 363 дней с даты последней покупки  F: от 0 до 3 покупок в год  M: от 39.9 до 69.9 руб. в год    \n",
       "30      Границы метрик R: от 275.0 до 363 дней с даты последней покупки  F: от 0 до 3 покупок в год  M: от 69.9 до 109.98 руб. в год    \n",
       "31     Границы метрик R: от 275.0 до 363 дней с даты последней покупки  F: от 0 до 3 покупок в год  M: от 109.98 до 179.7 руб. в год    \n",
       "32    Границы метрик R: от 275.0 до 363 дней с даты последней покупки  F: от 0 до 3 покупок в год  M: от 179.7 до 13440.0 руб. в год    \n",
       "33    Границы метрик R: от 275.0 до 363 дней с даты последней покупки  F: от 3 до 5 покупок в год  M: от 179.7 до 13440.0 руб. в год    \n",
       "34    Границы метрик R: от 275.0 до 363 дней с даты последней покупки  F: от 5 до 7 покупок в год  M: от 179.7 до 13440.0 руб. в год    \n",
       "35   Границы метрик R: от 275.0 до 363 дней с даты последней покупки  F: от 9 до 12 покупок в год  M: от 179.7 до 13440.0 руб. в год    \n",
       "\n",
       "    count_customers  \n",
       "0              2817  \n",
       "1              3094  \n",
       "2              2746  \n",
       "3              2632  \n",
       "4              2864  \n",
       "5                 2  \n",
       "6              3009  \n",
       "7              2965  \n",
       "8              2839  \n",
       "9              2858  \n",
       "10             2818  \n",
       "11                2  \n",
       "12             3108  \n",
       "13             3063  \n",
       "14             2604  \n",
       "15             3031  \n",
       "16             2884  \n",
       "17                1  \n",
       "18                4  \n",
       "19                1  \n",
       "20                1  \n",
       "21             2780  \n",
       "22             2747  \n",
       "23             2752  \n",
       "24             2974  \n",
       "25             3002  \n",
       "26                5  \n",
       "27                1  \n",
       "28             3100  \n",
       "29             3039  \n",
       "30             2690  \n",
       "31             2969  \n",
       "32             2836  \n",
       "33                7  \n",
       "34                1  \n",
       "35                1  "
      ]
     },
     "execution_count": 160,
     "metadata": {},
     "output_type": "execute_result"
    }
   ],
   "source": [
    "# Сброс ограничений на количество символов в записи\n",
    "pd.set_option('display.max_colwidth', None)\n",
    "\n",
    "# Описание границ метрик, по которым сотрудники по работе с покупателями смогут:\n",
    "#     а) понять к какому сегменту относится пользователь\n",
    "#     б) настроить работу с пользователями, в зависимости от сегмента\n",
    "    \n",
    "rfm.groupby(['RFM_score', 'segment', 'description_intervals'], as_index=False)  \\\n",
    "    .agg({'customer_unique_id':'count'})  \\\n",
    "    .rename(columns={'customer_unique_id': 'count_customers'})"
   ]
  },
  {
   "cell_type": "code",
   "execution_count": 161,
   "metadata": {},
   "outputs": [
    {
     "data": {
      "image/png": "[encoded data removed]",
      "text/plain": [
       "<Figure size 1080x720 with 1 Axes>"
      ]
     },
     "metadata": {},
     "output_type": "display_data"
    }
   ],
   "source": [
    "sns.set(rc={\"figure.figsize\": (15, 10)})\n",
    "ax = sns.countplot(y=rfm.RFM_score, order=rfm.RFM_score.value_counts().index)"
   ]
  },
  {
   "cell_type": "markdown",
   "metadata": {},
   "source": [
    "Визуализация показала нам ТОП-5 покупателей:\n",
    "\n",
    "311 - спящие: пользователи, покупающие редко и мало;\n",
    "\n",
    "511 - новые пользователи: недавние пользователи, которые купили что-то недорогое;\n",
    "\n",
    "112 - бездействующие: купили что-то недорогое один раз и не вернулись;\n",
    "\n",
    "312 - спящие: покупали относительно недавно, мало заказов, небольшая выручка\n",
    "\n",
    "512 - потенциально-лояльные: покупали недавно, не мало заказов, средняя выручка"
   ]
  },
  {
   "cell_type": "code",
   "execution_count": null,
   "metadata": {},
   "outputs": [],
   "source": []
  },
  {
   "cell_type": "code",
   "execution_count": null,
   "metadata": {},
   "outputs": [],
   "source": []
  }
 ],
 "metadata": {
  "kernelspec": {
   "display_name": "Python 3",
   "language": "python",
   "name": "python3"
  },
  "language_info": {
   "codemirror_mode": {
    "name": "ipython",
    "version": 3
   },
   "file_extension": ".py",
   "mimetype": "text/x-python",
   "name": "python",
   "nbconvert_exporter": "python",
   "pygments_lexer": "ipython3",
   "version": "3.7.3"
  }
 },
 "nbformat": 4,
 "nbformat_minor": 4
}
